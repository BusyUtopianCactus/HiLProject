{
  "cells": [
    {
      "cell_type": "code",
      "execution_count": 1,
      "metadata": {
        "id": "jDegvJ3Rn05Z"
      },
      "outputs": [
        {
          "name": "stdout",
          "output_type": "stream",
          "text": [
            "\n",
            "\u001b[1m[\u001b[0m\u001b[34;49mnotice\u001b[0m\u001b[1;39;49m]\u001b[0m\u001b[39;49m A new release of pip is available: \u001b[0m\u001b[31;49m23.2.1\u001b[0m\u001b[39;49m -> \u001b[0m\u001b[32;49m23.3.1\u001b[0m\n",
            "\u001b[1m[\u001b[0m\u001b[34;49mnotice\u001b[0m\u001b[1;39;49m]\u001b[0m\u001b[39;49m To update, run: \u001b[0m\u001b[32;49mpip install --upgrade pip\u001b[0m\n"
          ]
        }
      ],
      "source": [
        "# !pip install -q timm\n",
        "from transformers import DetrFeatureExtractor\n",
        "import torch\n",
        "import fitz  # PyMuPDF\n",
        "from PIL import Image\n",
        "from transformers import TableTransformerForObjectDetection\n",
        "import matplotlib.pyplot as plt\n",
        "from huggingface_hub import hf_hub_download\n",
        "import camelot\n",
        "\n"
      ]
    },
    {
      "cell_type": "code",
      "execution_count": null,
      "metadata": {},
      "outputs": [],
      "source": [
        "path to folder of documents\n",
        "\n",
        "\n",
        "folder of saved CVS"
      ]
    },
    {
      "cell_type": "code",
      "execution_count": 114,
      "metadata": {},
      "outputs": [],
      "source": [
        "\n",
        "def get_image(folder_path: str):\n",
        "    files = {}\n",
        "\n",
        "    # Iterate through each file in the folder\n",
        "    for file in os.listdir(folder_path):\n",
        "        images = []\n",
        "        widths = []\n",
        "        heights = []\n",
        "        # Check if the file is a PDF\n",
        "        if file.endswith(\".pdf\"):\n",
        "            file_path = os.path.join(folder_path, file)\n",
        "\n",
        "            # Open the PDF file\n",
        "            pdf_document = fitz.open(file_path)\n",
        "            print(file)\n",
        "            # Process a specific page (e.g., page number 132)\n",
        "            # page_number = 132\n",
        "            for page_number in range(len(pdf_document)):\n",
        "                # if page_number < len(pdf_document):\n",
        "                page = pdf_document.load_page(page_number)\n",
        "                pix = page.get_pixmap()\n",
        "                image_path = f\"page_{page_number}_{file}.png\"\n",
        "                pix.save(image_path)\n",
        "\n",
        "                # Open and process the image with PIL\n",
        "                image = Image.open(image_path).convert(\"RGB\")\n",
        "                width, height = image.size\n",
        "\n",
        "                # Store the image and its dimensions\n",
        "                images.append(image)\n",
        "                widths.append(width)\n",
        "                heights.append(height)\n",
        "\n",
        "        files[file] = {\"name\": file, \"images\": images, \"widths\": widths, \"heights\": heights}\n",
        "\n",
        "    return files\n",
        "\n",
        "# Usage example\n",
        "# files = get_images(\"/Users/danielbasman/Desktop/Desktop - Daniel’s MacBook Pro/MyStuff/Classes/Human In Loop/folder_of_10K\")\n",
        "# print(files)\n"
      ]
    },
    {
      "cell_type": "code",
      "execution_count": 29,
      "metadata": {},
      "outputs": [
        {
          "name": "stdout",
          "output_type": "stream",
          "text": [
            "{'name': '10-K.pdf', 'images': [<PIL.Image.Image image mode=RGB size=612x792 at 0x15E06F460>, <PIL.Image.Image image mode=RGB size=612x792 at 0x15E06FD00>, <PIL.Image.Image image mode=RGB size=612x792 at 0x15E06FBE0>, <PIL.Image.Image image mode=RGB size=612x792 at 0x15E06E7A0>, <PIL.Image.Image image mode=RGB size=612x792 at 0x15E06FD90>, <PIL.Image.Image image mode=RGB size=612x792 at 0x15E068A30>, <PIL.Image.Image image mode=RGB size=612x792 at 0x15E0686A0>, <PIL.Image.Image image mode=RGB size=612x792 at 0x15E06FBB0>, <PIL.Image.Image image mode=RGB size=612x792 at 0x15E06F0D0>, <PIL.Image.Image image mode=RGB size=612x792 at 0x15E19D0F0>, <PIL.Image.Image image mode=RGB size=612x792 at 0x15E076DD0>, <PIL.Image.Image image mode=RGB size=612x792 at 0x15E085DB0>, <PIL.Image.Image image mode=RGB size=612x792 at 0x15E085EA0>, <PIL.Image.Image image mode=RGB size=612x792 at 0x15E085E10>, <PIL.Image.Image image mode=RGB size=612x792 at 0x15E085DE0>, <PIL.Image.Image image mode=RGB size=612x792 at 0x15E087E80>, <PIL.Image.Image image mode=RGB size=612x792 at 0x15E084EB0>, <PIL.Image.Image image mode=RGB size=612x792 at 0x15E084F10>, <PIL.Image.Image image mode=RGB size=612x792 at 0x15E084E50>, <PIL.Image.Image image mode=RGB size=612x792 at 0x15E084E20>, <PIL.Image.Image image mode=RGB size=612x792 at 0x15E087220>, <PIL.Image.Image image mode=RGB size=612x792 at 0x15E085990>, <PIL.Image.Image image mode=RGB size=612x792 at 0x15E0867A0>, <PIL.Image.Image image mode=RGB size=612x792 at 0x15E085F30>, <PIL.Image.Image image mode=RGB size=612x792 at 0x15E085F60>, <PIL.Image.Image image mode=RGB size=612x792 at 0x15E085F00>, <PIL.Image.Image image mode=RGB size=612x792 at 0x15E0857B0>, <PIL.Image.Image image mode=RGB size=612x792 at 0x15E0857E0>, <PIL.Image.Image image mode=RGB size=612x792 at 0x15E085810>, <PIL.Image.Image image mode=RGB size=612x792 at 0x15E085840>, <PIL.Image.Image image mode=RGB size=612x792 at 0x15E085720>, <PIL.Image.Image image mode=RGB size=612x792 at 0x15E086920>, <PIL.Image.Image image mode=RGB size=612x792 at 0x15E085750>, <PIL.Image.Image image mode=RGB size=612x792 at 0x15E085780>, <PIL.Image.Image image mode=RGB size=612x792 at 0x15E085F90>, <PIL.Image.Image image mode=RGB size=612x792 at 0x15E085ED0>, <PIL.Image.Image image mode=RGB size=612x792 at 0x15E0871C0>, <PIL.Image.Image image mode=RGB size=612x792 at 0x15E0871F0>, <PIL.Image.Image image mode=RGB size=612x792 at 0x15E087190>, <PIL.Image.Image image mode=RGB size=612x792 at 0x15E085E40>, <PIL.Image.Image image mode=RGB size=612x792 at 0x15E085E70>, <PIL.Image.Image image mode=RGB size=612x792 at 0x15E086E90>, <PIL.Image.Image image mode=RGB size=612x792 at 0x15E084E80>, <PIL.Image.Image image mode=RGB size=612x792 at 0x15E085870>, <PIL.Image.Image image mode=RGB size=612x792 at 0x15E0858A0>, <PIL.Image.Image image mode=RGB size=612x792 at 0x15E0858D0>, <PIL.Image.Image image mode=RGB size=612x792 at 0x15E085900>, <PIL.Image.Image image mode=RGB size=612x792 at 0x15E085960>, <PIL.Image.Image image mode=RGB size=612x792 at 0x15E087EE0>, <PIL.Image.Image image mode=RGB size=612x792 at 0x15E087D90>, <PIL.Image.Image image mode=RGB size=612x792 at 0x15E087F10>, <PIL.Image.Image image mode=RGB size=612x792 at 0x15E087E20>, <PIL.Image.Image image mode=RGB size=612x792 at 0x15E0863E0>, <PIL.Image.Image image mode=RGB size=612x792 at 0x15E084B20>, <PIL.Image.Image image mode=RGB size=612x792 at 0x15E087FA0>, <PIL.Image.Image image mode=RGB size=612x792 at 0x15E085930>, <PIL.Image.Image image mode=RGB size=612x792 at 0x15E087130>, <PIL.Image.Image image mode=RGB size=612x792 at 0x15E087160>, <PIL.Image.Image image mode=RGB size=612x792 at 0x15E087FD0>, <PIL.Image.Image image mode=RGB size=612x792 at 0x15E087EB0>, <PIL.Image.Image image mode=RGB size=612x792 at 0x15E087F40>, <PIL.Image.Image image mode=RGB size=612x792 at 0x15E084A60>, <PIL.Image.Image image mode=RGB size=612x792 at 0x15E086200>, <PIL.Image.Image image mode=RGB size=612x792 at 0x15E0863B0>, <PIL.Image.Image image mode=RGB size=612x792 at 0x15E0860E0>, <PIL.Image.Image image mode=RGB size=612x792 at 0x15E084970>, <PIL.Image.Image image mode=RGB size=612x792 at 0x15E084A30>, <PIL.Image.Image image mode=RGB size=612x792 at 0x15E086050>, <PIL.Image.Image image mode=RGB size=612x792 at 0x15E084AF0>, <PIL.Image.Image image mode=RGB size=612x792 at 0x15E084A00>, <PIL.Image.Image image mode=RGB size=612x792 at 0x15E0848E0>, <PIL.Image.Image image mode=RGB size=612x792 at 0x15E086320>, <PIL.Image.Image image mode=RGB size=612x792 at 0x15E086170>, <PIL.Image.Image image mode=RGB size=612x792 at 0x15E084A90>, <PIL.Image.Image image mode=RGB size=612x792 at 0x15E084AC0>, <PIL.Image.Image image mode=RGB size=612x792 at 0x15E0864D0>, <PIL.Image.Image image mode=RGB size=612x792 at 0x15E084910>, <PIL.Image.Image image mode=RGB size=612x792 at 0x15E085A20>, <PIL.Image.Image image mode=RGB size=612x792 at 0x15E085A80>, <PIL.Image.Image image mode=RGB size=612x792 at 0x15E0859C0>, <PIL.Image.Image image mode=RGB size=612x792 at 0x15E086620>, <PIL.Image.Image image mode=RGB size=612x792 at 0x15E19CAC0>, <PIL.Image.Image image mode=RGB size=612x792 at 0x15E06A980>, <PIL.Image.Image image mode=RGB size=612x792 at 0x15E06E680>, <PIL.Image.Image image mode=RGB size=612x792 at 0x15E070190>, <PIL.Image.Image image mode=RGB size=612x792 at 0x15E074A30>, <PIL.Image.Image image mode=RGB size=612x792 at 0x15E2272B0>, <PIL.Image.Image image mode=RGB size=612x792 at 0x15E084EE0>, <PIL.Image.Image image mode=RGB size=612x792 at 0x16263E650>, <PIL.Image.Image image mode=RGB size=612x792 at 0x15E0859F0>, <PIL.Image.Image image mode=RGB size=612x792 at 0x15E06EF80>, <PIL.Image.Image image mode=RGB size=612x792 at 0x16263DDB0>, <PIL.Image.Image image mode=RGB size=612x792 at 0x15E085D80>, <PIL.Image.Image image mode=RGB size=612x792 at 0x15E092440>, <PIL.Image.Image image mode=RGB size=612x792 at 0x15E090460>, <PIL.Image.Image image mode=RGB size=612x792 at 0x15E090490>, <PIL.Image.Image image mode=RGB size=612x792 at 0x15E090400>, <PIL.Image.Image image mode=RGB size=612x792 at 0x15E0904C0>, <PIL.Image.Image image mode=RGB size=612x792 at 0x15E0904F0>, <PIL.Image.Image image mode=RGB size=612x792 at 0x15E090520>, <PIL.Image.Image image mode=RGB size=612x792 at 0x15E090550>, <PIL.Image.Image image mode=RGB size=612x792 at 0x15E090580>, <PIL.Image.Image image mode=RGB size=612x792 at 0x15E0905B0>, <PIL.Image.Image image mode=RGB size=612x792 at 0x15E0905E0>, <PIL.Image.Image image mode=RGB size=612x792 at 0x15E090610>, <PIL.Image.Image image mode=RGB size=612x792 at 0x15E090640>, <PIL.Image.Image image mode=RGB size=612x792 at 0x15E090670>, <PIL.Image.Image image mode=RGB size=612x792 at 0x15E0906A0>, <PIL.Image.Image image mode=RGB size=612x792 at 0x15E0906D0>, <PIL.Image.Image image mode=RGB size=612x792 at 0x15E090700>, <PIL.Image.Image image mode=RGB size=612x792 at 0x15E090730>, <PIL.Image.Image image mode=RGB size=612x792 at 0x15E090760>, <PIL.Image.Image image mode=RGB size=612x792 at 0x15E090790>, <PIL.Image.Image image mode=RGB size=612x792 at 0x15E0907C0>, <PIL.Image.Image image mode=RGB size=612x792 at 0x15E0907F0>, <PIL.Image.Image image mode=RGB size=612x792 at 0x15E090820>, <PIL.Image.Image image mode=RGB size=612x792 at 0x15E090850>, <PIL.Image.Image image mode=RGB size=612x792 at 0x15E090880>, <PIL.Image.Image image mode=RGB size=612x792 at 0x15E0908B0>, <PIL.Image.Image image mode=RGB size=612x792 at 0x15E0908E0>, <PIL.Image.Image image mode=RGB size=612x792 at 0x15E090910>, <PIL.Image.Image image mode=RGB size=612x792 at 0x15E090940>, <PIL.Image.Image image mode=RGB size=612x792 at 0x15E090970>, <PIL.Image.Image image mode=RGB size=612x792 at 0x15E0909A0>, <PIL.Image.Image image mode=RGB size=612x792 at 0x15E0909D0>, <PIL.Image.Image image mode=RGB size=612x792 at 0x15E090A00>, <PIL.Image.Image image mode=RGB size=612x792 at 0x15E090A30>, <PIL.Image.Image image mode=RGB size=612x792 at 0x15E090A60>, <PIL.Image.Image image mode=RGB size=612x792 at 0x15E090A90>, <PIL.Image.Image image mode=RGB size=612x792 at 0x15E090AC0>, <PIL.Image.Image image mode=RGB size=612x792 at 0x15E090AF0>, <PIL.Image.Image image mode=RGB size=612x792 at 0x15E090B20>, <PIL.Image.Image image mode=RGB size=612x792 at 0x15E090B50>, <PIL.Image.Image image mode=RGB size=612x792 at 0x15E090B80>, <PIL.Image.Image image mode=RGB size=612x792 at 0x15E090BB0>, <PIL.Image.Image image mode=RGB size=612x792 at 0x15E090BE0>, <PIL.Image.Image image mode=RGB size=612x792 at 0x15E090C10>, <PIL.Image.Image image mode=RGB size=612x792 at 0x15E090C40>, <PIL.Image.Image image mode=RGB size=612x792 at 0x15E090C70>, <PIL.Image.Image image mode=RGB size=612x792 at 0x15E090CA0>, <PIL.Image.Image image mode=RGB size=612x792 at 0x15E090CD0>, <PIL.Image.Image image mode=RGB size=612x792 at 0x15E090D00>, <PIL.Image.Image image mode=RGB size=612x792 at 0x15E090D60>, <PIL.Image.Image image mode=RGB size=612x792 at 0x15DE1A7A0>, <PIL.Image.Image image mode=RGB size=612x792 at 0x15E06FD30>, <PIL.Image.Image image mode=RGB size=612x792 at 0x15E068820>, <PIL.Image.Image image mode=RGB size=612x792 at 0x15E086AD0>, <PIL.Image.Image image mode=RGB size=612x792 at 0x15E227640>, <PIL.Image.Image image mode=RGB size=612x792 at 0x15E0A86A0>, <PIL.Image.Image image mode=RGB size=612x792 at 0x15E0A8F70>, <PIL.Image.Image image mode=RGB size=612x792 at 0x15E0A8FA0>, <PIL.Image.Image image mode=RGB size=612x792 at 0x15E0A8FD0>, <PIL.Image.Image image mode=RGB size=612x792 at 0x15E0A9000>, <PIL.Image.Image image mode=RGB size=612x792 at 0x15E0A9030>], 'widths': [612, 612, 612, 612, 612, 612, 612, 612, 612, 612, 612, 612, 612, 612, 612, 612, 612, 612, 612, 612, 612, 612, 612, 612, 612, 612, 612, 612, 612, 612, 612, 612, 612, 612, 612, 612, 612, 612, 612, 612, 612, 612, 612, 612, 612, 612, 612, 612, 612, 612, 612, 612, 612, 612, 612, 612, 612, 612, 612, 612, 612, 612, 612, 612, 612, 612, 612, 612, 612, 612, 612, 612, 612, 612, 612, 612, 612, 612, 612, 612, 612, 612, 612, 612, 612, 612, 612, 612, 612, 612, 612, 612, 612, 612, 612, 612, 612, 612, 612, 612, 612, 612, 612, 612, 612, 612, 612, 612, 612, 612, 612, 612, 612, 612, 612, 612, 612, 612, 612, 612, 612, 612, 612, 612, 612, 612, 612, 612, 612, 612, 612, 612, 612, 612, 612, 612, 612, 612, 612, 612, 612, 612, 612, 612, 612, 612, 612, 612, 612, 612, 612, 612, 612, 612], 'heights': [792, 792, 792, 792, 792, 792, 792, 792, 792, 792, 792, 792, 792, 792, 792, 792, 792, 792, 792, 792, 792, 792, 792, 792, 792, 792, 792, 792, 792, 792, 792, 792, 792, 792, 792, 792, 792, 792, 792, 792, 792, 792, 792, 792, 792, 792, 792, 792, 792, 792, 792, 792, 792, 792, 792, 792, 792, 792, 792, 792, 792, 792, 792, 792, 792, 792, 792, 792, 792, 792, 792, 792, 792, 792, 792, 792, 792, 792, 792, 792, 792, 792, 792, 792, 792, 792, 792, 792, 792, 792, 792, 792, 792, 792, 792, 792, 792, 792, 792, 792, 792, 792, 792, 792, 792, 792, 792, 792, 792, 792, 792, 792, 792, 792, 792, 792, 792, 792, 792, 792, 792, 792, 792, 792, 792, 792, 792, 792, 792, 792, 792, 792, 792, 792, 792, 792, 792, 792, 792, 792, 792, 792, 792, 792, 792, 792, 792, 792, 792, 792, 792, 792, 792, 792]}\n",
            "{'name': '10-K-EX2.pdf', 'images': [<PIL.Image.Image image mode=RGB size=612x792 at 0x16260DE40>, <PIL.Image.Image image mode=RGB size=612x792 at 0x15E0700A0>, <PIL.Image.Image image mode=RGB size=612x792 at 0x15E078A90>, <PIL.Image.Image image mode=RGB size=612x792 at 0x15DEF53C0>, <PIL.Image.Image image mode=RGB size=612x792 at 0x15E073430>, <PIL.Image.Image image mode=RGB size=612x792 at 0x15DEF6A70>, <PIL.Image.Image image mode=RGB size=612x792 at 0x16260C6A0>, <PIL.Image.Image image mode=RGB size=612x792 at 0x15DEF6110>, <PIL.Image.Image image mode=RGB size=612x792 at 0x15DEF4D60>, <PIL.Image.Image image mode=RGB size=612x792 at 0x15DEF68F0>, <PIL.Image.Image image mode=RGB size=612x792 at 0x15DEF4F10>, <PIL.Image.Image image mode=RGB size=612x792 at 0x15DEF4610>, <PIL.Image.Image image mode=RGB size=612x792 at 0x15DEF6C80>, <PIL.Image.Image image mode=RGB size=612x792 at 0x15DEF50C0>, <PIL.Image.Image image mode=RGB size=612x792 at 0x15DEF4400>, <PIL.Image.Image image mode=RGB size=612x792 at 0x15DEF69E0>, <PIL.Image.Image image mode=RGB size=612x792 at 0x15DEF7EE0>, <PIL.Image.Image image mode=RGB size=612x792 at 0x15DEF4F40>, <PIL.Image.Image image mode=RGB size=612x792 at 0x15DEF7CA0>, <PIL.Image.Image image mode=RGB size=612x792 at 0x15DEF5E40>, <PIL.Image.Image image mode=RGB size=612x792 at 0x15DEF5390>, <PIL.Image.Image image mode=RGB size=612x792 at 0x15DEF73A0>, <PIL.Image.Image image mode=RGB size=612x792 at 0x15DEF7280>, <PIL.Image.Image image mode=RGB size=612x792 at 0x15DEF73D0>, <PIL.Image.Image image mode=RGB size=612x792 at 0x15DEF72E0>, <PIL.Image.Image image mode=RGB size=612x792 at 0x15DEF75E0>, <PIL.Image.Image image mode=RGB size=612x792 at 0x15DEF60E0>, <PIL.Image.Image image mode=RGB size=612x792 at 0x15DEF7550>, <PIL.Image.Image image mode=RGB size=612x792 at 0x15DEF7310>, <PIL.Image.Image image mode=RGB size=612x792 at 0x15DEF7580>, <PIL.Image.Image image mode=RGB size=612x792 at 0x15DEF48E0>, <PIL.Image.Image image mode=RGB size=612x792 at 0x15DEF7340>, <PIL.Image.Image image mode=RGB size=612x792 at 0x15DEF68C0>, <PIL.Image.Image image mode=RGB size=612x792 at 0x15DEF4820>, <PIL.Image.Image image mode=RGB size=612x792 at 0x15DEF7640>, <PIL.Image.Image image mode=RGB size=612x792 at 0x15DEF7610>, <PIL.Image.Image image mode=RGB size=612x792 at 0x15DEF41F0>, <PIL.Image.Image image mode=RGB size=612x792 at 0x15DEF6140>, <PIL.Image.Image image mode=RGB size=612x792 at 0x15DEF47F0>, <PIL.Image.Image image mode=RGB size=612x792 at 0x15DEF6530>, <PIL.Image.Image image mode=RGB size=612x792 at 0x15DEF51E0>, <PIL.Image.Image image mode=RGB size=612x792 at 0x15DEF7A00>, <PIL.Image.Image image mode=RGB size=612x792 at 0x15DEF6A40>, <PIL.Image.Image image mode=RGB size=612x792 at 0x15DEF7D30>, <PIL.Image.Image image mode=RGB size=612x792 at 0x15DEF65C0>, <PIL.Image.Image image mode=RGB size=612x792 at 0x15DEF7040>, <PIL.Image.Image image mode=RGB size=612x792 at 0x15DEF7400>, <PIL.Image.Image image mode=RGB size=612x792 at 0x15DEF5540>, <PIL.Image.Image image mode=RGB size=612x792 at 0x15DEF5060>, <PIL.Image.Image image mode=RGB size=612x792 at 0x15DEF6560>, <PIL.Image.Image image mode=RGB size=612x792 at 0x15DEF4E20>, <PIL.Image.Image image mode=RGB size=612x792 at 0x15DEF7520>, <PIL.Image.Image image mode=RGB size=612x792 at 0x15DEF5300>, <PIL.Image.Image image mode=RGB size=612x792 at 0x15DEF6380>, <PIL.Image.Image image mode=RGB size=612x792 at 0x15DEF56F0>, <PIL.Image.Image image mode=RGB size=612x792 at 0x15DEF4850>, <PIL.Image.Image image mode=RGB size=612x792 at 0x15DEF5660>, <PIL.Image.Image image mode=RGB size=612x792 at 0x15DEF6F20>, <PIL.Image.Image image mode=RGB size=612x792 at 0x15DEF7250>, <PIL.Image.Image image mode=RGB size=612x792 at 0x15DEF5FC0>, <PIL.Image.Image image mode=RGB size=612x792 at 0x15DEF4FA0>, <PIL.Image.Image image mode=RGB size=612x792 at 0x15DEF5C90>, <PIL.Image.Image image mode=RGB size=612x792 at 0x15DEF6FE0>, <PIL.Image.Image image mode=RGB size=612x792 at 0x15DEF5150>, <PIL.Image.Image image mode=RGB size=612x792 at 0x15DEF5ED0>, <PIL.Image.Image image mode=RGB size=612x792 at 0x15DEF7190>, <PIL.Image.Image image mode=RGB size=612x792 at 0x15DEF5F90>, <PIL.Image.Image image mode=RGB size=612x792 at 0x15DEF43A0>, <PIL.Image.Image image mode=RGB size=612x792 at 0x15DEF42E0>, <PIL.Image.Image image mode=RGB size=612x792 at 0x15DEF6B30>, <PIL.Image.Image image mode=RGB size=612x792 at 0x15DEF42B0>, <PIL.Image.Image image mode=RGB size=612x792 at 0x15DEF4340>, <PIL.Image.Image image mode=RGB size=612x792 at 0x15DEF5F00>, <PIL.Image.Image image mode=RGB size=612x792 at 0x15DEF5CC0>, <PIL.Image.Image image mode=RGB size=612x792 at 0x15DEF67D0>, <PIL.Image.Image image mode=RGB size=612x792 at 0x15DEF50F0>, <PIL.Image.Image image mode=RGB size=612x792 at 0x15DEF5F60>, <PIL.Image.Image image mode=RGB size=612x792 at 0x15DEF7460>, <PIL.Image.Image image mode=RGB size=612x792 at 0x15DEF53F0>, <PIL.Image.Image image mode=RGB size=612x792 at 0x15DEF63B0>, <PIL.Image.Image image mode=RGB size=612x792 at 0x15DEF7AF0>, <PIL.Image.Image image mode=RGB size=612x792 at 0x15DEF7A30>, <PIL.Image.Image image mode=RGB size=612x792 at 0x15DEF44C0>, <PIL.Image.Image image mode=RGB size=612x792 at 0x15DEF4490>, <PIL.Image.Image image mode=RGB size=612x792 at 0x15DEF61D0>, <PIL.Image.Image image mode=RGB size=612x792 at 0x15DEF5030>, <PIL.Image.Image image mode=RGB size=612x792 at 0x15DEF7A90>, <PIL.Image.Image image mode=RGB size=612x792 at 0x15DEF6890>, <PIL.Image.Image image mode=RGB size=612x792 at 0x15DEF7940>, <PIL.Image.Image image mode=RGB size=612x792 at 0x15DEF6EF0>, <PIL.Image.Image image mode=RGB size=612x792 at 0x15DEF7220>, <PIL.Image.Image image mode=RGB size=612x792 at 0x15DEF5BA0>, <PIL.Image.Image image mode=RGB size=612x792 at 0x15DEF5870>, <PIL.Image.Image image mode=RGB size=612x792 at 0x15DEF58A0>, <PIL.Image.Image image mode=RGB size=612x792 at 0x15DEF6AD0>, <PIL.Image.Image image mode=RGB size=612x792 at 0x15DEF5900>, <PIL.Image.Image image mode=RGB size=612x792 at 0x15DEF5930>, <PIL.Image.Image image mode=RGB size=612x792 at 0x15DEF5720>, <PIL.Image.Image image mode=RGB size=612x792 at 0x15DEF5990>, <PIL.Image.Image image mode=RGB size=612x792 at 0x15DEF59C0>, <PIL.Image.Image image mode=RGB size=612x792 at 0x15DEF57B0>, <PIL.Image.Image image mode=RGB size=612x792 at 0x15DEF5A20>, <PIL.Image.Image image mode=RGB size=612x792 at 0x15DEF5A80>, <PIL.Image.Image image mode=RGB size=612x792 at 0x15DEF5840>, <PIL.Image.Image image mode=RGB size=612x792 at 0x15DEF6D40>, <PIL.Image.Image image mode=RGB size=612x792 at 0x15DEF6B60>, <PIL.Image.Image image mode=RGB size=612x792 at 0x15DEF4D90>, <PIL.Image.Image image mode=RGB size=612x792 at 0x15E073D00>, <PIL.Image.Image image mode=RGB size=612x792 at 0x15E070130>, <PIL.Image.Image image mode=RGB size=612x792 at 0x15E079960>, <PIL.Image.Image image mode=RGB size=612x792 at 0x15DEF58D0>, <PIL.Image.Image image mode=RGB size=612x792 at 0x13A007AF0>, <PIL.Image.Image image mode=RGB size=612x792 at 0x15E074490>, <PIL.Image.Image image mode=RGB size=612x792 at 0x15E076320>, <PIL.Image.Image image mode=RGB size=612x792 at 0x15E075750>, <PIL.Image.Image image mode=RGB size=612x792 at 0x15E075000>, <PIL.Image.Image image mode=RGB size=612x792 at 0x15E076E30>, <PIL.Image.Image image mode=RGB size=612x792 at 0x15E077CA0>, <PIL.Image.Image image mode=RGB size=612x792 at 0x15DEF5AE0>, <PIL.Image.Image image mode=RGB size=612x792 at 0x15DEF6170>, <PIL.Image.Image image mode=RGB size=612x792 at 0x15E074EE0>, <PIL.Image.Image image mode=RGB size=612x792 at 0x15E071000>, <PIL.Image.Image image mode=RGB size=612x792 at 0x15DEF71F0>, <PIL.Image.Image image mode=RGB size=612x792 at 0x15E068520>, <PIL.Image.Image image mode=RGB size=612x792 at 0x15E068A00>, <PIL.Image.Image image mode=RGB size=612x792 at 0x15E06B190>, <PIL.Image.Image image mode=RGB size=612x792 at 0x15E0684F0>, <PIL.Image.Image image mode=RGB size=612x792 at 0x15E06A800>, <PIL.Image.Image image mode=RGB size=612x792 at 0x15E06A770>, <PIL.Image.Image image mode=RGB size=612x792 at 0x15E068B80>, <PIL.Image.Image image mode=RGB size=612x792 at 0x15E069630>, <PIL.Image.Image image mode=RGB size=612x792 at 0x15E068730>, <PIL.Image.Image image mode=RGB size=612x792 at 0x15E068670>, <PIL.Image.Image image mode=RGB size=612x792 at 0x15E06A860>, <PIL.Image.Image image mode=RGB size=612x792 at 0x15E06AB30>, <PIL.Image.Image image mode=RGB size=612x792 at 0x15E06A680>, <PIL.Image.Image image mode=RGB size=612x792 at 0x15E076410>, <PIL.Image.Image image mode=RGB size=612x792 at 0x15E075C00>, <PIL.Image.Image image mode=RGB size=612x792 at 0x15E238040>, <PIL.Image.Image image mode=RGB size=612x792 at 0x15DEF6830>, <PIL.Image.Image image mode=RGB size=612x792 at 0x15DEF6C20>, <PIL.Image.Image image mode=RGB size=612x792 at 0x15E06FC10>, <PIL.Image.Image image mode=RGB size=612x792 at 0x15E06EF50>, <PIL.Image.Image image mode=RGB size=612x792 at 0x15E06FC40>, <PIL.Image.Image image mode=RGB size=612x792 at 0x15E06EBF0>, <PIL.Image.Image image mode=RGB size=612x792 at 0x15E06ECB0>, <PIL.Image.Image image mode=RGB size=612x792 at 0x15E06FDC0>], 'widths': [612, 612, 612, 612, 612, 612, 612, 612, 612, 612, 612, 612, 612, 612, 612, 612, 612, 612, 612, 612, 612, 612, 612, 612, 612, 612, 612, 612, 612, 612, 612, 612, 612, 612, 612, 612, 612, 612, 612, 612, 612, 612, 612, 612, 612, 612, 612, 612, 612, 612, 612, 612, 612, 612, 612, 612, 612, 612, 612, 612, 612, 612, 612, 612, 612, 612, 612, 612, 612, 612, 612, 612, 612, 612, 612, 612, 612, 612, 612, 612, 612, 612, 612, 612, 612, 612, 612, 612, 612, 612, 612, 612, 612, 612, 612, 612, 612, 612, 612, 612, 612, 612, 612, 612, 612, 612, 612, 612, 612, 612, 612, 612, 612, 612, 612, 612, 612, 612, 612, 612, 612, 612, 612, 612, 612, 612, 612, 612, 612, 612, 612, 612, 612, 612, 612, 612, 612, 612, 612, 612, 612, 612, 612, 612, 612, 612, 612], 'heights': [792, 792, 792, 792, 792, 792, 792, 792, 792, 792, 792, 792, 792, 792, 792, 792, 792, 792, 792, 792, 792, 792, 792, 792, 792, 792, 792, 792, 792, 792, 792, 792, 792, 792, 792, 792, 792, 792, 792, 792, 792, 792, 792, 792, 792, 792, 792, 792, 792, 792, 792, 792, 792, 792, 792, 792, 792, 792, 792, 792, 792, 792, 792, 792, 792, 792, 792, 792, 792, 792, 792, 792, 792, 792, 792, 792, 792, 792, 792, 792, 792, 792, 792, 792, 792, 792, 792, 792, 792, 792, 792, 792, 792, 792, 792, 792, 792, 792, 792, 792, 792, 792, 792, 792, 792, 792, 792, 792, 792, 792, 792, 792, 792, 792, 792, 792, 792, 792, 792, 792, 792, 792, 792, 792, 792, 792, 792, 792, 792, 792, 792, 792, 792, 792, 792, 792, 792, 792, 792, 792, 792, 792, 792, 792, 792, 792, 792]}\n"
          ]
        }
      ],
      "source": [
        "# print(files[\"name\"])\n",
        "print((files[\"10-K.pdf\"]))\n",
        "print((files[\"10-K-EX2.pdf\"]))"
      ]
    },
    {
      "cell_type": "code",
      "execution_count": 115,
      "metadata": {
        "colab": {
          "base_uri": "https://localhost:8080/"
        },
        "id": "uuvc_hZ7PTEj",
        "outputId": "1d67020e-9840-41de-e9bc-cd48dd7f3c1c"
      },
      "outputs": [],
      "source": [
        "def extract_features(image, width, height, model):\n",
        "\n",
        "  feature_extractor = DetrFeatureExtractor()\n",
        "  encoding = feature_extractor(image, return_tensors=\"pt\")\n",
        "  # encoding.keys()\n",
        "  # print(encoding['pixel_values'].shape)\n",
        "\n",
        "\n",
        "  with torch.no_grad():\n",
        "    outputs = model(**encoding)\n",
        "    results = feature_extractor.post_process_object_detection(outputs, threshold=0.001, target_sizes=[(height, width)])[0]\n",
        "\n",
        "    return results, feature_extractor\n",
        "# model, results, feature_extractor = extract_features(img, width, height)"
      ]
    },
    {
      "cell_type": "code",
      "execution_count": 116,
      "metadata": {
        "id": "PNYQe2xbl5vl"
      },
      "outputs": [],
      "source": [
        "\n",
        "def plot_box(pil_img, boxes):\n",
        "    COLORS = [[0.000, 0.447, 0.741], [0.850, 0.325, 0.098], [0.929, 0.694, 0.125],\n",
        "          [0.494, 0.184, 0.556], [0.466, 0.674, 0.188], [0.301, 0.745, 0.933]]\n",
        "\n",
        "    plt.figure(figsize=(16,10))\n",
        "    plt.imshow(pil_img)\n",
        "    ax = plt.gca()\n",
        "    \n",
        "    ax.add_patch(plt.Rectangle((boxes[1], boxes[2]), boxes[3] - boxes[1], -(boxes[2] - boxes[0]),\n",
        "                                   fill=False, color='red', linewidth=3))\n",
        "    \n",
        "    print(\"height: \", boxes[2] - boxes[0])\n",
        "    print(\"width: \", boxes[3] - boxes[1])\n",
        "    plt.axis('on')\n",
        "\n",
        "    plt.show()\n",
        "    \n",
        "def plot_results(pil_img, scores, labels, boxes):\n",
        "    COLORS = [[0.000, 0.447, 0.741], [0.850, 0.325, 0.098], [0.929, 0.694, 0.125],\n",
        "          [0.494, 0.184, 0.556], [0.466, 0.674, 0.188], [0.301, 0.745, 0.933]]\n",
        "    plt.figure(figsize=(16,10))\n",
        "    plt.imshow(pil_img)\n",
        "    ax = plt.gca()\n",
        "    colors = COLORS * 100\n",
        "    for score, label, (xmin, ymin, xmax, ymax),c  in zip(scores.tolist(), labels.tolist(), boxes.tolist(), colors):\n",
        "        ax.add_patch(plt.Rectangle((xmin, ymin), xmax - xmin, ymax - ymin,\n",
        "                                   fill=False, color=c, linewidth=3))\n",
        "        text = f'{model.config.id2label[label]}: {score:0.2f}'\n",
        "        ax.text(xmin, ymin, text, fontsize=8,\n",
        "                bbox=dict(facecolor='yellow', alpha=0.5))\n",
        "    plt.axis('on')\n",
        "\n",
        "    plt.show()"
      ]
    },
    {
      "cell_type": "code",
      "execution_count": 117,
      "metadata": {
        "id": "jge-7sBcly-u"
      },
      "outputs": [],
      "source": [
        "def sort_results(results):\n",
        "\n",
        "    # width, height = image.size\n",
        "\n",
        "    max_score_index = torch.argmax(results['scores'])\n",
        "    max_score = results['scores'][max_score_index]\n",
        "    max_score_box = results['boxes'][max_score_index]\n",
        "\n",
        "    left = []\n",
        "    right = []\n",
        "    top = []\n",
        "    bottom = []\n",
        "\n",
        "    for i in results[\"boxes\"]:\n",
        "        top.append(i[3])\n",
        "        right.append(i[2])\n",
        "        left.append(i[0])\n",
        "        bottom.append(i[1])\n",
        "        # print(\"top y: \", i[3], \"bottom y: \", i[1], \"right x: \", i[2], \"left x: \", i[0])\n",
        "        \n",
        "    # print(left)\n",
        "    final = []\n",
        "\n",
        "    for i in [bottom, left]:\n",
        "        # print(i)\n",
        "        min_value = min(tensor.min() for tensor in i)\n",
        "        # print(min_value)\n",
        "        final.append(min_value)\n",
        "\n",
        "    for i in [top, right]:\n",
        "        # print(i)\n",
        "        max_value = max(tensor.max() for tensor in i)\n",
        "        # print(max_value)\n",
        "        final.append(max_value)\n",
        "    # print(final)\n",
        "    # print(\"Anchor\")\n",
        "    # print(final[1])\n",
        "    # print(final[2])\n",
        "    max_score_box = [max_score_box[3], max_score_box[0], max_score_box[1], max_score_box[2]]\n",
        "    # print(max_score_box)\n",
        "\n",
        "    return final, max_score_box\n",
        "\n",
        "# final, max_score_box = sort_results(results)\n"
      ]
    },
    {
      "cell_type": "code",
      "execution_count": 118,
      "metadata": {},
      "outputs": [],
      "source": [
        "\n",
        "def convert_results(results):\n",
        "    # Converting tensors to lists\n",
        "    data = {key: value.tolist() for key, value in results.items()}\n",
        "\n",
        "    # Combining the scores, labels, and boxes into a single list of tuples for sorting\n",
        "    combined_data = list(zip(data['scores'], data['labels'], data['boxes']))\n",
        "\n",
        "    # Sorting the combined data by scores in descending order\n",
        "    sorted_data = sorted(combined_data, key=lambda x: x[0], reverse=True)\n",
        "\n",
        "    # Reformatting back into the dictionary structure\n",
        "    sorted_dict = {\n",
        "        'scores': [item[0] for item in sorted_data],\n",
        "        'labels': [item[1] for item in sorted_data],\n",
        "        'boxes': [item[2] for item in sorted_data]\n",
        "    }\n",
        "\n",
        "    return sorted_dict"
      ]
    },
    {
      "cell_type": "code",
      "execution_count": 119,
      "metadata": {},
      "outputs": [],
      "source": [
        "def get_table_image(image, final):\n",
        "    width, height = image.size\n",
        "    image.resize((int(width*0.5), int(height*0.5)))\n",
        "\n",
        "    x =  int(final[1])\n",
        "    y = int(final[0])\n",
        "    width = int(final[3] - final[1])\n",
        "    height = int(final[2] - final[0])\n",
        "    print(x, y, width, height)\n",
        "    cropped_image = image.crop((x-30, y-20, x + width + 30, y + height))\n",
        "    # cropped_image.save('cropped_portion.png')\n",
        "\n",
        "    return cropped_image\n",
        "\n",
        "# cropped_image = get_table_image(image, final)\n"
      ]
    },
    {
      "cell_type": "code",
      "execution_count": 120,
      "metadata": {
        "colab": {
          "base_uri": "https://localhost:8080/",
          "height": 465
        },
        "id": "hu0r5mRW957s",
        "outputId": "942ae0a8-f9f6-47d1-f3b0-b53ed3ae5108"
      },
      "outputs": [],
      "source": [
        "def table_structure_results(cropped_image, feature_extractor):\n",
        "\n",
        "  image = cropped_image.convert(\"RGB\")\n",
        "\n",
        "  width, height = image.size\n",
        "  # image.resize((int(width*0.5), int(height*0.5)))\n",
        "\n",
        "  encoding = feature_extractor(image, return_tensors=\"pt\")\n",
        "  # encoding.keys()\n",
        "  model = TableTransformerForObjectDetection.from_pretrained(\"microsoft/table-transformer-structure-recognition\")\n",
        "\n",
        "  with torch.no_grad():\n",
        "    outputs = model(**encoding)\n",
        "\n",
        "    target_sizes = [image.size[::-1]]\n",
        "    results = feature_extractor.post_process_object_detection(outputs, threshold=0.8, target_sizes=target_sizes)[0]\n",
        "\n",
        "    return results, model\n",
        "\n"
      ]
    },
    {
      "cell_type": "code",
      "execution_count": 126,
      "metadata": {},
      "outputs": [
        {
          "name": "stdout",
          "output_type": "stream",
          "text": [
            "10-K-EX2.pdf\n",
            "10-K.pdf\n",
            "{'10-K-EX2.pdf': {'name': '10-K-EX2.pdf', 'images': [<PIL.Image.Image image mode=RGB size=612x792 at 0x16A7CA230>, <PIL.Image.Image image mode=RGB size=612x792 at 0x16A7C9E10>, <PIL.Image.Image image mode=RGB size=612x792 at 0x16A7CA620>, <PIL.Image.Image image mode=RGB size=612x792 at 0x16BED0940>, <PIL.Image.Image image mode=RGB size=612x792 at 0x16A7CA140>, <PIL.Image.Image image mode=RGB size=612x792 at 0x16A7CA7A0>, <PIL.Image.Image image mode=RGB size=612x792 at 0x16BED0A90>, <PIL.Image.Image image mode=RGB size=612x792 at 0x16BED0AF0>, <PIL.Image.Image image mode=RGB size=612x792 at 0x16BED0730>, <PIL.Image.Image image mode=RGB size=612x792 at 0x16BED07C0>, <PIL.Image.Image image mode=RGB size=612x792 at 0x16BED0790>, <PIL.Image.Image image mode=RGB size=612x792 at 0x16BED38B0>, <PIL.Image.Image image mode=RGB size=612x792 at 0x16BED0CD0>, <PIL.Image.Image image mode=RGB size=612x792 at 0x16BED0B80>, <PIL.Image.Image image mode=RGB size=612x792 at 0x16BED0A30>, <PIL.Image.Image image mode=RGB size=612x792 at 0x16BED1090>, <PIL.Image.Image image mode=RGB size=612x792 at 0x16BED0E20>, <PIL.Image.Image image mode=RGB size=612x792 at 0x16BED09A0>, <PIL.Image.Image image mode=RGB size=612x792 at 0x16BED3970>, <PIL.Image.Image image mode=RGB size=612x792 at 0x16BED05E0>, <PIL.Image.Image image mode=RGB size=612x792 at 0x16BED06A0>, <PIL.Image.Image image mode=RGB size=612x792 at 0x16BED0A60>, <PIL.Image.Image image mode=RGB size=612x792 at 0x16BED0760>, <PIL.Image.Image image mode=RGB size=612x792 at 0x16BED06D0>, <PIL.Image.Image image mode=RGB size=612x792 at 0x16BED07F0>, <PIL.Image.Image image mode=RGB size=612x792 at 0x16BED02B0>, <PIL.Image.Image image mode=RGB size=612x792 at 0x16BED0610>, <PIL.Image.Image image mode=RGB size=612x792 at 0x16BED0400>, <PIL.Image.Image image mode=RGB size=612x792 at 0x16BED0220>, <PIL.Image.Image image mode=RGB size=612x792 at 0x16BED0070>, <PIL.Image.Image image mode=RGB size=612x792 at 0x16BED02E0>, <PIL.Image.Image image mode=RGB size=612x792 at 0x16BED0340>, <PIL.Image.Image image mode=RGB size=612x792 at 0x169BAAE30>, <PIL.Image.Image image mode=RGB size=612x792 at 0x16BED05B0>, <PIL.Image.Image image mode=RGB size=612x792 at 0x16BED3FD0>, <PIL.Image.Image image mode=RGB size=612x792 at 0x16B0CBA30>, <PIL.Image.Image image mode=RGB size=612x792 at 0x16A7C9F00>, <PIL.Image.Image image mode=RGB size=612x792 at 0x16A7CAA40>, <PIL.Image.Image image mode=RGB size=612x792 at 0x16BED38E0>, <PIL.Image.Image image mode=RGB size=612x792 at 0x16BED3880>, <PIL.Image.Image image mode=RGB size=612x792 at 0x16A7CAAD0>, <PIL.Image.Image image mode=RGB size=612x792 at 0x16BED0370>, <PIL.Image.Image image mode=RGB size=612x792 at 0x169AC8BE0>, <PIL.Image.Image image mode=RGB size=612x792 at 0x16A926F80>, <PIL.Image.Image image mode=RGB size=612x792 at 0x16A924AC0>, <PIL.Image.Image image mode=RGB size=612x792 at 0x16A926740>, <PIL.Image.Image image mode=RGB size=612x792 at 0x16A9255A0>, <PIL.Image.Image image mode=RGB size=612x792 at 0x16A9253F0>, <PIL.Image.Image image mode=RGB size=612x792 at 0x16A925090>, <PIL.Image.Image image mode=RGB size=612x792 at 0x16A925DB0>, <PIL.Image.Image image mode=RGB size=612x792 at 0x16A927070>, <PIL.Image.Image image mode=RGB size=612x792 at 0x16A9274F0>, <PIL.Image.Image image mode=RGB size=612x792 at 0x16A926BF0>, <PIL.Image.Image image mode=RGB size=612x792 at 0x16A927850>, <PIL.Image.Image image mode=RGB size=612x792 at 0x16A927B20>, <PIL.Image.Image image mode=RGB size=612x792 at 0x16A9244F0>, <PIL.Image.Image image mode=RGB size=612x792 at 0x16A9248E0>, <PIL.Image.Image image mode=RGB size=612x792 at 0x16A926650>, <PIL.Image.Image image mode=RGB size=612x792 at 0x16A925E40>, <PIL.Image.Image image mode=RGB size=612x792 at 0x16A927D90>, <PIL.Image.Image image mode=RGB size=612x792 at 0x16A925060>, <PIL.Image.Image image mode=RGB size=612x792 at 0x16A924EB0>, <PIL.Image.Image image mode=RGB size=612x792 at 0x16A927730>, <PIL.Image.Image image mode=RGB size=612x792 at 0x16A926AD0>, <PIL.Image.Image image mode=RGB size=612x792 at 0x16A925F60>, <PIL.Image.Image image mode=RGB size=612x792 at 0x16A925A20>, <PIL.Image.Image image mode=RGB size=612x792 at 0x16A926EC0>, <PIL.Image.Image image mode=RGB size=612x792 at 0x16A926BC0>, <PIL.Image.Image image mode=RGB size=612x792 at 0x16A9245B0>, <PIL.Image.Image image mode=RGB size=612x792 at 0x16A927FD0>, <PIL.Image.Image image mode=RGB size=612x792 at 0x16A926350>, <PIL.Image.Image image mode=RGB size=612x792 at 0x16A926E60>, <PIL.Image.Image image mode=RGB size=612x792 at 0x16A927220>, <PIL.Image.Image image mode=RGB size=612x792 at 0x16A9247F0>, <PIL.Image.Image image mode=RGB size=612x792 at 0x16A924580>, <PIL.Image.Image image mode=RGB size=612x792 at 0x16A925360>, <PIL.Image.Image image mode=RGB size=612x792 at 0x16A924B20>, <PIL.Image.Image image mode=RGB size=612x792 at 0x16A9254B0>, <PIL.Image.Image image mode=RGB size=612x792 at 0x16A924340>, <PIL.Image.Image image mode=RGB size=612x792 at 0x16A925A50>, <PIL.Image.Image image mode=RGB size=612x792 at 0x16A926B90>, <PIL.Image.Image image mode=RGB size=612x792 at 0x16A9257E0>, <PIL.Image.Image image mode=RGB size=612x792 at 0x16A924370>, <PIL.Image.Image image mode=RGB size=612x792 at 0x16A925720>, <PIL.Image.Image image mode=RGB size=612x792 at 0x16A9250F0>, <PIL.Image.Image image mode=RGB size=612x792 at 0x16A926CE0>, <PIL.Image.Image image mode=RGB size=612x792 at 0x16A9271C0>, <PIL.Image.Image image mode=RGB size=612x792 at 0x16A924F70>, <PIL.Image.Image image mode=RGB size=612x792 at 0x16A927520>, <PIL.Image.Image image mode=RGB size=612x792 at 0x16A924880>, <PIL.Image.Image image mode=RGB size=612x792 at 0x16A927E80>, <PIL.Image.Image image mode=RGB size=612x792 at 0x16A927610>, <PIL.Image.Image image mode=RGB size=612x792 at 0x16A927BE0>, <PIL.Image.Image image mode=RGB size=612x792 at 0x16A926920>, <PIL.Image.Image image mode=RGB size=612x792 at 0x16A924F40>, <PIL.Image.Image image mode=RGB size=612x792 at 0x16A925960>, <PIL.Image.Image image mode=RGB size=612x792 at 0x16A9276A0>, <PIL.Image.Image image mode=RGB size=612x792 at 0x16A924FA0>, <PIL.Image.Image image mode=RGB size=612x792 at 0x16A925C60>, <PIL.Image.Image image mode=RGB size=612x792 at 0x16A924130>, <PIL.Image.Image image mode=RGB size=612x792 at 0x16A925930>, <PIL.Image.Image image mode=RGB size=612x792 at 0x16A927310>, <PIL.Image.Image image mode=RGB size=612x792 at 0x16A9262C0>, <PIL.Image.Image image mode=RGB size=612x792 at 0x16A926F20>, <PIL.Image.Image image mode=RGB size=612x792 at 0x16A925ED0>, <PIL.Image.Image image mode=RGB size=612x792 at 0x16A925BD0>, <PIL.Image.Image image mode=RGB size=612x792 at 0x16A925AB0>, <PIL.Image.Image image mode=RGB size=612x792 at 0x16A9252A0>, <PIL.Image.Image image mode=RGB size=612x792 at 0x16A926C20>, <PIL.Image.Image image mode=RGB size=612x792 at 0x16A925120>, <PIL.Image.Image image mode=RGB size=612x792 at 0x16A924700>, <PIL.Image.Image image mode=RGB size=612x792 at 0x16A925240>, <PIL.Image.Image image mode=RGB size=612x792 at 0x16A927F10>, <PIL.Image.Image image mode=RGB size=612x792 at 0x16A927CD0>, <PIL.Image.Image image mode=RGB size=612x792 at 0x16A924190>, <PIL.Image.Image image mode=RGB size=612x792 at 0x16A927F70>, <PIL.Image.Image image mode=RGB size=612x792 at 0x16A924790>, <PIL.Image.Image image mode=RGB size=612x792 at 0x16A925570>, <PIL.Image.Image image mode=RGB size=612x792 at 0x16A9241C0>, <PIL.Image.Image image mode=RGB size=612x792 at 0x16A9278B0>, <PIL.Image.Image image mode=RGB size=612x792 at 0x16A925540>, <PIL.Image.Image image mode=RGB size=612x792 at 0x16A9256C0>, <PIL.Image.Image image mode=RGB size=612x792 at 0x16A927C40>, <PIL.Image.Image image mode=RGB size=612x792 at 0x16A925330>, <PIL.Image.Image image mode=RGB size=612x792 at 0x16A924AF0>, <PIL.Image.Image image mode=RGB size=612x792 at 0x16A925F90>, <PIL.Image.Image image mode=RGB size=612x792 at 0x16A926E30>, <PIL.Image.Image image mode=RGB size=612x792 at 0x16A927E20>, <PIL.Image.Image image mode=RGB size=612x792 at 0x16A925780>, <PIL.Image.Image image mode=RGB size=612x792 at 0x16A925510>, <PIL.Image.Image image mode=RGB size=612x792 at 0x16A927BB0>, <PIL.Image.Image image mode=RGB size=612x792 at 0x16A924430>, <PIL.Image.Image image mode=RGB size=612x792 at 0x16A9263B0>, <PIL.Image.Image image mode=RGB size=612x792 at 0x16A924BB0>, <PIL.Image.Image image mode=RGB size=612x792 at 0x16A926CB0>, <PIL.Image.Image image mode=RGB size=612x792 at 0x16A9276D0>, <PIL.Image.Image image mode=RGB size=612x792 at 0x16A925030>, <PIL.Image.Image image mode=RGB size=612x792 at 0x16A925840>, <PIL.Image.Image image mode=RGB size=612x792 at 0x16A924FD0>, <PIL.Image.Image image mode=RGB size=612x792 at 0x16A925600>, <PIL.Image.Image image mode=RGB size=612x792 at 0x16A9240A0>, <PIL.Image.Image image mode=RGB size=612x792 at 0x16A927B50>, <PIL.Image.Image image mode=RGB size=612x792 at 0x16A927D00>, <PIL.Image.Image image mode=RGB size=612x792 at 0x16A927760>, <PIL.Image.Image image mode=RGB size=612x792 at 0x16A927A90>, <PIL.Image.Image image mode=RGB size=612x792 at 0x16A927640>, <PIL.Image.Image image mode=RGB size=612x792 at 0x16A927280>], 'widths': [612, 612, 612, 612, 612, 612, 612, 612, 612, 612, 612, 612, 612, 612, 612, 612, 612, 612, 612, 612, 612, 612, 612, 612, 612, 612, 612, 612, 612, 612, 612, 612, 612, 612, 612, 612, 612, 612, 612, 612, 612, 612, 612, 612, 612, 612, 612, 612, 612, 612, 612, 612, 612, 612, 612, 612, 612, 612, 612, 612, 612, 612, 612, 612, 612, 612, 612, 612, 612, 612, 612, 612, 612, 612, 612, 612, 612, 612, 612, 612, 612, 612, 612, 612, 612, 612, 612, 612, 612, 612, 612, 612, 612, 612, 612, 612, 612, 612, 612, 612, 612, 612, 612, 612, 612, 612, 612, 612, 612, 612, 612, 612, 612, 612, 612, 612, 612, 612, 612, 612, 612, 612, 612, 612, 612, 612, 612, 612, 612, 612, 612, 612, 612, 612, 612, 612, 612, 612, 612, 612, 612, 612, 612, 612, 612, 612, 612], 'heights': [792, 792, 792, 792, 792, 792, 792, 792, 792, 792, 792, 792, 792, 792, 792, 792, 792, 792, 792, 792, 792, 792, 792, 792, 792, 792, 792, 792, 792, 792, 792, 792, 792, 792, 792, 792, 792, 792, 792, 792, 792, 792, 792, 792, 792, 792, 792, 792, 792, 792, 792, 792, 792, 792, 792, 792, 792, 792, 792, 792, 792, 792, 792, 792, 792, 792, 792, 792, 792, 792, 792, 792, 792, 792, 792, 792, 792, 792, 792, 792, 792, 792, 792, 792, 792, 792, 792, 792, 792, 792, 792, 792, 792, 792, 792, 792, 792, 792, 792, 792, 792, 792, 792, 792, 792, 792, 792, 792, 792, 792, 792, 792, 792, 792, 792, 792, 792, 792, 792, 792, 792, 792, 792, 792, 792, 792, 792, 792, 792, 792, 792, 792, 792, 792, 792, 792, 792, 792, 792, 792, 792, 792, 792, 792, 792, 792, 792]}, '10-K.pdf': {'name': '10-K.pdf', 'images': [<PIL.Image.Image image mode=RGB size=612x792 at 0x16A927B80>, <PIL.Image.Image image mode=RGB size=612x792 at 0x16A7C9D50>, <PIL.Image.Image image mode=RGB size=612x792 at 0x16A925180>, <PIL.Image.Image image mode=RGB size=612x792 at 0x16A926680>, <PIL.Image.Image image mode=RGB size=612x792 at 0x16A9248B0>, <PIL.Image.Image image mode=RGB size=612x792 at 0x16A925870>, <PIL.Image.Image image mode=RGB size=612x792 at 0x16A9259F0>, <PIL.Image.Image image mode=RGB size=612x792 at 0x16A925B10>, <PIL.Image.Image image mode=RGB size=612x792 at 0x16A925AE0>, <PIL.Image.Image image mode=RGB size=612x792 at 0x16A924730>, <PIL.Image.Image image mode=RGB size=612x792 at 0x16A9265F0>, <PIL.Image.Image image mode=RGB size=612x792 at 0x16A9262F0>, <PIL.Image.Image image mode=RGB size=612x792 at 0x16A925990>, <PIL.Image.Image image mode=RGB size=612x792 at 0x16A927A00>, <PIL.Image.Image image mode=RGB size=612x792 at 0x16A925CC0>, <PIL.Image.Image image mode=RGB size=612x792 at 0x16A925E10>, <PIL.Image.Image image mode=RGB size=612x792 at 0x16A926FB0>, <PIL.Image.Image image mode=RGB size=612x792 at 0x16A926320>, <PIL.Image.Image image mode=RGB size=612x792 at 0x16A925F30>, <PIL.Image.Image image mode=RGB size=612x792 at 0x16A9277C0>, <PIL.Image.Image image mode=RGB size=612x792 at 0x16A926A40>, <PIL.Image.Image image mode=RGB size=612x792 at 0x16A925F00>, <PIL.Image.Image image mode=RGB size=612x792 at 0x16A925660>, <PIL.Image.Image image mode=RGB size=612x792 at 0x16A924280>, <PIL.Image.Image image mode=RGB size=612x792 at 0x16A926B30>, <PIL.Image.Image image mode=RGB size=612x792 at 0x16A9260B0>, <PIL.Image.Image image mode=RGB size=612x792 at 0x16A925E70>, <PIL.Image.Image image mode=RGB size=612x792 at 0x16A924E20>, <PIL.Image.Image image mode=RGB size=612x792 at 0x16A926DD0>, <PIL.Image.Image image mode=RGB size=612x792 at 0x16A924310>, <PIL.Image.Image image mode=RGB size=612x792 at 0x16A924520>, <PIL.Image.Image image mode=RGB size=612x792 at 0x16A925270>, <PIL.Image.Image image mode=RGB size=612x792 at 0x16A9242E0>, <PIL.Image.Image image mode=RGB size=612x792 at 0x16A926E00>, <PIL.Image.Image image mode=RGB size=612x792 at 0x16A926D70>, <PIL.Image.Image image mode=RGB size=612x792 at 0x16A927160>, <PIL.Image.Image image mode=RGB size=612x792 at 0x16A924A90>, <PIL.Image.Image image mode=RGB size=612x792 at 0x16A926110>, <PIL.Image.Image image mode=RGB size=612x792 at 0x16A926140>, <PIL.Image.Image image mode=RGB size=612x792 at 0x16A926590>, <PIL.Image.Image image mode=RGB size=612x792 at 0x16A926D10>, <PIL.Image.Image image mode=RGB size=612x792 at 0x16A9264A0>, <PIL.Image.Image image mode=RGB size=612x792 at 0x16A9242B0>, <PIL.Image.Image image mode=RGB size=612x792 at 0x16A9245E0>, <PIL.Image.Image image mode=RGB size=612x792 at 0x16A9252D0>, <PIL.Image.Image image mode=RGB size=612x792 at 0x16A926F50>, <PIL.Image.Image image mode=RGB size=612x792 at 0x16A927AF0>, <PIL.Image.Image image mode=RGB size=612x792 at 0x16A926AA0>, <PIL.Image.Image image mode=RGB size=612x792 at 0x16A926620>, <PIL.Image.Image image mode=RGB size=612x792 at 0x16A9265C0>, <PIL.Image.Image image mode=RGB size=612x792 at 0x16A924100>, <PIL.Image.Image image mode=RGB size=612x792 at 0x16A927370>, <PIL.Image.Image image mode=RGB size=612x792 at 0x16A9268C0>, <PIL.Image.Image image mode=RGB size=612x792 at 0x16A9273D0>, <PIL.Image.Image image mode=RGB size=612x792 at 0x16A9246D0>, <PIL.Image.Image image mode=RGB size=612x792 at 0x16A924400>, <PIL.Image.Image image mode=RGB size=612x792 at 0x16A9240D0>, <PIL.Image.Image image mode=RGB size=612x792 at 0x16A9255D0>, <PIL.Image.Image image mode=RGB size=612x792 at 0x16A927340>, <PIL.Image.Image image mode=RGB size=612x792 at 0x16A9261D0>, <PIL.Image.Image image mode=RGB size=612x792 at 0x16A927400>, <PIL.Image.Image image mode=RGB size=612x792 at 0x16A926230>, <PIL.Image.Image image mode=RGB size=612x792 at 0x16A9264D0>, <PIL.Image.Image image mode=RGB size=612x792 at 0x16A925FC0>, <PIL.Image.Image image mode=RGB size=612x792 at 0x16A925690>, <PIL.Image.Image image mode=RGB size=612x792 at 0x16A927CA0>, <PIL.Image.Image image mode=RGB size=612x792 at 0x16A927EE0>, <PIL.Image.Image image mode=RGB size=612x792 at 0x16A927700>, <PIL.Image.Image image mode=RGB size=612x792 at 0x16A927100>, <PIL.Image.Image image mode=RGB size=612x792 at 0x16A9243D0>, <PIL.Image.Image image mode=RGB size=612x792 at 0x16A9270A0>, <PIL.Image.Image image mode=RGB size=612x792 at 0x16A927010>, <PIL.Image.Image image mode=RGB size=612x792 at 0x16A9257B0>, <PIL.Image.Image image mode=RGB size=612x792 at 0x16A925DE0>, <PIL.Image.Image image mode=RGB size=612x792 at 0x16A927D30>, <PIL.Image.Image image mode=RGB size=612x792 at 0x16A927130>, <PIL.Image.Image image mode=RGB size=612x792 at 0x16A927970>, <PIL.Image.Image image mode=RGB size=612x792 at 0x16A9250C0>, <PIL.Image.Image image mode=RGB size=612x792 at 0x16A9243A0>, <PIL.Image.Image image mode=RGB size=612x792 at 0x16A925C00>, <PIL.Image.Image image mode=RGB size=612x792 at 0x16A9269B0>, <PIL.Image.Image image mode=RGB size=612x792 at 0x16A926410>, <PIL.Image.Image image mode=RGB size=612x792 at 0x16A925750>, <PIL.Image.Image image mode=RGB size=612x792 at 0x16A927460>, <PIL.Image.Image image mode=RGB size=612x792 at 0x16A924940>, <PIL.Image.Image image mode=RGB size=612x792 at 0x16A925A80>, <PIL.Image.Image image mode=RGB size=612x792 at 0x16A924E50>, <PIL.Image.Image image mode=RGB size=612x792 at 0x16A9269E0>, <PIL.Image.Image image mode=RGB size=612x792 at 0x16A9271F0>, <PIL.Image.Image image mode=RGB size=612x792 at 0x16A9261A0>, <PIL.Image.Image image mode=RGB size=612x792 at 0x16A927430>, <PIL.Image.Image image mode=RGB size=612x792 at 0x16A9272B0>, <PIL.Image.Image image mode=RGB size=612x792 at 0x16A927A30>, <PIL.Image.Image image mode=RGB size=612x792 at 0x16A924BE0>, <PIL.Image.Image image mode=RGB size=612x792 at 0x16A925B40>, <PIL.Image.Image image mode=RGB size=612x792 at 0x16A9277F0>, <PIL.Image.Image image mode=RGB size=612x792 at 0x16A926080>, <PIL.Image.Image image mode=RGB size=612x792 at 0x16A925D50>, <PIL.Image.Image image mode=RGB size=612x792 at 0x16A9241F0>, <PIL.Image.Image image mode=RGB size=612x792 at 0x16A926560>, <PIL.Image.Image image mode=RGB size=612x792 at 0x16A924070>, <PIL.Image.Image image mode=RGB size=612x792 at 0x16A927D60>, <PIL.Image.Image image mode=RGB size=612x792 at 0x16A927C70>, <PIL.Image.Image image mode=RGB size=612x792 at 0x16A924A60>, <PIL.Image.Image image mode=RGB size=612x792 at 0x16A924160>, <PIL.Image.Image image mode=RGB size=612x792 at 0x16A9267A0>, <PIL.Image.Image image mode=RGB size=612x792 at 0x16A926FE0>, <PIL.Image.Image image mode=RGB size=612x792 at 0x16A926770>, <PIL.Image.Image image mode=RGB size=612x792 at 0x16A926200>, <PIL.Image.Image image mode=RGB size=612x792 at 0x16A926D40>, <PIL.Image.Image image mode=RGB size=612x792 at 0x16A9246A0>, <PIL.Image.Image image mode=RGB size=612x792 at 0x16A9244C0>, <PIL.Image.Image image mode=RGB size=612x792 at 0x16A926C50>, <PIL.Image.Image image mode=RGB size=612x792 at 0x16A924550>, <PIL.Image.Image image mode=RGB size=612x792 at 0x16A926E90>, <PIL.Image.Image image mode=RGB size=612x792 at 0x16A924A00>, <PIL.Image.Image image mode=RGB size=612x792 at 0x16A926710>, <PIL.Image.Image image mode=RGB size=612x792 at 0x16A926290>, <PIL.Image.Image image mode=RGB size=612x792 at 0x16A925C90>, <PIL.Image.Image image mode=RGB size=612x792 at 0x16A926B60>, <PIL.Image.Image image mode=RGB size=612x792 at 0x16A924C10>, <PIL.Image.Image image mode=RGB size=612x792 at 0x16A9263E0>, <PIL.Image.Image image mode=RGB size=612x792 at 0x16A926530>, <PIL.Image.Image image mode=RGB size=612x792 at 0x16A926800>, <PIL.Image.Image image mode=RGB size=612x792 at 0x16A925C30>, <PIL.Image.Image image mode=RGB size=612x792 at 0x16A926170>, <PIL.Image.Image image mode=RGB size=612x792 at 0x16A924E80>, <PIL.Image.Image image mode=RGB size=612x792 at 0x16A9251B0>, <PIL.Image.Image image mode=RGB size=612x792 at 0x16A926440>, <PIL.Image.Image image mode=RGB size=612x792 at 0x16A9249A0>, <PIL.Image.Image image mode=RGB size=612x792 at 0x16A925D20>, <PIL.Image.Image image mode=RGB size=612x792 at 0x16A9258A0>, <PIL.Image.Image image mode=RGB size=612x792 at 0x16A927F40>, <PIL.Image.Image image mode=RGB size=612x792 at 0x16A925EA0>, <PIL.Image.Image image mode=RGB size=612x792 at 0x16A924B80>, <PIL.Image.Image image mode=RGB size=612x792 at 0x16A927DF0>, <PIL.Image.Image image mode=RGB size=612x792 at 0x16A9251E0>, <PIL.Image.Image image mode=RGB size=612x792 at 0x16A9266B0>, <PIL.Image.Image image mode=RGB size=612x792 at 0x16A924D30>, <PIL.Image.Image image mode=RGB size=612x792 at 0x16A9270D0>, <PIL.Image.Image image mode=RGB size=612x792 at 0x16A924760>, <PIL.Image.Image image mode=RGB size=612x792 at 0x16A925FF0>, <PIL.Image.Image image mode=RGB size=612x792 at 0x16A9279A0>, <PIL.Image.Image image mode=RGB size=612x792 at 0x16A924C70>, <PIL.Image.Image image mode=RGB size=612x792 at 0x16A924040>, <PIL.Image.Image image mode=RGB size=612x792 at 0x16A927580>, <PIL.Image.Image image mode=RGB size=612x792 at 0x16A927250>, <PIL.Image.Image image mode=RGB size=612x792 at 0x16A9267D0>, <PIL.Image.Image image mode=RGB size=612x792 at 0x16A926830>, <PIL.Image.Image image mode=RGB size=612x792 at 0x16A925BA0>, <PIL.Image.Image image mode=RGB size=612x792 at 0x16A927910>, <PIL.Image.Image image mode=RGB size=612x792 at 0x16A924970>, <PIL.Image.Image image mode=RGB size=612x792 at 0x16A924910>, <PIL.Image.Image image mode=RGB size=612x792 at 0x16A9273A0>], 'widths': [612, 612, 612, 612, 612, 612, 612, 612, 612, 612, 612, 612, 612, 612, 612, 612, 612, 612, 612, 612, 612, 612, 612, 612, 612, 612, 612, 612, 612, 612, 612, 612, 612, 612, 612, 612, 612, 612, 612, 612, 612, 612, 612, 612, 612, 612, 612, 612, 612, 612, 612, 612, 612, 612, 612, 612, 612, 612, 612, 612, 612, 612, 612, 612, 612, 612, 612, 612, 612, 612, 612, 612, 612, 612, 612, 612, 612, 612, 612, 612, 612, 612, 612, 612, 612, 612, 612, 612, 612, 612, 612, 612, 612, 612, 612, 612, 612, 612, 612, 612, 612, 612, 612, 612, 612, 612, 612, 612, 612, 612, 612, 612, 612, 612, 612, 612, 612, 612, 612, 612, 612, 612, 612, 612, 612, 612, 612, 612, 612, 612, 612, 612, 612, 612, 612, 612, 612, 612, 612, 612, 612, 612, 612, 612, 612, 612, 612, 612, 612, 612, 612, 612, 612, 612], 'heights': [792, 792, 792, 792, 792, 792, 792, 792, 792, 792, 792, 792, 792, 792, 792, 792, 792, 792, 792, 792, 792, 792, 792, 792, 792, 792, 792, 792, 792, 792, 792, 792, 792, 792, 792, 792, 792, 792, 792, 792, 792, 792, 792, 792, 792, 792, 792, 792, 792, 792, 792, 792, 792, 792, 792, 792, 792, 792, 792, 792, 792, 792, 792, 792, 792, 792, 792, 792, 792, 792, 792, 792, 792, 792, 792, 792, 792, 792, 792, 792, 792, 792, 792, 792, 792, 792, 792, 792, 792, 792, 792, 792, 792, 792, 792, 792, 792, 792, 792, 792, 792, 792, 792, 792, 792, 792, 792, 792, 792, 792, 792, 792, 792, 792, 792, 792, 792, 792, 792, 792, 792, 792, 792, 792, 792, 792, 792, 792, 792, 792, 792, 792, 792, 792, 792, 792, 792, 792, 792, 792, 792, 792, 792, 792, 792, 792, 792, 792, 792, 792, 792, 792, 792, 792]}}\n"
          ]
        },
        {
          "name": "stderr",
          "output_type": "stream",
          "text": [
            "Some weights of the model checkpoint at microsoft/table-transformer-detection were not used when initializing TableTransformerForObjectDetection: ['model.backbone.conv_encoder.model.layer3.0.downsample.1.num_batches_tracked', 'model.backbone.conv_encoder.model.layer4.0.downsample.1.num_batches_tracked', 'model.backbone.conv_encoder.model.layer2.0.downsample.1.num_batches_tracked']\n",
            "- This IS expected if you are initializing TableTransformerForObjectDetection from the checkpoint of a model trained on another task or with another architecture (e.g. initializing a BertForSequenceClassification model from a BertForPreTraining model).\n",
            "- This IS NOT expected if you are initializing TableTransformerForObjectDetection from the checkpoint of a model that you expect to be exactly identical (initializing a BertForSequenceClassification model from a BertForSequenceClassification model).\n",
            "/Library/Frameworks/Python.framework/Versions/3.10/lib/python3.10/site-packages/transformers/models/detr/feature_extraction_detr.py:38: FutureWarning: The class DetrFeatureExtractor is deprecated and will be removed in version 5 of Transformers. Please use DetrImageProcessor instead.\n",
            "  warnings.warn(\n"
          ]
        },
        {
          "name": "stdout",
          "output_type": "stream",
          "text": [
            "16 46 590 509\n",
            "TABLE PRESENT\n",
            "{'accuracy': 96.77, 'whitespace': 68.06, 'order': 1, 'page': 0}\n",
            "\n",
            "Folder already exists: /Users/danielbasman/Desktop/Desktop - Daniel’s MacBook Pro/MyStuff/Classes/Human In Loop/data_as_csv/10-K-EX2/\n"
          ]
        },
        {
          "name": "stderr",
          "output_type": "stream",
          "text": [
            "/Library/Frameworks/Python.framework/Versions/3.10/lib/python3.10/site-packages/transformers/models/detr/feature_extraction_detr.py:38: FutureWarning: The class DetrFeatureExtractor is deprecated and will be removed in version 5 of Transformers. Please use DetrImageProcessor instead.\n",
            "  warnings.warn(\n"
          ]
        },
        {
          "name": "stdout",
          "output_type": "stream",
          "text": [
            "38 47 569 380\n",
            "TABLE PRESENT\n",
            "{'accuracy': 80.31, 'whitespace': 70.27, 'order': 1, 'page': 1}\n",
            "\n",
            "Folder already exists: /Users/danielbasman/Desktop/Desktop - Daniel’s MacBook Pro/MyStuff/Classes/Human In Loop/data_as_csv/10-K-EX2/\n"
          ]
        },
        {
          "name": "stderr",
          "output_type": "stream",
          "text": [
            "/Library/Frameworks/Python.framework/Versions/3.10/lib/python3.10/site-packages/transformers/models/detr/feature_extraction_detr.py:38: FutureWarning: The class DetrFeatureExtractor is deprecated and will be removed in version 5 of Transformers. Please use DetrImageProcessor instead.\n",
            "  warnings.warn(\n"
          ]
        },
        {
          "name": "stdout",
          "output_type": "stream",
          "text": [
            "10 26 598 461\n",
            "TABLE PRESENT\n",
            "{'accuracy': 100.0, 'whitespace': 25.49, 'order': 1, 'page': 2}\n",
            "\n",
            "Folder already exists: /Users/danielbasman/Desktop/Desktop - Daniel’s MacBook Pro/MyStuff/Classes/Human In Loop/data_as_csv/10-K-EX2/\n"
          ]
        },
        {
          "name": "stderr",
          "output_type": "stream",
          "text": [
            "/Library/Frameworks/Python.framework/Versions/3.10/lib/python3.10/site-packages/transformers/models/detr/feature_extraction_detr.py:38: FutureWarning: The class DetrFeatureExtractor is deprecated and will be removed in version 5 of Transformers. Please use DetrImageProcessor instead.\n",
            "  warnings.warn(\n"
          ]
        },
        {
          "name": "stdout",
          "output_type": "stream",
          "text": [
            "7 18 606 773\n",
            "{'accuracy': -989.98, 'whitespace': 47.3, 'order': 1, 'page': 3}\n",
            "\n",
            "Folder already exists: /Users/danielbasman/Desktop/Desktop - Daniel’s MacBook Pro/MyStuff/Classes/Human In Loop/data_as_csv/10-K-EX2/\n"
          ]
        },
        {
          "name": "stderr",
          "output_type": "stream",
          "text": [
            "/Library/Frameworks/Python.framework/Versions/3.10/lib/python3.10/site-packages/transformers/models/detr/feature_extraction_detr.py:38: FutureWarning: The class DetrFeatureExtractor is deprecated and will be removed in version 5 of Transformers. Please use DetrImageProcessor instead.\n",
            "  warnings.warn(\n"
          ]
        },
        {
          "name": "stdout",
          "output_type": "stream",
          "text": [
            "8 50 582 343\n",
            "TABLE PRESENT\n"
          ]
        },
        {
          "name": "stderr",
          "output_type": "stream",
          "text": [
            "/Library/Frameworks/Python.framework/Versions/3.10/lib/python3.10/site-packages/camelot/parsers/stream.py:365: UserWarning: No tables found in table area 1\n",
            "  warnings.warn(f\"No tables found in table area {table_idx + 1}\")\n",
            "/Library/Frameworks/Python.framework/Versions/3.10/lib/python3.10/site-packages/transformers/models/detr/feature_extraction_detr.py:38: FutureWarning: The class DetrFeatureExtractor is deprecated and will be removed in version 5 of Transformers. Please use DetrImageProcessor instead.\n",
            "  warnings.warn(\n"
          ]
        },
        {
          "name": "stdout",
          "output_type": "stream",
          "text": [
            "{'accuracy': 100.0, 'whitespace': 0.0, 'order': 1, 'page': 4}\n",
            "\n",
            "Folder already exists: /Users/danielbasman/Desktop/Desktop - Daniel’s MacBook Pro/MyStuff/Classes/Human In Loop/data_as_csv/10-K-EX2/\n",
            "41 23 548 431\n",
            "TABLE PRESENT\n",
            "{'accuracy': 59.15, 'whitespace': 65.66, 'order': 1, 'page': 5}\n",
            "\n",
            "Folder already exists: /Users/danielbasman/Desktop/Desktop - Daniel’s MacBook Pro/MyStuff/Classes/Human In Loop/data_as_csv/10-K-EX2/\n"
          ]
        },
        {
          "name": "stderr",
          "output_type": "stream",
          "text": [
            "/Library/Frameworks/Python.framework/Versions/3.10/lib/python3.10/site-packages/transformers/models/detr/feature_extraction_detr.py:38: FutureWarning: The class DetrFeatureExtractor is deprecated and will be removed in version 5 of Transformers. Please use DetrImageProcessor instead.\n",
            "  warnings.warn(\n"
          ]
        },
        {
          "name": "stdout",
          "output_type": "stream",
          "text": [
            "17 61 577 547\n",
            "TABLE PRESENT\n",
            "{'accuracy': 85.7, 'whitespace': 62.07, 'order': 1, 'page': 6}\n",
            "\n",
            "Folder already exists: /Users/danielbasman/Desktop/Desktop - Daniel’s MacBook Pro/MyStuff/Classes/Human In Loop/data_as_csv/10-K-EX2/\n"
          ]
        },
        {
          "name": "stderr",
          "output_type": "stream",
          "text": [
            "/Library/Frameworks/Python.framework/Versions/3.10/lib/python3.10/site-packages/transformers/models/detr/feature_extraction_detr.py:38: FutureWarning: The class DetrFeatureExtractor is deprecated and will be removed in version 5 of Transformers. Please use DetrImageProcessor instead.\n",
            "  warnings.warn(\n"
          ]
        },
        {
          "name": "stdout",
          "output_type": "stream",
          "text": [
            "6 54 595 374\n",
            "TABLE PRESENT\n",
            "{'accuracy': 97.32, 'whitespace': 57.14, 'order': 1, 'page': 7}\n",
            "\n",
            "Folder already exists: /Users/danielbasman/Desktop/Desktop - Daniel’s MacBook Pro/MyStuff/Classes/Human In Loop/data_as_csv/10-K-EX2/\n"
          ]
        },
        {
          "name": "stderr",
          "output_type": "stream",
          "text": [
            "/Library/Frameworks/Python.framework/Versions/3.10/lib/python3.10/site-packages/transformers/models/detr/feature_extraction_detr.py:38: FutureWarning: The class DetrFeatureExtractor is deprecated and will be removed in version 5 of Transformers. Please use DetrImageProcessor instead.\n",
            "  warnings.warn(\n"
          ]
        },
        {
          "name": "stdout",
          "output_type": "stream",
          "text": [
            "13 105 474 385\n",
            "TABLE PRESENT\n",
            "{'accuracy': 80.15, 'whitespace': 45.0, 'order': 1, 'page': 8}\n",
            "\n",
            "Folder already exists: /Users/danielbasman/Desktop/Desktop - Daniel’s MacBook Pro/MyStuff/Classes/Human In Loop/data_as_csv/10-K-EX2/\n"
          ]
        },
        {
          "name": "stderr",
          "output_type": "stream",
          "text": [
            "/Library/Frameworks/Python.framework/Versions/3.10/lib/python3.10/site-packages/transformers/models/detr/feature_extraction_detr.py:38: FutureWarning: The class DetrFeatureExtractor is deprecated and will be removed in version 5 of Transformers. Please use DetrImageProcessor instead.\n",
            "  warnings.warn(\n"
          ]
        },
        {
          "name": "stdout",
          "output_type": "stream",
          "text": [
            "11 36 579 524\n",
            "TABLE PRESENT\n",
            "{'accuracy': 88.62, 'whitespace': 55.0, 'order': 1, 'page': 9}\n",
            "\n",
            "Folder already exists: /Users/danielbasman/Desktop/Desktop - Daniel’s MacBook Pro/MyStuff/Classes/Human In Loop/data_as_csv/10-K-EX2/\n"
          ]
        },
        {
          "name": "stderr",
          "output_type": "stream",
          "text": [
            "/Library/Frameworks/Python.framework/Versions/3.10/lib/python3.10/site-packages/transformers/models/detr/feature_extraction_detr.py:38: FutureWarning: The class DetrFeatureExtractor is deprecated and will be removed in version 5 of Transformers. Please use DetrImageProcessor instead.\n",
            "  warnings.warn(\n"
          ]
        },
        {
          "name": "stdout",
          "output_type": "stream",
          "text": [
            "8 63 590 508\n",
            "TABLE PRESENT\n",
            "{'accuracy': 58.59, 'whitespace': 72.73, 'order': 1, 'page': 10}\n",
            "\n",
            "Folder already exists: /Users/danielbasman/Desktop/Desktop - Daniel’s MacBook Pro/MyStuff/Classes/Human In Loop/data_as_csv/10-K-EX2/\n"
          ]
        },
        {
          "name": "stderr",
          "output_type": "stream",
          "text": [
            "/Library/Frameworks/Python.framework/Versions/3.10/lib/python3.10/site-packages/transformers/models/detr/feature_extraction_detr.py:38: FutureWarning: The class DetrFeatureExtractor is deprecated and will be removed in version 5 of Transformers. Please use DetrImageProcessor instead.\n",
            "  warnings.warn(\n"
          ]
        },
        {
          "name": "stdout",
          "output_type": "stream",
          "text": [
            "8 28 605 762\n",
            "{'accuracy': 87.35, 'whitespace': 46.97, 'order': 1, 'page': 11}\n",
            "\n",
            "Folder already exists: /Users/danielbasman/Desktop/Desktop - Daniel’s MacBook Pro/MyStuff/Classes/Human In Loop/data_as_csv/10-K-EX2/\n"
          ]
        },
        {
          "name": "stderr",
          "output_type": "stream",
          "text": [
            "/Library/Frameworks/Python.framework/Versions/3.10/lib/python3.10/site-packages/transformers/models/detr/feature_extraction_detr.py:38: FutureWarning: The class DetrFeatureExtractor is deprecated and will be removed in version 5 of Transformers. Please use DetrImageProcessor instead.\n",
            "  warnings.warn(\n"
          ]
        },
        {
          "name": "stdout",
          "output_type": "stream",
          "text": [
            "8 9 595 424\n",
            "TABLE PRESENT\n",
            "{'accuracy': 65.21, 'whitespace': 60.61, 'order': 1, 'page': 12}\n",
            "\n",
            "Folder already exists: /Users/danielbasman/Desktop/Desktop - Daniel’s MacBook Pro/MyStuff/Classes/Human In Loop/data_as_csv/10-K-EX2/\n"
          ]
        },
        {
          "name": "stderr",
          "output_type": "stream",
          "text": [
            "/Library/Frameworks/Python.framework/Versions/3.10/lib/python3.10/site-packages/transformers/models/detr/feature_extraction_detr.py:38: FutureWarning: The class DetrFeatureExtractor is deprecated and will be removed in version 5 of Transformers. Please use DetrImageProcessor instead.\n",
            "  warnings.warn(\n"
          ]
        },
        {
          "name": "stdout",
          "output_type": "stream",
          "text": [
            "8 57 604 734\n",
            "{'accuracy': 85.29, 'whitespace': 48.53, 'order': 1, 'page': 13}\n",
            "\n",
            "Folder already exists: /Users/danielbasman/Desktop/Desktop - Daniel’s MacBook Pro/MyStuff/Classes/Human In Loop/data_as_csv/10-K-EX2/\n"
          ]
        },
        {
          "name": "stderr",
          "output_type": "stream",
          "text": [
            "/Library/Frameworks/Python.framework/Versions/3.10/lib/python3.10/site-packages/transformers/models/detr/feature_extraction_detr.py:38: FutureWarning: The class DetrFeatureExtractor is deprecated and will be removed in version 5 of Transformers. Please use DetrImageProcessor instead.\n",
            "  warnings.warn(\n"
          ]
        },
        {
          "name": "stdout",
          "output_type": "stream",
          "text": [
            "8 10 593 475\n",
            "TABLE PRESENT\n",
            "{'accuracy': 61.79, 'whitespace': 61.9, 'order': 1, 'page': 14}\n",
            "\n",
            "Folder already exists: /Users/danielbasman/Desktop/Desktop - Daniel’s MacBook Pro/MyStuff/Classes/Human In Loop/data_as_csv/10-K-EX2/\n"
          ]
        },
        {
          "name": "stderr",
          "output_type": "stream",
          "text": [
            "/Library/Frameworks/Python.framework/Versions/3.10/lib/python3.10/site-packages/transformers/models/detr/feature_extraction_detr.py:38: FutureWarning: The class DetrFeatureExtractor is deprecated and will be removed in version 5 of Transformers. Please use DetrImageProcessor instead.\n",
            "  warnings.warn(\n"
          ]
        },
        {
          "name": "stdout",
          "output_type": "stream",
          "text": [
            "18 77 577 224\n",
            "TABLE PRESENT\n"
          ]
        },
        {
          "name": "stderr",
          "output_type": "stream",
          "text": [
            "/Library/Frameworks/Python.framework/Versions/3.10/lib/python3.10/site-packages/camelot/parsers/stream.py:365: UserWarning: No tables found in table area 1\n",
            "  warnings.warn(f\"No tables found in table area {table_idx + 1}\")\n",
            "/Library/Frameworks/Python.framework/Versions/3.10/lib/python3.10/site-packages/transformers/models/detr/feature_extraction_detr.py:38: FutureWarning: The class DetrFeatureExtractor is deprecated and will be removed in version 5 of Transformers. Please use DetrImageProcessor instead.\n",
            "  warnings.warn(\n"
          ]
        },
        {
          "name": "stdout",
          "output_type": "stream",
          "text": [
            "{'accuracy': 100.0, 'whitespace': 0.0, 'order': 1, 'page': 15}\n",
            "\n",
            "Folder already exists: /Users/danielbasman/Desktop/Desktop - Daniel’s MacBook Pro/MyStuff/Classes/Human In Loop/data_as_csv/10-K-EX2/\n",
            "4 58 585 465\n",
            "TABLE PRESENT\n"
          ]
        },
        {
          "name": "stderr",
          "output_type": "stream",
          "text": [
            "/Library/Frameworks/Python.framework/Versions/3.10/lib/python3.10/site-packages/camelot/parsers/stream.py:365: UserWarning: No tables found in table area 1\n",
            "  warnings.warn(f\"No tables found in table area {table_idx + 1}\")\n",
            "/Library/Frameworks/Python.framework/Versions/3.10/lib/python3.10/site-packages/transformers/models/detr/feature_extraction_detr.py:38: FutureWarning: The class DetrFeatureExtractor is deprecated and will be removed in version 5 of Transformers. Please use DetrImageProcessor instead.\n",
            "  warnings.warn(\n"
          ]
        },
        {
          "name": "stdout",
          "output_type": "stream",
          "text": [
            "{'accuracy': 100.0, 'whitespace': 0.0, 'order': 1, 'page': 16}\n",
            "\n",
            "Folder already exists: /Users/danielbasman/Desktop/Desktop - Daniel’s MacBook Pro/MyStuff/Classes/Human In Loop/data_as_csv/10-K-EX2/\n",
            "12 89 529 82\n",
            "TABLE PRESENT\n"
          ]
        },
        {
          "name": "stderr",
          "output_type": "stream",
          "text": [
            "/Library/Frameworks/Python.framework/Versions/3.10/lib/python3.10/site-packages/camelot/parsers/stream.py:365: UserWarning: No tables found in table area 1\n",
            "  warnings.warn(f\"No tables found in table area {table_idx + 1}\")\n",
            "/Library/Frameworks/Python.framework/Versions/3.10/lib/python3.10/site-packages/transformers/models/detr/feature_extraction_detr.py:38: FutureWarning: The class DetrFeatureExtractor is deprecated and will be removed in version 5 of Transformers. Please use DetrImageProcessor instead.\n",
            "  warnings.warn(\n"
          ]
        },
        {
          "name": "stdout",
          "output_type": "stream",
          "text": [
            "{'accuracy': 100.0, 'whitespace': 0.0, 'order': 1, 'page': 17}\n",
            "\n",
            "Folder already exists: /Users/danielbasman/Desktop/Desktop - Daniel’s MacBook Pro/MyStuff/Classes/Human In Loop/data_as_csv/10-K-EX2/\n",
            "14 92 571 327\n",
            "TABLE PRESENT\n",
            "{'accuracy': 56.03, 'whitespace': 68.33, 'order': 1, 'page': 18}\n",
            "\n",
            "Folder already exists: /Users/danielbasman/Desktop/Desktop - Daniel’s MacBook Pro/MyStuff/Classes/Human In Loop/data_as_csv/10-K-EX2/\n"
          ]
        },
        {
          "name": "stderr",
          "output_type": "stream",
          "text": [
            "/Library/Frameworks/Python.framework/Versions/3.10/lib/python3.10/site-packages/transformers/models/detr/feature_extraction_detr.py:38: FutureWarning: The class DetrFeatureExtractor is deprecated and will be removed in version 5 of Transformers. Please use DetrImageProcessor instead.\n",
            "  warnings.warn(\n"
          ]
        },
        {
          "name": "stdout",
          "output_type": "stream",
          "text": [
            "9 69 577 722\n",
            "{'accuracy': 100.0, 'whitespace': 0.0, 'order': 1, 'page': 19}\n",
            "\n",
            "Folder already exists: /Users/danielbasman/Desktop/Desktop - Daniel’s MacBook Pro/MyStuff/Classes/Human In Loop/data_as_csv/10-K-EX2/\n"
          ]
        },
        {
          "name": "stderr",
          "output_type": "stream",
          "text": [
            "/Library/Frameworks/Python.framework/Versions/3.10/lib/python3.10/site-packages/transformers/models/detr/feature_extraction_detr.py:38: FutureWarning: The class DetrFeatureExtractor is deprecated and will be removed in version 5 of Transformers. Please use DetrImageProcessor instead.\n",
            "  warnings.warn(\n"
          ]
        },
        {
          "name": "stdout",
          "output_type": "stream",
          "text": [
            "8 41 601 750\n",
            "{'accuracy': 88.91, 'whitespace': 46.15, 'order': 1, 'page': 20}\n",
            "\n",
            "Folder already exists: /Users/danielbasman/Desktop/Desktop - Daniel’s MacBook Pro/MyStuff/Classes/Human In Loop/data_as_csv/10-K-EX2/\n"
          ]
        },
        {
          "name": "stderr",
          "output_type": "stream",
          "text": [
            "/Library/Frameworks/Python.framework/Versions/3.10/lib/python3.10/site-packages/transformers/models/detr/feature_extraction_detr.py:38: FutureWarning: The class DetrFeatureExtractor is deprecated and will be removed in version 5 of Transformers. Please use DetrImageProcessor instead.\n",
            "  warnings.warn(\n"
          ]
        },
        {
          "name": "stdout",
          "output_type": "stream",
          "text": [
            "19 138 465 327\n",
            "TABLE PRESENT\n"
          ]
        },
        {
          "name": "stderr",
          "output_type": "stream",
          "text": [
            "/Library/Frameworks/Python.framework/Versions/3.10/lib/python3.10/site-packages/camelot/parsers/stream.py:365: UserWarning: No tables found in table area 1\n",
            "  warnings.warn(f\"No tables found in table area {table_idx + 1}\")\n",
            "/Library/Frameworks/Python.framework/Versions/3.10/lib/python3.10/site-packages/transformers/models/detr/feature_extraction_detr.py:38: FutureWarning: The class DetrFeatureExtractor is deprecated and will be removed in version 5 of Transformers. Please use DetrImageProcessor instead.\n",
            "  warnings.warn(\n"
          ]
        },
        {
          "name": "stdout",
          "output_type": "stream",
          "text": [
            "{'accuracy': 89.85, 'whitespace': 0.0, 'order': 1, 'page': 21}\n",
            "\n",
            "Folder already exists: /Users/danielbasman/Desktop/Desktop - Daniel’s MacBook Pro/MyStuff/Classes/Human In Loop/data_as_csv/10-K-EX2/\n",
            "15 50 575 405\n",
            "TABLE PRESENT\n",
            "{'accuracy': 73.64, 'whitespace': 18.33, 'order': 1, 'page': 22}\n",
            "\n",
            "Folder already exists: /Users/danielbasman/Desktop/Desktop - Daniel’s MacBook Pro/MyStuff/Classes/Human In Loop/data_as_csv/10-K-EX2/\n"
          ]
        },
        {
          "name": "stderr",
          "output_type": "stream",
          "text": [
            "/Library/Frameworks/Python.framework/Versions/3.10/lib/python3.10/site-packages/transformers/models/detr/feature_extraction_detr.py:38: FutureWarning: The class DetrFeatureExtractor is deprecated and will be removed in version 5 of Transformers. Please use DetrImageProcessor instead.\n",
            "  warnings.warn(\n"
          ]
        },
        {
          "name": "stdout",
          "output_type": "stream",
          "text": [
            "18 53 575 402\n",
            "TABLE PRESENT\n",
            "{'accuracy': -176.08, 'whitespace': 54.44, 'order': 1, 'page': 23}\n",
            "\n",
            "Folder already exists: /Users/danielbasman/Desktop/Desktop - Daniel’s MacBook Pro/MyStuff/Classes/Human In Loop/data_as_csv/10-K-EX2/\n"
          ]
        },
        {
          "name": "stderr",
          "output_type": "stream",
          "text": [
            "/Library/Frameworks/Python.framework/Versions/3.10/lib/python3.10/site-packages/transformers/models/detr/feature_extraction_detr.py:38: FutureWarning: The class DetrFeatureExtractor is deprecated and will be removed in version 5 of Transformers. Please use DetrImageProcessor instead.\n",
            "  warnings.warn(\n"
          ]
        },
        {
          "name": "stdout",
          "output_type": "stream",
          "text": [
            "13 34 586 390\n",
            "TABLE PRESENT\n",
            "{'accuracy': 1.55, 'whitespace': 47.13, 'order': 1, 'page': 24}\n",
            "\n",
            "Folder already exists: /Users/danielbasman/Desktop/Desktop - Daniel’s MacBook Pro/MyStuff/Classes/Human In Loop/data_as_csv/10-K-EX2/\n"
          ]
        },
        {
          "name": "stderr",
          "output_type": "stream",
          "text": [
            "/Library/Frameworks/Python.framework/Versions/3.10/lib/python3.10/site-packages/transformers/models/detr/feature_extraction_detr.py:38: FutureWarning: The class DetrFeatureExtractor is deprecated and will be removed in version 5 of Transformers. Please use DetrImageProcessor instead.\n",
            "  warnings.warn(\n"
          ]
        },
        {
          "name": "stdout",
          "output_type": "stream",
          "text": [
            "14 251 581 142\n",
            "TABLE PRESENT\n"
          ]
        },
        {
          "name": "stderr",
          "output_type": "stream",
          "text": [
            "/Library/Frameworks/Python.framework/Versions/3.10/lib/python3.10/site-packages/camelot/parsers/stream.py:365: UserWarning: No tables found in table area 1\n",
            "  warnings.warn(f\"No tables found in table area {table_idx + 1}\")\n",
            "/Library/Frameworks/Python.framework/Versions/3.10/lib/python3.10/site-packages/transformers/models/detr/feature_extraction_detr.py:38: FutureWarning: The class DetrFeatureExtractor is deprecated and will be removed in version 5 of Transformers. Please use DetrImageProcessor instead.\n",
            "  warnings.warn(\n"
          ]
        },
        {
          "name": "stdout",
          "output_type": "stream",
          "text": [
            "{'accuracy': 100.0, 'whitespace': 0.0, 'order': 1, 'page': 25}\n",
            "\n",
            "Folder already exists: /Users/danielbasman/Desktop/Desktop - Daniel’s MacBook Pro/MyStuff/Classes/Human In Loop/data_as_csv/10-K-EX2/\n",
            "18 50 582 572\n",
            "TABLE PRESENT\n",
            "{'accuracy': -236.07, 'whitespace': 60.0, 'order': 1, 'page': 26}\n",
            "\n",
            "Folder already exists: /Users/danielbasman/Desktop/Desktop - Daniel’s MacBook Pro/MyStuff/Classes/Human In Loop/data_as_csv/10-K-EX2/\n"
          ]
        },
        {
          "name": "stderr",
          "output_type": "stream",
          "text": [
            "/Library/Frameworks/Python.framework/Versions/3.10/lib/python3.10/site-packages/transformers/models/detr/feature_extraction_detr.py:38: FutureWarning: The class DetrFeatureExtractor is deprecated and will be removed in version 5 of Transformers. Please use DetrImageProcessor instead.\n",
            "  warnings.warn(\n"
          ]
        },
        {
          "name": "stdout",
          "output_type": "stream",
          "text": [
            "7 69 596 326\n",
            "TABLE PRESENT\n",
            "{'accuracy': -371.07, 'whitespace': 56.32, 'order': 1, 'page': 27}\n",
            "\n",
            "Folder already exists: /Users/danielbasman/Desktop/Desktop - Daniel’s MacBook Pro/MyStuff/Classes/Human In Loop/data_as_csv/10-K-EX2/\n"
          ]
        },
        {
          "name": "stderr",
          "output_type": "stream",
          "text": [
            "/Library/Frameworks/Python.framework/Versions/3.10/lib/python3.10/site-packages/transformers/models/detr/feature_extraction_detr.py:38: FutureWarning: The class DetrFeatureExtractor is deprecated and will be removed in version 5 of Transformers. Please use DetrImageProcessor instead.\n",
            "  warnings.warn(\n"
          ]
        },
        {
          "name": "stdout",
          "output_type": "stream",
          "text": [
            "9 9 594 782\n",
            "{'accuracy': 86.6, 'whitespace': 47.14, 'order': 1, 'page': 28}\n",
            "\n",
            "Folder already exists: /Users/danielbasman/Desktop/Desktop - Daniel’s MacBook Pro/MyStuff/Classes/Human In Loop/data_as_csv/10-K-EX2/\n"
          ]
        },
        {
          "name": "stderr",
          "output_type": "stream",
          "text": [
            "/Library/Frameworks/Python.framework/Versions/3.10/lib/python3.10/site-packages/transformers/models/detr/feature_extraction_detr.py:38: FutureWarning: The class DetrFeatureExtractor is deprecated and will be removed in version 5 of Transformers. Please use DetrImageProcessor instead.\n",
            "  warnings.warn(\n"
          ]
        },
        {
          "name": "stdout",
          "output_type": "stream",
          "text": [
            "20 252 494 178\n",
            "TABLE PRESENT\n"
          ]
        },
        {
          "name": "stderr",
          "output_type": "stream",
          "text": [
            "/Library/Frameworks/Python.framework/Versions/3.10/lib/python3.10/site-packages/camelot/parsers/stream.py:365: UserWarning: No tables found in table area 1\n",
            "  warnings.warn(f\"No tables found in table area {table_idx + 1}\")\n",
            "/Library/Frameworks/Python.framework/Versions/3.10/lib/python3.10/site-packages/transformers/models/detr/feature_extraction_detr.py:38: FutureWarning: The class DetrFeatureExtractor is deprecated and will be removed in version 5 of Transformers. Please use DetrImageProcessor instead.\n",
            "  warnings.warn(\n"
          ]
        },
        {
          "name": "stdout",
          "output_type": "stream",
          "text": [
            "{'accuracy': 100.0, 'whitespace': 0.0, 'order': 1, 'page': 29}\n",
            "\n",
            "Folder already exists: /Users/danielbasman/Desktop/Desktop - Daniel’s MacBook Pro/MyStuff/Classes/Human In Loop/data_as_csv/10-K-EX2/\n",
            "17 54 572 415\n",
            "TABLE PRESENT\n",
            "{'accuracy': 16.49, 'whitespace': 52.69, 'order': 1, 'page': 30}\n",
            "\n",
            "Folder already exists: /Users/danielbasman/Desktop/Desktop - Daniel’s MacBook Pro/MyStuff/Classes/Human In Loop/data_as_csv/10-K-EX2/\n"
          ]
        },
        {
          "name": "stderr",
          "output_type": "stream",
          "text": [
            "/Library/Frameworks/Python.framework/Versions/3.10/lib/python3.10/site-packages/transformers/models/detr/feature_extraction_detr.py:38: FutureWarning: The class DetrFeatureExtractor is deprecated and will be removed in version 5 of Transformers. Please use DetrImageProcessor instead.\n",
            "  warnings.warn(\n"
          ]
        },
        {
          "name": "stdout",
          "output_type": "stream",
          "text": [
            "7 8 599 783\n",
            "{'accuracy': -2898.32, 'whitespace': 46.97, 'order': 1, 'page': 31}\n",
            "\n",
            "Folder already exists: /Users/danielbasman/Desktop/Desktop - Daniel’s MacBook Pro/MyStuff/Classes/Human In Loop/data_as_csv/10-K-EX2/\n"
          ]
        },
        {
          "name": "stderr",
          "output_type": "stream",
          "text": [
            "/Library/Frameworks/Python.framework/Versions/3.10/lib/python3.10/site-packages/transformers/models/detr/feature_extraction_detr.py:38: FutureWarning: The class DetrFeatureExtractor is deprecated and will be removed in version 5 of Transformers. Please use DetrImageProcessor instead.\n",
            "  warnings.warn(\n"
          ]
        },
        {
          "name": "stdout",
          "output_type": "stream",
          "text": [
            "5 18 590 664\n",
            "TABLE PRESENT\n",
            "{'accuracy': 60.29, 'whitespace': 62.63, 'order': 1, 'page': 32}\n",
            "\n",
            "Folder already exists: /Users/danielbasman/Desktop/Desktop - Daniel’s MacBook Pro/MyStuff/Classes/Human In Loop/data_as_csv/10-K-EX2/\n"
          ]
        },
        {
          "name": "stderr",
          "output_type": "stream",
          "text": [
            "/Library/Frameworks/Python.framework/Versions/3.10/lib/python3.10/site-packages/transformers/models/detr/feature_extraction_detr.py:38: FutureWarning: The class DetrFeatureExtractor is deprecated and will be removed in version 5 of Transformers. Please use DetrImageProcessor instead.\n",
            "  warnings.warn(\n"
          ]
        },
        {
          "name": "stdout",
          "output_type": "stream",
          "text": [
            "14 85 577 349\n",
            "TABLE PRESENT\n",
            "{'accuracy': -38.38, 'whitespace': 57.78, 'order': 1, 'page': 33}\n",
            "\n",
            "Folder already exists: /Users/danielbasman/Desktop/Desktop - Daniel’s MacBook Pro/MyStuff/Classes/Human In Loop/data_as_csv/10-K-EX2/\n"
          ]
        },
        {
          "name": "stderr",
          "output_type": "stream",
          "text": [
            "/Library/Frameworks/Python.framework/Versions/3.10/lib/python3.10/site-packages/transformers/models/detr/feature_extraction_detr.py:38: FutureWarning: The class DetrFeatureExtractor is deprecated and will be removed in version 5 of Transformers. Please use DetrImageProcessor instead.\n",
            "  warnings.warn(\n"
          ]
        },
        {
          "name": "stdout",
          "output_type": "stream",
          "text": [
            "7 9 599 782\n",
            "{'accuracy': 100.0, 'whitespace': 0.0, 'order': 1, 'page': 34}\n",
            "\n",
            "Folder already exists: /Users/danielbasman/Desktop/Desktop - Daniel’s MacBook Pro/MyStuff/Classes/Human In Loop/data_as_csv/10-K-EX2/\n"
          ]
        },
        {
          "name": "stderr",
          "output_type": "stream",
          "text": [
            "/Library/Frameworks/Python.framework/Versions/3.10/lib/python3.10/site-packages/transformers/models/detr/feature_extraction_detr.py:38: FutureWarning: The class DetrFeatureExtractor is deprecated and will be removed in version 5 of Transformers. Please use DetrImageProcessor instead.\n",
            "  warnings.warn(\n"
          ]
        },
        {
          "name": "stdout",
          "output_type": "stream",
          "text": [
            "12 38 501 50\n",
            "TABLE PRESENT\n",
            "{'accuracy': 100.0, 'whitespace': 16.67, 'order': 1, 'page': 35}\n",
            "\n",
            "Folder already exists: /Users/danielbasman/Desktop/Desktop - Daniel’s MacBook Pro/MyStuff/Classes/Human In Loop/data_as_csv/10-K-EX2/\n"
          ]
        },
        {
          "name": "stderr",
          "output_type": "stream",
          "text": [
            "/Library/Frameworks/Python.framework/Versions/3.10/lib/python3.10/site-packages/transformers/models/detr/feature_extraction_detr.py:38: FutureWarning: The class DetrFeatureExtractor is deprecated and will be removed in version 5 of Transformers. Please use DetrImageProcessor instead.\n",
            "  warnings.warn(\n"
          ]
        },
        {
          "name": "stdout",
          "output_type": "stream",
          "text": [
            "20 106 574 178\n",
            "TABLE PRESENT\n",
            "SUGGESTED TABLE WAS BLANK SPACE\n"
          ]
        },
        {
          "name": "stderr",
          "output_type": "stream",
          "text": [
            "/Library/Frameworks/Python.framework/Versions/3.10/lib/python3.10/site-packages/transformers/models/detr/feature_extraction_detr.py:38: FutureWarning: The class DetrFeatureExtractor is deprecated and will be removed in version 5 of Transformers. Please use DetrImageProcessor instead.\n",
            "  warnings.warn(\n"
          ]
        },
        {
          "name": "stdout",
          "output_type": "stream",
          "text": [
            "9 52 597 677\n",
            "TABLE PRESENT\n",
            "{'accuracy': 97.32, 'whitespace': 26.72, 'order': 1, 'page': 37}\n",
            "\n",
            "Folder already exists: /Users/danielbasman/Desktop/Desktop - Daniel’s MacBook Pro/MyStuff/Classes/Human In Loop/data_as_csv/10-K-EX2/\n"
          ]
        },
        {
          "name": "stderr",
          "output_type": "stream",
          "text": [
            "/Library/Frameworks/Python.framework/Versions/3.10/lib/python3.10/site-packages/transformers/models/detr/feature_extraction_detr.py:38: FutureWarning: The class DetrFeatureExtractor is deprecated and will be removed in version 5 of Transformers. Please use DetrImageProcessor instead.\n",
            "  warnings.warn(\n"
          ]
        },
        {
          "name": "stdout",
          "output_type": "stream",
          "text": [
            "13 6 600 785\n",
            "{'accuracy': 83.2, 'whitespace': 45.71, 'order': 1, 'page': 38}\n",
            "\n",
            "Folder already exists: /Users/danielbasman/Desktop/Desktop - Daniel’s MacBook Pro/MyStuff/Classes/Human In Loop/data_as_csv/10-K-EX2/\n"
          ]
        },
        {
          "name": "stderr",
          "output_type": "stream",
          "text": [
            "/Library/Frameworks/Python.framework/Versions/3.10/lib/python3.10/site-packages/transformers/models/detr/feature_extraction_detr.py:38: FutureWarning: The class DetrFeatureExtractor is deprecated and will be removed in version 5 of Transformers. Please use DetrImageProcessor instead.\n",
            "  warnings.warn(\n"
          ]
        },
        {
          "name": "stdout",
          "output_type": "stream",
          "text": [
            "11 5 600 785\n",
            "{'accuracy': 83.46, 'whitespace': 47.06, 'order': 1, 'page': 39}\n",
            "\n",
            "Folder already exists: /Users/danielbasman/Desktop/Desktop - Daniel’s MacBook Pro/MyStuff/Classes/Human In Loop/data_as_csv/10-K-EX2/\n"
          ]
        },
        {
          "name": "stderr",
          "output_type": "stream",
          "text": [
            "/Library/Frameworks/Python.framework/Versions/3.10/lib/python3.10/site-packages/transformers/models/detr/feature_extraction_detr.py:38: FutureWarning: The class DetrFeatureExtractor is deprecated and will be removed in version 5 of Transformers. Please use DetrImageProcessor instead.\n",
            "  warnings.warn(\n"
          ]
        },
        {
          "name": "stdout",
          "output_type": "stream",
          "text": [
            "26 65 559 220\n",
            "TABLE PRESENT\n"
          ]
        },
        {
          "name": "stderr",
          "output_type": "stream",
          "text": [
            "/Library/Frameworks/Python.framework/Versions/3.10/lib/python3.10/site-packages/camelot/parsers/stream.py:365: UserWarning: No tables found in table area 1\n",
            "  warnings.warn(f\"No tables found in table area {table_idx + 1}\")\n",
            "/Library/Frameworks/Python.framework/Versions/3.10/lib/python3.10/site-packages/transformers/models/detr/feature_extraction_detr.py:38: FutureWarning: The class DetrFeatureExtractor is deprecated and will be removed in version 5 of Transformers. Please use DetrImageProcessor instead.\n",
            "  warnings.warn(\n"
          ]
        },
        {
          "name": "stdout",
          "output_type": "stream",
          "text": [
            "{'accuracy': 100.0, 'whitespace': 0.0, 'order': 1, 'page': 40}\n",
            "\n",
            "Folder already exists: /Users/danielbasman/Desktop/Desktop - Daniel’s MacBook Pro/MyStuff/Classes/Human In Loop/data_as_csv/10-K-EX2/\n",
            "55 178 519 241\n",
            "TABLE PRESENT\n"
          ]
        },
        {
          "name": "stderr",
          "output_type": "stream",
          "text": [
            "/Library/Frameworks/Python.framework/Versions/3.10/lib/python3.10/site-packages/camelot/parsers/stream.py:365: UserWarning: No tables found in table area 1\n",
            "  warnings.warn(f\"No tables found in table area {table_idx + 1}\")\n",
            "/Library/Frameworks/Python.framework/Versions/3.10/lib/python3.10/site-packages/transformers/models/detr/feature_extraction_detr.py:38: FutureWarning: The class DetrFeatureExtractor is deprecated and will be removed in version 5 of Transformers. Please use DetrImageProcessor instead.\n",
            "  warnings.warn(\n"
          ]
        },
        {
          "name": "stdout",
          "output_type": "stream",
          "text": [
            "{'accuracy': 100.0, 'whitespace': 0.0, 'order': 1, 'page': 41}\n",
            "\n",
            "Folder already exists: /Users/danielbasman/Desktop/Desktop - Daniel’s MacBook Pro/MyStuff/Classes/Human In Loop/data_as_csv/10-K-EX2/\n",
            "45 59 459 297\n",
            "TABLE PRESENT\n",
            "{'accuracy': 91.42, 'whitespace': 68.46, 'order': 1, 'page': 42}\n",
            "\n",
            "Folder already exists: /Users/danielbasman/Desktop/Desktop - Daniel’s MacBook Pro/MyStuff/Classes/Human In Loop/data_as_csv/10-K-EX2/\n"
          ]
        },
        {
          "name": "stderr",
          "output_type": "stream",
          "text": [
            "/Library/Frameworks/Python.framework/Versions/3.10/lib/python3.10/site-packages/transformers/models/detr/feature_extraction_detr.py:38: FutureWarning: The class DetrFeatureExtractor is deprecated and will be removed in version 5 of Transformers. Please use DetrImageProcessor instead.\n",
            "  warnings.warn(\n"
          ]
        },
        {
          "name": "stdout",
          "output_type": "stream",
          "text": [
            "18 207 576 287\n",
            "TABLE PRESENT\n",
            "{'accuracy': 71.14, 'whitespace': 43.75, 'order': 1, 'page': 43}\n",
            "\n",
            "Folder already exists: /Users/danielbasman/Desktop/Desktop - Daniel’s MacBook Pro/MyStuff/Classes/Human In Loop/data_as_csv/10-K-EX2/\n"
          ]
        },
        {
          "name": "stderr",
          "output_type": "stream",
          "text": [
            "/Library/Frameworks/Python.framework/Versions/3.10/lib/python3.10/site-packages/transformers/models/detr/feature_extraction_detr.py:38: FutureWarning: The class DetrFeatureExtractor is deprecated and will be removed in version 5 of Transformers. Please use DetrImageProcessor instead.\n",
            "  warnings.warn(\n"
          ]
        },
        {
          "name": "stdout",
          "output_type": "stream",
          "text": [
            "12 96 582 349\n",
            "TABLE PRESENT\n",
            "{'accuracy': 93.24, 'whitespace': 64.29, 'order': 1, 'page': 44}\n",
            "\n",
            "Folder already exists: /Users/danielbasman/Desktop/Desktop - Daniel’s MacBook Pro/MyStuff/Classes/Human In Loop/data_as_csv/10-K-EX2/\n"
          ]
        },
        {
          "name": "stderr",
          "output_type": "stream",
          "text": [
            "/Library/Frameworks/Python.framework/Versions/3.10/lib/python3.10/site-packages/transformers/models/detr/feature_extraction_detr.py:38: FutureWarning: The class DetrFeatureExtractor is deprecated and will be removed in version 5 of Transformers. Please use DetrImageProcessor instead.\n",
            "  warnings.warn(\n"
          ]
        },
        {
          "name": "stdout",
          "output_type": "stream",
          "text": [
            "22 72 589 401\n",
            "TABLE PRESENT\n",
            "{'accuracy': 93.08, 'whitespace': 34.29, 'order': 1, 'page': 45}\n",
            "\n",
            "Folder already exists: /Users/danielbasman/Desktop/Desktop - Daniel’s MacBook Pro/MyStuff/Classes/Human In Loop/data_as_csv/10-K-EX2/\n"
          ]
        },
        {
          "name": "stderr",
          "output_type": "stream",
          "text": [
            "/Library/Frameworks/Python.framework/Versions/3.10/lib/python3.10/site-packages/transformers/models/detr/feature_extraction_detr.py:38: FutureWarning: The class DetrFeatureExtractor is deprecated and will be removed in version 5 of Transformers. Please use DetrImageProcessor instead.\n",
            "  warnings.warn(\n"
          ]
        },
        {
          "name": "stdout",
          "output_type": "stream",
          "text": [
            "5 53 591 353\n",
            "TABLE PRESENT\n",
            "{'accuracy': 79.79, 'whitespace': 59.77, 'order': 1, 'page': 46}\n",
            "\n",
            "Folder already exists: /Users/danielbasman/Desktop/Desktop - Daniel’s MacBook Pro/MyStuff/Classes/Human In Loop/data_as_csv/10-K-EX2/\n"
          ]
        },
        {
          "name": "stderr",
          "output_type": "stream",
          "text": [
            "/Library/Frameworks/Python.framework/Versions/3.10/lib/python3.10/site-packages/transformers/models/detr/feature_extraction_detr.py:38: FutureWarning: The class DetrFeatureExtractor is deprecated and will be removed in version 5 of Transformers. Please use DetrImageProcessor instead.\n",
            "  warnings.warn(\n"
          ]
        },
        {
          "name": "stdout",
          "output_type": "stream",
          "text": [
            "15 20 588 771\n",
            "{'accuracy': 88.25, 'whitespace': 47.14, 'order': 1, 'page': 47}\n",
            "\n",
            "Folder already exists: /Users/danielbasman/Desktop/Desktop - Daniel’s MacBook Pro/MyStuff/Classes/Human In Loop/data_as_csv/10-K-EX2/\n"
          ]
        },
        {
          "name": "stderr",
          "output_type": "stream",
          "text": [
            "/Library/Frameworks/Python.framework/Versions/3.10/lib/python3.10/site-packages/transformers/models/detr/feature_extraction_detr.py:38: FutureWarning: The class DetrFeatureExtractor is deprecated and will be removed in version 5 of Transformers. Please use DetrImageProcessor instead.\n",
            "  warnings.warn(\n"
          ]
        },
        {
          "name": "stdout",
          "output_type": "stream",
          "text": [
            "4 61 602 350\n",
            "TABLE PRESENT\n"
          ]
        },
        {
          "name": "stderr",
          "output_type": "stream",
          "text": [
            "/Library/Frameworks/Python.framework/Versions/3.10/lib/python3.10/site-packages/camelot/parsers/stream.py:365: UserWarning: No tables found in table area 1\n",
            "  warnings.warn(f\"No tables found in table area {table_idx + 1}\")\n",
            "/Library/Frameworks/Python.framework/Versions/3.10/lib/python3.10/site-packages/transformers/models/detr/feature_extraction_detr.py:38: FutureWarning: The class DetrFeatureExtractor is deprecated and will be removed in version 5 of Transformers. Please use DetrImageProcessor instead.\n",
            "  warnings.warn(\n"
          ]
        },
        {
          "name": "stdout",
          "output_type": "stream",
          "text": [
            "{'accuracy': 53.73, 'whitespace': 0.0, 'order': 1, 'page': 48}\n",
            "\n",
            "Folder already exists: /Users/danielbasman/Desktop/Desktop - Daniel’s MacBook Pro/MyStuff/Classes/Human In Loop/data_as_csv/10-K-EX2/\n",
            "7 53 599 377\n",
            "TABLE PRESENT\n"
          ]
        },
        {
          "name": "stderr",
          "output_type": "stream",
          "text": [
            "/Library/Frameworks/Python.framework/Versions/3.10/lib/python3.10/site-packages/camelot/parsers/stream.py:365: UserWarning: No tables found in table area 1\n",
            "  warnings.warn(f\"No tables found in table area {table_idx + 1}\")\n",
            "/Library/Frameworks/Python.framework/Versions/3.10/lib/python3.10/site-packages/transformers/models/detr/feature_extraction_detr.py:38: FutureWarning: The class DetrFeatureExtractor is deprecated and will be removed in version 5 of Transformers. Please use DetrImageProcessor instead.\n",
            "  warnings.warn(\n"
          ]
        },
        {
          "name": "stdout",
          "output_type": "stream",
          "text": [
            "{'accuracy': 100.0, 'whitespace': 0.0, 'order': 1, 'page': 49}\n",
            "\n",
            "Folder already exists: /Users/danielbasman/Desktop/Desktop - Daniel’s MacBook Pro/MyStuff/Classes/Human In Loop/data_as_csv/10-K-EX2/\n",
            "7 50 602 741\n",
            "{'accuracy': 87.73, 'whitespace': 47.06, 'order': 1, 'page': 50}\n",
            "\n",
            "Folder already exists: /Users/danielbasman/Desktop/Desktop - Daniel’s MacBook Pro/MyStuff/Classes/Human In Loop/data_as_csv/10-K-EX2/\n"
          ]
        },
        {
          "name": "stderr",
          "output_type": "stream",
          "text": [
            "/Library/Frameworks/Python.framework/Versions/3.10/lib/python3.10/site-packages/transformers/models/detr/feature_extraction_detr.py:38: FutureWarning: The class DetrFeatureExtractor is deprecated and will be removed in version 5 of Transformers. Please use DetrImageProcessor instead.\n",
            "  warnings.warn(\n"
          ]
        },
        {
          "name": "stdout",
          "output_type": "stream",
          "text": [
            "8 39 602 752\n",
            "{'accuracy': 83.03, 'whitespace': 48.53, 'order': 1, 'page': 51}\n",
            "\n",
            "Folder already exists: /Users/danielbasman/Desktop/Desktop - Daniel’s MacBook Pro/MyStuff/Classes/Human In Loop/data_as_csv/10-K-EX2/\n"
          ]
        },
        {
          "name": "stderr",
          "output_type": "stream",
          "text": [
            "/Library/Frameworks/Python.framework/Versions/3.10/lib/python3.10/site-packages/transformers/models/detr/feature_extraction_detr.py:38: FutureWarning: The class DetrFeatureExtractor is deprecated and will be removed in version 5 of Transformers. Please use DetrImageProcessor instead.\n",
            "  warnings.warn(\n"
          ]
        },
        {
          "name": "stdout",
          "output_type": "stream",
          "text": [
            "9 43 597 471\n",
            "TABLE PRESENT\n"
          ]
        },
        {
          "name": "stderr",
          "output_type": "stream",
          "text": [
            "/Library/Frameworks/Python.framework/Versions/3.10/lib/python3.10/site-packages/camelot/parsers/stream.py:365: UserWarning: No tables found in table area 1\n",
            "  warnings.warn(f\"No tables found in table area {table_idx + 1}\")\n",
            "/Library/Frameworks/Python.framework/Versions/3.10/lib/python3.10/site-packages/transformers/models/detr/feature_extraction_detr.py:38: FutureWarning: The class DetrFeatureExtractor is deprecated and will be removed in version 5 of Transformers. Please use DetrImageProcessor instead.\n",
            "  warnings.warn(\n"
          ]
        },
        {
          "name": "stdout",
          "output_type": "stream",
          "text": [
            "{'accuracy': 100.0, 'whitespace': 0.0, 'order': 1, 'page': 52}\n",
            "\n",
            "Folder already exists: /Users/danielbasman/Desktop/Desktop - Daniel’s MacBook Pro/MyStuff/Classes/Human In Loop/data_as_csv/10-K-EX2/\n",
            "6 54 603 559\n",
            "TABLE PRESENT\n"
          ]
        },
        {
          "name": "stderr",
          "output_type": "stream",
          "text": [
            "/Library/Frameworks/Python.framework/Versions/3.10/lib/python3.10/site-packages/camelot/parsers/stream.py:365: UserWarning: No tables found in table area 1\n",
            "  warnings.warn(f\"No tables found in table area {table_idx + 1}\")\n",
            "/Library/Frameworks/Python.framework/Versions/3.10/lib/python3.10/site-packages/transformers/models/detr/feature_extraction_detr.py:38: FutureWarning: The class DetrFeatureExtractor is deprecated and will be removed in version 5 of Transformers. Please use DetrImageProcessor instead.\n",
            "  warnings.warn(\n"
          ]
        },
        {
          "name": "stdout",
          "output_type": "stream",
          "text": [
            "{'accuracy': 100.0, 'whitespace': 0.0, 'order': 1, 'page': 53}\n",
            "\n",
            "Folder already exists: /Users/danielbasman/Desktop/Desktop - Daniel’s MacBook Pro/MyStuff/Classes/Human In Loop/data_as_csv/10-K-EX2/\n",
            "7 50 604 741\n",
            "{'accuracy': 87.07, 'whitespace': 48.48, 'order': 1, 'page': 54}\n",
            "\n",
            "Folder already exists: /Users/danielbasman/Desktop/Desktop - Daniel’s MacBook Pro/MyStuff/Classes/Human In Loop/data_as_csv/10-K-EX2/\n"
          ]
        },
        {
          "name": "stderr",
          "output_type": "stream",
          "text": [
            "/Library/Frameworks/Python.framework/Versions/3.10/lib/python3.10/site-packages/transformers/models/detr/feature_extraction_detr.py:38: FutureWarning: The class DetrFeatureExtractor is deprecated and will be removed in version 5 of Transformers. Please use DetrImageProcessor instead.\n",
            "  warnings.warn(\n"
          ]
        },
        {
          "name": "stdout",
          "output_type": "stream",
          "text": [
            "11 81 580 709\n",
            "{'accuracy': 80.73, 'whitespace': 45.31, 'order': 1, 'page': 55}\n",
            "\n",
            "Folder already exists: /Users/danielbasman/Desktop/Desktop - Daniel’s MacBook Pro/MyStuff/Classes/Human In Loop/data_as_csv/10-K-EX2/\n"
          ]
        },
        {
          "name": "stderr",
          "output_type": "stream",
          "text": [
            "/Library/Frameworks/Python.framework/Versions/3.10/lib/python3.10/site-packages/transformers/models/detr/feature_extraction_detr.py:38: FutureWarning: The class DetrFeatureExtractor is deprecated and will be removed in version 5 of Transformers. Please use DetrImageProcessor instead.\n",
            "  warnings.warn(\n"
          ]
        },
        {
          "name": "stdout",
          "output_type": "stream",
          "text": [
            "25 107 566 562\n",
            "TABLE PRESENT\n"
          ]
        },
        {
          "name": "stderr",
          "output_type": "stream",
          "text": [
            "/Library/Frameworks/Python.framework/Versions/3.10/lib/python3.10/site-packages/camelot/parsers/stream.py:365: UserWarning: No tables found in table area 1\n",
            "  warnings.warn(f\"No tables found in table area {table_idx + 1}\")\n",
            "/Library/Frameworks/Python.framework/Versions/3.10/lib/python3.10/site-packages/transformers/models/detr/feature_extraction_detr.py:38: FutureWarning: The class DetrFeatureExtractor is deprecated and will be removed in version 5 of Transformers. Please use DetrImageProcessor instead.\n",
            "  warnings.warn(\n"
          ]
        },
        {
          "name": "stdout",
          "output_type": "stream",
          "text": [
            "{'accuracy': 100.0, 'whitespace': 0.0, 'order': 1, 'page': 56}\n",
            "\n",
            "Folder already exists: /Users/danielbasman/Desktop/Desktop - Daniel’s MacBook Pro/MyStuff/Classes/Human In Loop/data_as_csv/10-K-EX2/\n",
            "19 77 571 397\n",
            "TABLE PRESENT\n",
            "{'accuracy': 97.01, 'whitespace': 61.9, 'order': 1, 'page': 57}\n",
            "\n",
            "Folder already exists: /Users/danielbasman/Desktop/Desktop - Daniel’s MacBook Pro/MyStuff/Classes/Human In Loop/data_as_csv/10-K-EX2/\n"
          ]
        },
        {
          "name": "stderr",
          "output_type": "stream",
          "text": [
            "/Library/Frameworks/Python.framework/Versions/3.10/lib/python3.10/site-packages/transformers/models/detr/feature_extraction_detr.py:38: FutureWarning: The class DetrFeatureExtractor is deprecated and will be removed in version 5 of Transformers. Please use DetrImageProcessor instead.\n",
            "  warnings.warn(\n"
          ]
        },
        {
          "name": "stdout",
          "output_type": "stream",
          "text": [
            "14 45 576 424\n",
            "TABLE PRESENT\n",
            "{'accuracy': 100.0, 'whitespace': 0.0, 'order': 1, 'page': 58}\n",
            "\n",
            "Folder already exists: /Users/danielbasman/Desktop/Desktop - Daniel’s MacBook Pro/MyStuff/Classes/Human In Loop/data_as_csv/10-K-EX2/\n"
          ]
        },
        {
          "name": "stderr",
          "output_type": "stream",
          "text": [
            "/Library/Frameworks/Python.framework/Versions/3.10/lib/python3.10/site-packages/transformers/models/detr/feature_extraction_detr.py:38: FutureWarning: The class DetrFeatureExtractor is deprecated and will be removed in version 5 of Transformers. Please use DetrImageProcessor instead.\n",
            "  warnings.warn(\n"
          ]
        },
        {
          "name": "stdout",
          "output_type": "stream",
          "text": [
            "13 79 576 618\n",
            "TABLE PRESENT\n",
            "{'accuracy': 83.81, 'whitespace': 37.14, 'order': 1, 'page': 59}\n",
            "\n",
            "Folder already exists: /Users/danielbasman/Desktop/Desktop - Daniel’s MacBook Pro/MyStuff/Classes/Human In Loop/data_as_csv/10-K-EX2/\n"
          ]
        },
        {
          "name": "stderr",
          "output_type": "stream",
          "text": [
            "/Library/Frameworks/Python.framework/Versions/3.10/lib/python3.10/site-packages/transformers/models/detr/feature_extraction_detr.py:38: FutureWarning: The class DetrFeatureExtractor is deprecated and will be removed in version 5 of Transformers. Please use DetrImageProcessor instead.\n",
            "  warnings.warn(\n"
          ]
        },
        {
          "name": "stdout",
          "output_type": "stream",
          "text": [
            "17 96 580 241\n",
            "TABLE PRESENT\n",
            "{'accuracy': 93.05, 'whitespace': 58.0, 'order': 1, 'page': 60}\n",
            "\n",
            "Folder already exists: /Users/danielbasman/Desktop/Desktop - Daniel’s MacBook Pro/MyStuff/Classes/Human In Loop/data_as_csv/10-K-EX2/\n"
          ]
        },
        {
          "name": "stderr",
          "output_type": "stream",
          "text": [
            "/Library/Frameworks/Python.framework/Versions/3.10/lib/python3.10/site-packages/transformers/models/detr/feature_extraction_detr.py:38: FutureWarning: The class DetrFeatureExtractor is deprecated and will be removed in version 5 of Transformers. Please use DetrImageProcessor instead.\n",
            "  warnings.warn(\n"
          ]
        },
        {
          "name": "stdout",
          "output_type": "stream",
          "text": [
            "16 39 584 449\n",
            "TABLE PRESENT\n"
          ]
        },
        {
          "name": "stderr",
          "output_type": "stream",
          "text": [
            "/Library/Frameworks/Python.framework/Versions/3.10/lib/python3.10/site-packages/camelot/parsers/stream.py:365: UserWarning: No tables found in table area 1\n",
            "  warnings.warn(f\"No tables found in table area {table_idx + 1}\")\n",
            "/Library/Frameworks/Python.framework/Versions/3.10/lib/python3.10/site-packages/transformers/models/detr/feature_extraction_detr.py:38: FutureWarning: The class DetrFeatureExtractor is deprecated and will be removed in version 5 of Transformers. Please use DetrImageProcessor instead.\n",
            "  warnings.warn(\n"
          ]
        },
        {
          "name": "stdout",
          "output_type": "stream",
          "text": [
            "{'accuracy': 100.0, 'whitespace': 0.0, 'order': 1, 'page': 61}\n",
            "\n",
            "Folder already exists: /Users/danielbasman/Desktop/Desktop - Daniel’s MacBook Pro/MyStuff/Classes/Human In Loop/data_as_csv/10-K-EX2/\n",
            "10 42 589 569\n",
            "TABLE PRESENT\n",
            "{'accuracy': 95.07, 'whitespace': 67.13, 'order': 1, 'page': 62}\n",
            "\n",
            "Folder already exists: /Users/danielbasman/Desktop/Desktop - Daniel’s MacBook Pro/MyStuff/Classes/Human In Loop/data_as_csv/10-K-EX2/\n"
          ]
        },
        {
          "name": "stderr",
          "output_type": "stream",
          "text": [
            "/Library/Frameworks/Python.framework/Versions/3.10/lib/python3.10/site-packages/transformers/models/detr/feature_extraction_detr.py:38: FutureWarning: The class DetrFeatureExtractor is deprecated and will be removed in version 5 of Transformers. Please use DetrImageProcessor instead.\n",
            "  warnings.warn(\n"
          ]
        },
        {
          "name": "stdout",
          "output_type": "stream",
          "text": [
            "13 26 575 530\n",
            "TABLE PRESENT\n",
            "{'accuracy': 83.24, 'whitespace': 55.86, 'order': 1, 'page': 63}\n",
            "\n",
            "Folder already exists: /Users/danielbasman/Desktop/Desktop - Daniel’s MacBook Pro/MyStuff/Classes/Human In Loop/data_as_csv/10-K-EX2/\n"
          ]
        },
        {
          "name": "stderr",
          "output_type": "stream",
          "text": [
            "/Library/Frameworks/Python.framework/Versions/3.10/lib/python3.10/site-packages/transformers/models/detr/feature_extraction_detr.py:38: FutureWarning: The class DetrFeatureExtractor is deprecated and will be removed in version 5 of Transformers. Please use DetrImageProcessor instead.\n",
            "  warnings.warn(\n"
          ]
        },
        {
          "name": "stdout",
          "output_type": "stream",
          "text": [
            "13 46 570 745\n",
            "{'accuracy': 82.68, 'whitespace': 64.71, 'order': 1, 'page': 64}\n",
            "\n",
            "Folder already exists: /Users/danielbasman/Desktop/Desktop - Daniel’s MacBook Pro/MyStuff/Classes/Human In Loop/data_as_csv/10-K-EX2/\n"
          ]
        },
        {
          "name": "stderr",
          "output_type": "stream",
          "text": [
            "/Library/Frameworks/Python.framework/Versions/3.10/lib/python3.10/site-packages/transformers/models/detr/feature_extraction_detr.py:38: FutureWarning: The class DetrFeatureExtractor is deprecated and will be removed in version 5 of Transformers. Please use DetrImageProcessor instead.\n",
            "  warnings.warn(\n"
          ]
        },
        {
          "name": "stdout",
          "output_type": "stream",
          "text": [
            "10 239 576 226\n",
            "TABLE PRESENT\n",
            "SUGGESTED TABLE WAS BLANK SPACE\n"
          ]
        },
        {
          "name": "stderr",
          "output_type": "stream",
          "text": [
            "/Library/Frameworks/Python.framework/Versions/3.10/lib/python3.10/site-packages/transformers/models/detr/feature_extraction_detr.py:38: FutureWarning: The class DetrFeatureExtractor is deprecated and will be removed in version 5 of Transformers. Please use DetrImageProcessor instead.\n",
            "  warnings.warn(\n"
          ]
        },
        {
          "name": "stdout",
          "output_type": "stream",
          "text": [
            "9 70 594 342\n",
            "TABLE PRESENT\n",
            "{'accuracy': 89.4, 'whitespace': 74.88, 'order': 1, 'page': 66}\n",
            "\n",
            "Folder already exists: /Users/danielbasman/Desktop/Desktop - Daniel’s MacBook Pro/MyStuff/Classes/Human In Loop/data_as_csv/10-K-EX2/\n"
          ]
        },
        {
          "name": "stderr",
          "output_type": "stream",
          "text": [
            "/Library/Frameworks/Python.framework/Versions/3.10/lib/python3.10/site-packages/transformers/models/detr/feature_extraction_detr.py:38: FutureWarning: The class DetrFeatureExtractor is deprecated and will be removed in version 5 of Transformers. Please use DetrImageProcessor instead.\n",
            "  warnings.warn(\n"
          ]
        },
        {
          "name": "stdout",
          "output_type": "stream",
          "text": [
            "20 281 505 144\n",
            "TABLE PRESENT\n",
            "{'accuracy': 76.76, 'whitespace': 64.58, 'order': 1, 'page': 67}\n",
            "\n",
            "Folder already exists: /Users/danielbasman/Desktop/Desktop - Daniel’s MacBook Pro/MyStuff/Classes/Human In Loop/data_as_csv/10-K-EX2/\n"
          ]
        },
        {
          "name": "stderr",
          "output_type": "stream",
          "text": [
            "/Library/Frameworks/Python.framework/Versions/3.10/lib/python3.10/site-packages/transformers/models/detr/feature_extraction_detr.py:38: FutureWarning: The class DetrFeatureExtractor is deprecated and will be removed in version 5 of Transformers. Please use DetrImageProcessor instead.\n",
            "  warnings.warn(\n"
          ]
        },
        {
          "name": "stdout",
          "output_type": "stream",
          "text": [
            "7 66 593 441\n",
            "TABLE PRESENT\n",
            "{'accuracy': -93.96, 'whitespace': 74.62, 'order': 1, 'page': 68}\n",
            "\n",
            "Folder already exists: /Users/danielbasman/Desktop/Desktop - Daniel’s MacBook Pro/MyStuff/Classes/Human In Loop/data_as_csv/10-K-EX2/\n"
          ]
        },
        {
          "name": "stderr",
          "output_type": "stream",
          "text": [
            "/Library/Frameworks/Python.framework/Versions/3.10/lib/python3.10/site-packages/transformers/models/detr/feature_extraction_detr.py:38: FutureWarning: The class DetrFeatureExtractor is deprecated and will be removed in version 5 of Transformers. Please use DetrImageProcessor instead.\n",
            "  warnings.warn(\n"
          ]
        },
        {
          "name": "stdout",
          "output_type": "stream",
          "text": [
            "9 115 593 469\n",
            "TABLE PRESENT\n",
            "{'accuracy': -529.83, 'whitespace': 73.21, 'order': 1, 'page': 69}\n",
            "\n",
            "Folder already exists: /Users/danielbasman/Desktop/Desktop - Daniel’s MacBook Pro/MyStuff/Classes/Human In Loop/data_as_csv/10-K-EX2/\n"
          ]
        },
        {
          "name": "stderr",
          "output_type": "stream",
          "text": [
            "/Library/Frameworks/Python.framework/Versions/3.10/lib/python3.10/site-packages/transformers/models/detr/feature_extraction_detr.py:38: FutureWarning: The class DetrFeatureExtractor is deprecated and will be removed in version 5 of Transformers. Please use DetrImageProcessor instead.\n",
            "  warnings.warn(\n"
          ]
        },
        {
          "name": "stdout",
          "output_type": "stream",
          "text": [
            "8 7 611 784\n",
            "{'accuracy': 87.86, 'whitespace': 67.52, 'order': 1, 'page': 70}\n",
            "\n",
            "Folder already exists: /Users/danielbasman/Desktop/Desktop - Daniel’s MacBook Pro/MyStuff/Classes/Human In Loop/data_as_csv/10-K-EX2/\n"
          ]
        },
        {
          "name": "stderr",
          "output_type": "stream",
          "text": [
            "/Library/Frameworks/Python.framework/Versions/3.10/lib/python3.10/site-packages/transformers/models/detr/feature_extraction_detr.py:38: FutureWarning: The class DetrFeatureExtractor is deprecated and will be removed in version 5 of Transformers. Please use DetrImageProcessor instead.\n",
            "  warnings.warn(\n"
          ]
        },
        {
          "name": "stdout",
          "output_type": "stream",
          "text": [
            "6 48 606 638\n",
            "TABLE PRESENT\n"
          ]
        },
        {
          "name": "stderr",
          "output_type": "stream",
          "text": [
            "/Library/Frameworks/Python.framework/Versions/3.10/lib/python3.10/site-packages/camelot/parsers/stream.py:365: UserWarning: No tables found in table area 1\n",
            "  warnings.warn(f\"No tables found in table area {table_idx + 1}\")\n",
            "/Library/Frameworks/Python.framework/Versions/3.10/lib/python3.10/site-packages/transformers/models/detr/feature_extraction_detr.py:38: FutureWarning: The class DetrFeatureExtractor is deprecated and will be removed in version 5 of Transformers. Please use DetrImageProcessor instead.\n",
            "  warnings.warn(\n"
          ]
        },
        {
          "name": "stdout",
          "output_type": "stream",
          "text": [
            "{'accuracy': 100.0, 'whitespace': 0.0, 'order': 1, 'page': 71}\n",
            "\n",
            "Folder already exists: /Users/danielbasman/Desktop/Desktop - Daniel’s MacBook Pro/MyStuff/Classes/Human In Loop/data_as_csv/10-K-EX2/\n",
            "4 49 604 443\n",
            "TABLE PRESENT\n"
          ]
        },
        {
          "name": "stderr",
          "output_type": "stream",
          "text": [
            "/Library/Frameworks/Python.framework/Versions/3.10/lib/python3.10/site-packages/camelot/parsers/stream.py:365: UserWarning: No tables found in table area 1\n",
            "  warnings.warn(f\"No tables found in table area {table_idx + 1}\")\n",
            "/Library/Frameworks/Python.framework/Versions/3.10/lib/python3.10/site-packages/transformers/models/detr/feature_extraction_detr.py:38: FutureWarning: The class DetrFeatureExtractor is deprecated and will be removed in version 5 of Transformers. Please use DetrImageProcessor instead.\n",
            "  warnings.warn(\n"
          ]
        },
        {
          "name": "stdout",
          "output_type": "stream",
          "text": [
            "{'accuracy': 100.0, 'whitespace': 0.0, 'order': 1, 'page': 72}\n",
            "\n",
            "Folder already exists: /Users/danielbasman/Desktop/Desktop - Daniel’s MacBook Pro/MyStuff/Classes/Human In Loop/data_as_csv/10-K-EX2/\n",
            "5 55 611 359\n",
            "TABLE PRESENT\n"
          ]
        },
        {
          "name": "stderr",
          "output_type": "stream",
          "text": [
            "/Library/Frameworks/Python.framework/Versions/3.10/lib/python3.10/site-packages/camelot/parsers/stream.py:365: UserWarning: No tables found in table area 1\n",
            "  warnings.warn(f\"No tables found in table area {table_idx + 1}\")\n",
            "/Library/Frameworks/Python.framework/Versions/3.10/lib/python3.10/site-packages/transformers/models/detr/feature_extraction_detr.py:38: FutureWarning: The class DetrFeatureExtractor is deprecated and will be removed in version 5 of Transformers. Please use DetrImageProcessor instead.\n",
            "  warnings.warn(\n"
          ]
        },
        {
          "name": "stdout",
          "output_type": "stream",
          "text": [
            "{'accuracy': 100.0, 'whitespace': 0.0, 'order': 1, 'page': 73}\n",
            "\n",
            "Folder already exists: /Users/danielbasman/Desktop/Desktop - Daniel’s MacBook Pro/MyStuff/Classes/Human In Loop/data_as_csv/10-K-EX2/\n",
            "6 68 603 366\n",
            "TABLE PRESENT\n"
          ]
        },
        {
          "name": "stderr",
          "output_type": "stream",
          "text": [
            "/Library/Frameworks/Python.framework/Versions/3.10/lib/python3.10/site-packages/camelot/parsers/stream.py:365: UserWarning: No tables found in table area 1\n",
            "  warnings.warn(f\"No tables found in table area {table_idx + 1}\")\n",
            "/Library/Frameworks/Python.framework/Versions/3.10/lib/python3.10/site-packages/transformers/models/detr/feature_extraction_detr.py:38: FutureWarning: The class DetrFeatureExtractor is deprecated and will be removed in version 5 of Transformers. Please use DetrImageProcessor instead.\n",
            "  warnings.warn(\n"
          ]
        },
        {
          "name": "stdout",
          "output_type": "stream",
          "text": [
            "{'accuracy': 100.0, 'whitespace': 0.0, 'order': 1, 'page': 74}\n",
            "\n",
            "Folder already exists: /Users/danielbasman/Desktop/Desktop - Daniel’s MacBook Pro/MyStuff/Classes/Human In Loop/data_as_csv/10-K-EX2/\n",
            "9 74 593 717\n",
            "{'accuracy': 87.1, 'whitespace': 48.48, 'order': 1, 'page': 75}\n",
            "\n",
            "Folder already exists: /Users/danielbasman/Desktop/Desktop - Daniel’s MacBook Pro/MyStuff/Classes/Human In Loop/data_as_csv/10-K-EX2/\n"
          ]
        },
        {
          "name": "stderr",
          "output_type": "stream",
          "text": [
            "/Library/Frameworks/Python.framework/Versions/3.10/lib/python3.10/site-packages/transformers/models/detr/feature_extraction_detr.py:38: FutureWarning: The class DetrFeatureExtractor is deprecated and will be removed in version 5 of Transformers. Please use DetrImageProcessor instead.\n",
            "  warnings.warn(\n"
          ]
        },
        {
          "name": "stdout",
          "output_type": "stream",
          "text": [
            "21 14 562 657\n",
            "TABLE PRESENT\n",
            "{'accuracy': 75.22, 'whitespace': 60.42, 'order': 1, 'page': 76}\n",
            "\n",
            "Folder already exists: /Users/danielbasman/Desktop/Desktop - Daniel’s MacBook Pro/MyStuff/Classes/Human In Loop/data_as_csv/10-K-EX2/\n"
          ]
        },
        {
          "name": "stderr",
          "output_type": "stream",
          "text": [
            "/Library/Frameworks/Python.framework/Versions/3.10/lib/python3.10/site-packages/transformers/models/detr/feature_extraction_detr.py:38: FutureWarning: The class DetrFeatureExtractor is deprecated and will be removed in version 5 of Transformers. Please use DetrImageProcessor instead.\n",
            "  warnings.warn(\n"
          ]
        },
        {
          "name": "stdout",
          "output_type": "stream",
          "text": [
            "15 214 569 181\n",
            "TABLE PRESENT\n",
            "{'accuracy': 100.0, 'whitespace': 9.38, 'order': 1, 'page': 77}\n",
            "\n",
            "Folder already exists: /Users/danielbasman/Desktop/Desktop - Daniel’s MacBook Pro/MyStuff/Classes/Human In Loop/data_as_csv/10-K-EX2/\n"
          ]
        },
        {
          "name": "stderr",
          "output_type": "stream",
          "text": [
            "/Library/Frameworks/Python.framework/Versions/3.10/lib/python3.10/site-packages/transformers/models/detr/feature_extraction_detr.py:38: FutureWarning: The class DetrFeatureExtractor is deprecated and will be removed in version 5 of Transformers. Please use DetrImageProcessor instead.\n",
            "  warnings.warn(\n"
          ]
        },
        {
          "name": "stdout",
          "output_type": "stream",
          "text": [
            "16 80 603 433\n",
            "TABLE PRESENT\n"
          ]
        },
        {
          "name": "stderr",
          "output_type": "stream",
          "text": [
            "/Library/Frameworks/Python.framework/Versions/3.10/lib/python3.10/site-packages/camelot/parsers/stream.py:365: UserWarning: No tables found in table area 1\n",
            "  warnings.warn(f\"No tables found in table area {table_idx + 1}\")\n",
            "/Library/Frameworks/Python.framework/Versions/3.10/lib/python3.10/site-packages/transformers/models/detr/feature_extraction_detr.py:38: FutureWarning: The class DetrFeatureExtractor is deprecated and will be removed in version 5 of Transformers. Please use DetrImageProcessor instead.\n",
            "  warnings.warn(\n"
          ]
        },
        {
          "name": "stdout",
          "output_type": "stream",
          "text": [
            "{'accuracy': 100.0, 'whitespace': 0.0, 'order': 1, 'page': 78}\n",
            "\n",
            "Folder already exists: /Users/danielbasman/Desktop/Desktop - Daniel’s MacBook Pro/MyStuff/Classes/Human In Loop/data_as_csv/10-K-EX2/\n",
            "9 143 445 398\n",
            "TABLE PRESENT\n",
            "{'accuracy': 41.16, 'whitespace': 46.25, 'order': 1, 'page': 79}\n",
            "\n",
            "Folder already exists: /Users/danielbasman/Desktop/Desktop - Daniel’s MacBook Pro/MyStuff/Classes/Human In Loop/data_as_csv/10-K-EX2/\n"
          ]
        },
        {
          "name": "stderr",
          "output_type": "stream",
          "text": [
            "/Library/Frameworks/Python.framework/Versions/3.10/lib/python3.10/site-packages/transformers/models/detr/feature_extraction_detr.py:38: FutureWarning: The class DetrFeatureExtractor is deprecated and will be removed in version 5 of Transformers. Please use DetrImageProcessor instead.\n",
            "  warnings.warn(\n"
          ]
        },
        {
          "name": "stdout",
          "output_type": "stream",
          "text": [
            "13 92 581 264\n",
            "TABLE PRESENT\n",
            "{'accuracy': 99.73, 'whitespace': 40.48, 'order': 1, 'page': 80}\n",
            "\n",
            "Folder already exists: /Users/danielbasman/Desktop/Desktop - Daniel’s MacBook Pro/MyStuff/Classes/Human In Loop/data_as_csv/10-K-EX2/\n"
          ]
        },
        {
          "name": "stderr",
          "output_type": "stream",
          "text": [
            "/Library/Frameworks/Python.framework/Versions/3.10/lib/python3.10/site-packages/transformers/models/detr/feature_extraction_detr.py:38: FutureWarning: The class DetrFeatureExtractor is deprecated and will be removed in version 5 of Transformers. Please use DetrImageProcessor instead.\n",
            "  warnings.warn(\n"
          ]
        },
        {
          "name": "stdout",
          "output_type": "stream",
          "text": [
            "23 159 574 550\n",
            "TABLE PRESENT\n",
            "{'accuracy': 15.6, 'whitespace': 45.24, 'order': 1, 'page': 81}\n",
            "\n",
            "Folder already exists: /Users/danielbasman/Desktop/Desktop - Daniel’s MacBook Pro/MyStuff/Classes/Human In Loop/data_as_csv/10-K-EX2/\n"
          ]
        },
        {
          "name": "stderr",
          "output_type": "stream",
          "text": [
            "/Library/Frameworks/Python.framework/Versions/3.10/lib/python3.10/site-packages/transformers/models/detr/feature_extraction_detr.py:38: FutureWarning: The class DetrFeatureExtractor is deprecated and will be removed in version 5 of Transformers. Please use DetrImageProcessor instead.\n",
            "  warnings.warn(\n"
          ]
        },
        {
          "name": "stdout",
          "output_type": "stream",
          "text": [
            "9 61 588 619\n",
            "TABLE PRESENT\n",
            "{'accuracy': 93.83, 'whitespace': 30.84, 'order': 1, 'page': 82}\n",
            "\n",
            "Folder already exists: /Users/danielbasman/Desktop/Desktop - Daniel’s MacBook Pro/MyStuff/Classes/Human In Loop/data_as_csv/10-K-EX2/\n"
          ]
        },
        {
          "name": "stderr",
          "output_type": "stream",
          "text": [
            "/Library/Frameworks/Python.framework/Versions/3.10/lib/python3.10/site-packages/transformers/models/detr/feature_extraction_detr.py:38: FutureWarning: The class DetrFeatureExtractor is deprecated and will be removed in version 5 of Transformers. Please use DetrImageProcessor instead.\n",
            "  warnings.warn(\n"
          ]
        },
        {
          "name": "stdout",
          "output_type": "stream",
          "text": [
            "8 21 591 460\n",
            "TABLE PRESENT\n",
            "{'accuracy': 99.01, 'whitespace': 19.15, 'order': 1, 'page': 83}\n",
            "\n",
            "Folder already exists: /Users/danielbasman/Desktop/Desktop - Daniel’s MacBook Pro/MyStuff/Classes/Human In Loop/data_as_csv/10-K-EX2/\n"
          ]
        },
        {
          "name": "stderr",
          "output_type": "stream",
          "text": [
            "/Library/Frameworks/Python.framework/Versions/3.10/lib/python3.10/site-packages/transformers/models/detr/feature_extraction_detr.py:38: FutureWarning: The class DetrFeatureExtractor is deprecated and will be removed in version 5 of Transformers. Please use DetrImageProcessor instead.\n",
            "  warnings.warn(\n"
          ]
        },
        {
          "name": "stdout",
          "output_type": "stream",
          "text": [
            "10 4 585 785\n",
            "{'accuracy': 91.93, 'whitespace': 45.45, 'order': 1, 'page': 84}\n",
            "\n",
            "Folder already exists: /Users/danielbasman/Desktop/Desktop - Daniel’s MacBook Pro/MyStuff/Classes/Human In Loop/data_as_csv/10-K-EX2/\n"
          ]
        },
        {
          "name": "stderr",
          "output_type": "stream",
          "text": [
            "/Library/Frameworks/Python.framework/Versions/3.10/lib/python3.10/site-packages/transformers/models/detr/feature_extraction_detr.py:38: FutureWarning: The class DetrFeatureExtractor is deprecated and will be removed in version 5 of Transformers. Please use DetrImageProcessor instead.\n",
            "  warnings.warn(\n"
          ]
        },
        {
          "name": "stdout",
          "output_type": "stream",
          "text": [
            "7 5 599 500\n",
            "TABLE PRESENT\n",
            "{'accuracy': 78.65, 'whitespace': 60.78, 'order': 1, 'page': 85}\n",
            "\n",
            "Folder already exists: /Users/danielbasman/Desktop/Desktop - Daniel’s MacBook Pro/MyStuff/Classes/Human In Loop/data_as_csv/10-K-EX2/\n"
          ]
        },
        {
          "name": "stderr",
          "output_type": "stream",
          "text": [
            "/Library/Frameworks/Python.framework/Versions/3.10/lib/python3.10/site-packages/transformers/models/detr/feature_extraction_detr.py:38: FutureWarning: The class DetrFeatureExtractor is deprecated and will be removed in version 5 of Transformers. Please use DetrImageProcessor instead.\n",
            "  warnings.warn(\n"
          ]
        },
        {
          "name": "stdout",
          "output_type": "stream",
          "text": [
            "10 5 600 786\n",
            "{'accuracy': 90.12, 'whitespace': 45.59, 'order': 1, 'page': 86}\n",
            "\n",
            "Folder already exists: /Users/danielbasman/Desktop/Desktop - Daniel’s MacBook Pro/MyStuff/Classes/Human In Loop/data_as_csv/10-K-EX2/\n"
          ]
        },
        {
          "name": "stderr",
          "output_type": "stream",
          "text": [
            "/Library/Frameworks/Python.framework/Versions/3.10/lib/python3.10/site-packages/transformers/models/detr/feature_extraction_detr.py:38: FutureWarning: The class DetrFeatureExtractor is deprecated and will be removed in version 5 of Transformers. Please use DetrImageProcessor instead.\n",
            "  warnings.warn(\n"
          ]
        },
        {
          "name": "stdout",
          "output_type": "stream",
          "text": [
            "9 5 593 631\n",
            "TABLE PRESENT\n",
            "{'accuracy': 84.19, 'whitespace': 64.44, 'order': 1, 'page': 87}\n",
            "\n",
            "Folder already exists: /Users/danielbasman/Desktop/Desktop - Daniel’s MacBook Pro/MyStuff/Classes/Human In Loop/data_as_csv/10-K-EX2/\n"
          ]
        },
        {
          "name": "stderr",
          "output_type": "stream",
          "text": [
            "/Library/Frameworks/Python.framework/Versions/3.10/lib/python3.10/site-packages/transformers/models/detr/feature_extraction_detr.py:38: FutureWarning: The class DetrFeatureExtractor is deprecated and will be removed in version 5 of Transformers. Please use DetrImageProcessor instead.\n",
            "  warnings.warn(\n"
          ]
        },
        {
          "name": "stdout",
          "output_type": "stream",
          "text": [
            "9 10 592 456\n",
            "TABLE PRESENT\n",
            "{'accuracy': 83.22, 'whitespace': 64.65, 'order': 1, 'page': 88}\n",
            "\n",
            "Folder already exists: /Users/danielbasman/Desktop/Desktop - Daniel’s MacBook Pro/MyStuff/Classes/Human In Loop/data_as_csv/10-K-EX2/\n"
          ]
        },
        {
          "name": "stderr",
          "output_type": "stream",
          "text": [
            "/Library/Frameworks/Python.framework/Versions/3.10/lib/python3.10/site-packages/transformers/models/detr/feature_extraction_detr.py:38: FutureWarning: The class DetrFeatureExtractor is deprecated and will be removed in version 5 of Transformers. Please use DetrImageProcessor instead.\n",
            "  warnings.warn(\n"
          ]
        },
        {
          "name": "stdout",
          "output_type": "stream",
          "text": [
            "4 24 584 508\n",
            "TABLE PRESENT\n",
            "{'accuracy': 81.43, 'whitespace': 61.46, 'order': 1, 'page': 89}\n",
            "\n",
            "Folder already exists: /Users/danielbasman/Desktop/Desktop - Daniel’s MacBook Pro/MyStuff/Classes/Human In Loop/data_as_csv/10-K-EX2/\n"
          ]
        },
        {
          "name": "stderr",
          "output_type": "stream",
          "text": [
            "/Library/Frameworks/Python.framework/Versions/3.10/lib/python3.10/site-packages/transformers/models/detr/feature_extraction_detr.py:38: FutureWarning: The class DetrFeatureExtractor is deprecated and will be removed in version 5 of Transformers. Please use DetrImageProcessor instead.\n",
            "  warnings.warn(\n"
          ]
        },
        {
          "name": "stdout",
          "output_type": "stream",
          "text": [
            "8 25 591 422\n",
            "TABLE PRESENT\n",
            "{'accuracy': 79.54, 'whitespace': 60.22, 'order': 1, 'page': 90}\n",
            "\n",
            "Folder already exists: /Users/danielbasman/Desktop/Desktop - Daniel’s MacBook Pro/MyStuff/Classes/Human In Loop/data_as_csv/10-K-EX2/\n"
          ]
        },
        {
          "name": "stderr",
          "output_type": "stream",
          "text": [
            "/Library/Frameworks/Python.framework/Versions/3.10/lib/python3.10/site-packages/transformers/models/detr/feature_extraction_detr.py:38: FutureWarning: The class DetrFeatureExtractor is deprecated and will be removed in version 5 of Transformers. Please use DetrImageProcessor instead.\n",
            "  warnings.warn(\n"
          ]
        },
        {
          "name": "stdout",
          "output_type": "stream",
          "text": [
            "15 206 596 188\n",
            "TABLE PRESENT\n"
          ]
        },
        {
          "name": "stderr",
          "output_type": "stream",
          "text": [
            "/Library/Frameworks/Python.framework/Versions/3.10/lib/python3.10/site-packages/camelot/parsers/stream.py:365: UserWarning: No tables found in table area 1\n",
            "  warnings.warn(f\"No tables found in table area {table_idx + 1}\")\n",
            "/Library/Frameworks/Python.framework/Versions/3.10/lib/python3.10/site-packages/transformers/models/detr/feature_extraction_detr.py:38: FutureWarning: The class DetrFeatureExtractor is deprecated and will be removed in version 5 of Transformers. Please use DetrImageProcessor instead.\n",
            "  warnings.warn(\n"
          ]
        },
        {
          "name": "stdout",
          "output_type": "stream",
          "text": [
            "{'accuracy': 28.75, 'whitespace': 0.0, 'order': 1, 'page': 91}\n",
            "\n",
            "Folder already exists: /Users/danielbasman/Desktop/Desktop - Daniel’s MacBook Pro/MyStuff/Classes/Human In Loop/data_as_csv/10-K-EX2/\n",
            "12 89 596 400\n",
            "TABLE PRESENT\n",
            "{'accuracy': -275.89, 'whitespace': 60.92, 'order': 1, 'page': 92}\n",
            "\n",
            "Folder already exists: /Users/danielbasman/Desktop/Desktop - Daniel’s MacBook Pro/MyStuff/Classes/Human In Loop/data_as_csv/10-K-EX2/\n"
          ]
        },
        {
          "name": "stderr",
          "output_type": "stream",
          "text": [
            "/Library/Frameworks/Python.framework/Versions/3.10/lib/python3.10/site-packages/transformers/models/detr/feature_extraction_detr.py:38: FutureWarning: The class DetrFeatureExtractor is deprecated and will be removed in version 5 of Transformers. Please use DetrImageProcessor instead.\n",
            "  warnings.warn(\n"
          ]
        },
        {
          "name": "stdout",
          "output_type": "stream",
          "text": [
            "9 5 601 785\n",
            "{'accuracy': 99.46, 'whitespace': 23.33, 'order': 1, 'page': 93}\n",
            "\n",
            "Folder already exists: /Users/danielbasman/Desktop/Desktop - Daniel’s MacBook Pro/MyStuff/Classes/Human In Loop/data_as_csv/10-K-EX2/\n"
          ]
        },
        {
          "name": "stderr",
          "output_type": "stream",
          "text": [
            "/Library/Frameworks/Python.framework/Versions/3.10/lib/python3.10/site-packages/transformers/models/detr/feature_extraction_detr.py:38: FutureWarning: The class DetrFeatureExtractor is deprecated and will be removed in version 5 of Transformers. Please use DetrImageProcessor instead.\n",
            "  warnings.warn(\n"
          ]
        },
        {
          "name": "stdout",
          "output_type": "stream",
          "text": [
            "9 4 589 786\n",
            "{'accuracy': 85.27, 'whitespace': 44.44, 'order': 1, 'page': 94}\n",
            "\n",
            "Folder already exists: /Users/danielbasman/Desktop/Desktop - Daniel’s MacBook Pro/MyStuff/Classes/Human In Loop/data_as_csv/10-K-EX2/\n"
          ]
        },
        {
          "name": "stderr",
          "output_type": "stream",
          "text": [
            "/Library/Frameworks/Python.framework/Versions/3.10/lib/python3.10/site-packages/transformers/models/detr/feature_extraction_detr.py:38: FutureWarning: The class DetrFeatureExtractor is deprecated and will be removed in version 5 of Transformers. Please use DetrImageProcessor instead.\n",
            "  warnings.warn(\n"
          ]
        },
        {
          "name": "stdout",
          "output_type": "stream",
          "text": [
            "18 79 576 328\n",
            "TABLE PRESENT\n"
          ]
        },
        {
          "name": "stderr",
          "output_type": "stream",
          "text": [
            "/Library/Frameworks/Python.framework/Versions/3.10/lib/python3.10/site-packages/camelot/parsers/stream.py:365: UserWarning: No tables found in table area 1\n",
            "  warnings.warn(f\"No tables found in table area {table_idx + 1}\")\n",
            "/Library/Frameworks/Python.framework/Versions/3.10/lib/python3.10/site-packages/transformers/models/detr/feature_extraction_detr.py:38: FutureWarning: The class DetrFeatureExtractor is deprecated and will be removed in version 5 of Transformers. Please use DetrImageProcessor instead.\n",
            "  warnings.warn(\n"
          ]
        },
        {
          "name": "stdout",
          "output_type": "stream",
          "text": [
            "{'accuracy': 100.0, 'whitespace': 0.0, 'order': 1, 'page': 95}\n",
            "\n",
            "Folder already exists: /Users/danielbasman/Desktop/Desktop - Daniel’s MacBook Pro/MyStuff/Classes/Human In Loop/data_as_csv/10-K-EX2/\n",
            "19 110 578 254\n",
            "TABLE PRESENT\n",
            "{'accuracy': 94.72, 'whitespace': 60.0, 'order': 1, 'page': 96}\n",
            "\n",
            "Folder already exists: /Users/danielbasman/Desktop/Desktop - Daniel’s MacBook Pro/MyStuff/Classes/Human In Loop/data_as_csv/10-K-EX2/\n"
          ]
        },
        {
          "name": "stderr",
          "output_type": "stream",
          "text": [
            "/Library/Frameworks/Python.framework/Versions/3.10/lib/python3.10/site-packages/transformers/models/detr/feature_extraction_detr.py:38: FutureWarning: The class DetrFeatureExtractor is deprecated and will be removed in version 5 of Transformers. Please use DetrImageProcessor instead.\n",
            "  warnings.warn(\n"
          ]
        },
        {
          "name": "stdout",
          "output_type": "stream",
          "text": [
            "13 51 580 456\n",
            "TABLE PRESENT\n",
            "{'accuracy': 98.34, 'whitespace': 30.26, 'order': 1, 'page': 97}\n",
            "\n",
            "Folder already exists: /Users/danielbasman/Desktop/Desktop - Daniel’s MacBook Pro/MyStuff/Classes/Human In Loop/data_as_csv/10-K-EX2/\n"
          ]
        },
        {
          "name": "stderr",
          "output_type": "stream",
          "text": [
            "/Library/Frameworks/Python.framework/Versions/3.10/lib/python3.10/site-packages/transformers/models/detr/feature_extraction_detr.py:38: FutureWarning: The class DetrFeatureExtractor is deprecated and will be removed in version 5 of Transformers. Please use DetrImageProcessor instead.\n",
            "  warnings.warn(\n"
          ]
        },
        {
          "name": "stdout",
          "output_type": "stream",
          "text": [
            "14 75 582 492\n",
            "TABLE PRESENT\n",
            "{'accuracy': 93.99, 'whitespace': 74.11, 'order': 1, 'page': 98}\n",
            "\n",
            "Folder already exists: /Users/danielbasman/Desktop/Desktop - Daniel’s MacBook Pro/MyStuff/Classes/Human In Loop/data_as_csv/10-K-EX2/\n"
          ]
        },
        {
          "name": "stderr",
          "output_type": "stream",
          "text": [
            "/Library/Frameworks/Python.framework/Versions/3.10/lib/python3.10/site-packages/transformers/models/detr/feature_extraction_detr.py:38: FutureWarning: The class DetrFeatureExtractor is deprecated and will be removed in version 5 of Transformers. Please use DetrImageProcessor instead.\n",
            "  warnings.warn(\n"
          ]
        },
        {
          "name": "stdout",
          "output_type": "stream",
          "text": [
            "16 108 558 445\n",
            "TABLE PRESENT\n",
            "{'accuracy': -213.26, 'whitespace': 71.61, 'order': 1, 'page': 99}\n",
            "\n",
            "Folder already exists: /Users/danielbasman/Desktop/Desktop - Daniel’s MacBook Pro/MyStuff/Classes/Human In Loop/data_as_csv/10-K-EX2/\n"
          ]
        },
        {
          "name": "stderr",
          "output_type": "stream",
          "text": [
            "/Library/Frameworks/Python.framework/Versions/3.10/lib/python3.10/site-packages/transformers/models/detr/feature_extraction_detr.py:38: FutureWarning: The class DetrFeatureExtractor is deprecated and will be removed in version 5 of Transformers. Please use DetrImageProcessor instead.\n",
            "  warnings.warn(\n"
          ]
        },
        {
          "name": "stdout",
          "output_type": "stream",
          "text": [
            "20 109 561 274\n",
            "TABLE PRESENT\n",
            "{'accuracy': 93.64, 'whitespace': 69.57, 'order': 1, 'page': 100}\n",
            "\n",
            "Folder already exists: /Users/danielbasman/Desktop/Desktop - Daniel’s MacBook Pro/MyStuff/Classes/Human In Loop/data_as_csv/10-K-EX2/\n"
          ]
        },
        {
          "name": "stderr",
          "output_type": "stream",
          "text": [
            "/Library/Frameworks/Python.framework/Versions/3.10/lib/python3.10/site-packages/transformers/models/detr/feature_extraction_detr.py:38: FutureWarning: The class DetrFeatureExtractor is deprecated and will be removed in version 5 of Transformers. Please use DetrImageProcessor instead.\n",
            "  warnings.warn(\n"
          ]
        },
        {
          "name": "stdout",
          "output_type": "stream",
          "text": [
            "14 70 575 463\n",
            "TABLE PRESENT\n",
            "{'accuracy': 91.67, 'whitespace': 59.39, 'order': 1, 'page': 101}\n",
            "\n",
            "Folder already exists: /Users/danielbasman/Desktop/Desktop - Daniel’s MacBook Pro/MyStuff/Classes/Human In Loop/data_as_csv/10-K-EX2/\n"
          ]
        },
        {
          "name": "stderr",
          "output_type": "stream",
          "text": [
            "/Library/Frameworks/Python.framework/Versions/3.10/lib/python3.10/site-packages/transformers/models/detr/feature_extraction_detr.py:38: FutureWarning: The class DetrFeatureExtractor is deprecated and will be removed in version 5 of Transformers. Please use DetrImageProcessor instead.\n",
            "  warnings.warn(\n"
          ]
        },
        {
          "name": "stdout",
          "output_type": "stream",
          "text": [
            "9 186 586 285\n",
            "TABLE PRESENT\n",
            "{'accuracy': 99.62, 'whitespace': 45.34, 'order': 1, 'page': 102}\n",
            "\n",
            "Folder already exists: /Users/danielbasman/Desktop/Desktop - Daniel’s MacBook Pro/MyStuff/Classes/Human In Loop/data_as_csv/10-K-EX2/\n"
          ]
        },
        {
          "name": "stderr",
          "output_type": "stream",
          "text": [
            "/Library/Frameworks/Python.framework/Versions/3.10/lib/python3.10/site-packages/transformers/models/detr/feature_extraction_detr.py:38: FutureWarning: The class DetrFeatureExtractor is deprecated and will be removed in version 5 of Transformers. Please use DetrImageProcessor instead.\n",
            "  warnings.warn(\n"
          ]
        },
        {
          "name": "stdout",
          "output_type": "stream",
          "text": [
            "16 97 570 375\n",
            "TABLE PRESENT\n",
            "{'accuracy': 98.03, 'whitespace': 60.71, 'order': 1, 'page': 103}\n",
            "\n",
            "Folder already exists: /Users/danielbasman/Desktop/Desktop - Daniel’s MacBook Pro/MyStuff/Classes/Human In Loop/data_as_csv/10-K-EX2/\n"
          ]
        },
        {
          "name": "stderr",
          "output_type": "stream",
          "text": [
            "/Library/Frameworks/Python.framework/Versions/3.10/lib/python3.10/site-packages/transformers/models/detr/feature_extraction_detr.py:38: FutureWarning: The class DetrFeatureExtractor is deprecated and will be removed in version 5 of Transformers. Please use DetrImageProcessor instead.\n",
            "  warnings.warn(\n"
          ]
        },
        {
          "name": "stdout",
          "output_type": "stream",
          "text": [
            "6 52 597 738\n",
            "{'accuracy': 94.91, 'whitespace': 66.2, 'order': 1, 'page': 104}\n",
            "\n",
            "Folder already exists: /Users/danielbasman/Desktop/Desktop - Daniel’s MacBook Pro/MyStuff/Classes/Human In Loop/data_as_csv/10-K-EX2/\n"
          ]
        },
        {
          "name": "stderr",
          "output_type": "stream",
          "text": [
            "/Library/Frameworks/Python.framework/Versions/3.10/lib/python3.10/site-packages/transformers/models/detr/feature_extraction_detr.py:38: FutureWarning: The class DetrFeatureExtractor is deprecated and will be removed in version 5 of Transformers. Please use DetrImageProcessor instead.\n",
            "  warnings.warn(\n"
          ]
        },
        {
          "name": "stdout",
          "output_type": "stream",
          "text": [
            "13 66 597 649\n",
            "TABLE PRESENT\n"
          ]
        },
        {
          "name": "stderr",
          "output_type": "stream",
          "text": [
            "/Library/Frameworks/Python.framework/Versions/3.10/lib/python3.10/site-packages/camelot/parsers/stream.py:365: UserWarning: No tables found in table area 1\n",
            "  warnings.warn(f\"No tables found in table area {table_idx + 1}\")\n",
            "/Library/Frameworks/Python.framework/Versions/3.10/lib/python3.10/site-packages/transformers/models/detr/feature_extraction_detr.py:38: FutureWarning: The class DetrFeatureExtractor is deprecated and will be removed in version 5 of Transformers. Please use DetrImageProcessor instead.\n",
            "  warnings.warn(\n"
          ]
        },
        {
          "name": "stdout",
          "output_type": "stream",
          "text": [
            "{'accuracy': 100.0, 'whitespace': 0.0, 'order': 1, 'page': 105}\n",
            "\n",
            "Folder already exists: /Users/danielbasman/Desktop/Desktop - Daniel’s MacBook Pro/MyStuff/Classes/Human In Loop/data_as_csv/10-K-EX2/\n",
            "8 35 589 756\n",
            "{'accuracy': 95.53, 'whitespace': 65.04, 'order': 1, 'page': 106}\n",
            "\n",
            "Folder already exists: /Users/danielbasman/Desktop/Desktop - Daniel’s MacBook Pro/MyStuff/Classes/Human In Loop/data_as_csv/10-K-EX2/\n"
          ]
        },
        {
          "name": "stderr",
          "output_type": "stream",
          "text": [
            "/Library/Frameworks/Python.framework/Versions/3.10/lib/python3.10/site-packages/transformers/models/detr/feature_extraction_detr.py:38: FutureWarning: The class DetrFeatureExtractor is deprecated and will be removed in version 5 of Transformers. Please use DetrImageProcessor instead.\n",
            "  warnings.warn(\n"
          ]
        },
        {
          "name": "stdout",
          "output_type": "stream",
          "text": [
            "10 49 578 741\n",
            "{'accuracy': 88.66, 'whitespace': 46.88, 'order': 1, 'page': 107}\n",
            "\n",
            "Folder already exists: /Users/danielbasman/Desktop/Desktop - Daniel’s MacBook Pro/MyStuff/Classes/Human In Loop/data_as_csv/10-K-EX2/\n"
          ]
        },
        {
          "name": "stderr",
          "output_type": "stream",
          "text": [
            "/Library/Frameworks/Python.framework/Versions/3.10/lib/python3.10/site-packages/transformers/models/detr/feature_extraction_detr.py:38: FutureWarning: The class DetrFeatureExtractor is deprecated and will be removed in version 5 of Transformers. Please use DetrImageProcessor instead.\n",
            "  warnings.warn(\n"
          ]
        },
        {
          "name": "stdout",
          "output_type": "stream",
          "text": [
            "17 62 561 393\n",
            "TABLE PRESENT\n"
          ]
        },
        {
          "name": "stderr",
          "output_type": "stream",
          "text": [
            "/Library/Frameworks/Python.framework/Versions/3.10/lib/python3.10/site-packages/camelot/parsers/stream.py:365: UserWarning: No tables found in table area 1\n",
            "  warnings.warn(f\"No tables found in table area {table_idx + 1}\")\n",
            "/Library/Frameworks/Python.framework/Versions/3.10/lib/python3.10/site-packages/transformers/models/detr/feature_extraction_detr.py:38: FutureWarning: The class DetrFeatureExtractor is deprecated and will be removed in version 5 of Transformers. Please use DetrImageProcessor instead.\n",
            "  warnings.warn(\n"
          ]
        },
        {
          "name": "stdout",
          "output_type": "stream",
          "text": [
            "{'accuracy': 100.0, 'whitespace': 0.0, 'order': 1, 'page': 108}\n",
            "\n",
            "Folder already exists: /Users/danielbasman/Desktop/Desktop - Daniel’s MacBook Pro/MyStuff/Classes/Human In Loop/data_as_csv/10-K-EX2/\n",
            "8 144 580 245\n",
            "TABLE PRESENT\n",
            "{'accuracy': 96.08, 'whitespace': 45.22, 'order': 1, 'page': 109}\n",
            "\n",
            "Folder already exists: /Users/danielbasman/Desktop/Desktop - Daniel’s MacBook Pro/MyStuff/Classes/Human In Loop/data_as_csv/10-K-EX2/\n"
          ]
        },
        {
          "name": "stderr",
          "output_type": "stream",
          "text": [
            "/Library/Frameworks/Python.framework/Versions/3.10/lib/python3.10/site-packages/transformers/models/detr/feature_extraction_detr.py:38: FutureWarning: The class DetrFeatureExtractor is deprecated and will be removed in version 5 of Transformers. Please use DetrImageProcessor instead.\n",
            "  warnings.warn(\n"
          ]
        },
        {
          "name": "stdout",
          "output_type": "stream",
          "text": [
            "22 132 574 248\n",
            "TABLE PRESENT\n",
            "{'accuracy': 96.1, 'whitespace': 50.0, 'order': 1, 'page': 110}\n",
            "\n",
            "Folder already exists: /Users/danielbasman/Desktop/Desktop - Daniel’s MacBook Pro/MyStuff/Classes/Human In Loop/data_as_csv/10-K-EX2/\n"
          ]
        },
        {
          "name": "stderr",
          "output_type": "stream",
          "text": [
            "/Library/Frameworks/Python.framework/Versions/3.10/lib/python3.10/site-packages/transformers/models/detr/feature_extraction_detr.py:38: FutureWarning: The class DetrFeatureExtractor is deprecated and will be removed in version 5 of Transformers. Please use DetrImageProcessor instead.\n",
            "  warnings.warn(\n"
          ]
        },
        {
          "name": "stdout",
          "output_type": "stream",
          "text": [
            "12 102 586 421\n",
            "TABLE PRESENT\n",
            "{'accuracy': 98.87, 'whitespace': 29.17, 'order': 1, 'page': 111}\n",
            "\n",
            "Folder already exists: /Users/danielbasman/Desktop/Desktop - Daniel’s MacBook Pro/MyStuff/Classes/Human In Loop/data_as_csv/10-K-EX2/\n"
          ]
        },
        {
          "name": "stderr",
          "output_type": "stream",
          "text": [
            "/Library/Frameworks/Python.framework/Versions/3.10/lib/python3.10/site-packages/transformers/models/detr/feature_extraction_detr.py:38: FutureWarning: The class DetrFeatureExtractor is deprecated and will be removed in version 5 of Transformers. Please use DetrImageProcessor instead.\n",
            "  warnings.warn(\n"
          ]
        },
        {
          "name": "stdout",
          "output_type": "stream",
          "text": [
            "12 123 600 283\n",
            "TABLE PRESENT\n",
            "{'accuracy': 97.21, 'whitespace': 74.07, 'order': 1, 'page': 112}\n",
            "\n",
            "Folder already exists: /Users/danielbasman/Desktop/Desktop - Daniel’s MacBook Pro/MyStuff/Classes/Human In Loop/data_as_csv/10-K-EX2/\n"
          ]
        },
        {
          "name": "stderr",
          "output_type": "stream",
          "text": [
            "/Library/Frameworks/Python.framework/Versions/3.10/lib/python3.10/site-packages/transformers/models/detr/feature_extraction_detr.py:38: FutureWarning: The class DetrFeatureExtractor is deprecated and will be removed in version 5 of Transformers. Please use DetrImageProcessor instead.\n",
            "  warnings.warn(\n"
          ]
        },
        {
          "name": "stdout",
          "output_type": "stream",
          "text": [
            "9 28 601 763\n",
            "{'accuracy': 94.69, 'whitespace': 39.88, 'order': 1, 'page': 113}\n",
            "\n",
            "Folder already exists: /Users/danielbasman/Desktop/Desktop - Daniel’s MacBook Pro/MyStuff/Classes/Human In Loop/data_as_csv/10-K-EX2/\n"
          ]
        },
        {
          "name": "stderr",
          "output_type": "stream",
          "text": [
            "/Library/Frameworks/Python.framework/Versions/3.10/lib/python3.10/site-packages/transformers/models/detr/feature_extraction_detr.py:38: FutureWarning: The class DetrFeatureExtractor is deprecated and will be removed in version 5 of Transformers. Please use DetrImageProcessor instead.\n",
            "  warnings.warn(\n"
          ]
        },
        {
          "name": "stdout",
          "output_type": "stream",
          "text": [
            "19 232 571 218\n",
            "TABLE PRESENT\n"
          ]
        },
        {
          "name": "stderr",
          "output_type": "stream",
          "text": [
            "/Library/Frameworks/Python.framework/Versions/3.10/lib/python3.10/site-packages/camelot/parsers/stream.py:365: UserWarning: No tables found in table area 1\n",
            "  warnings.warn(f\"No tables found in table area {table_idx + 1}\")\n",
            "/Library/Frameworks/Python.framework/Versions/3.10/lib/python3.10/site-packages/transformers/models/detr/feature_extraction_detr.py:38: FutureWarning: The class DetrFeatureExtractor is deprecated and will be removed in version 5 of Transformers. Please use DetrImageProcessor instead.\n",
            "  warnings.warn(\n"
          ]
        },
        {
          "name": "stdout",
          "output_type": "stream",
          "text": [
            "{'accuracy': 100.0, 'whitespace': 0.0, 'order': 1, 'page': 114}\n",
            "\n",
            "Folder already exists: /Users/danielbasman/Desktop/Desktop - Daniel’s MacBook Pro/MyStuff/Classes/Human In Loop/data_as_csv/10-K-EX2/\n",
            "9 4 604 786\n",
            "{'accuracy': 82.26, 'whitespace': 79.12, 'order': 1, 'page': 115}\n",
            "\n",
            "Folder already exists: /Users/danielbasman/Desktop/Desktop - Daniel’s MacBook Pro/MyStuff/Classes/Human In Loop/data_as_csv/10-K-EX2/\n"
          ]
        },
        {
          "name": "stderr",
          "output_type": "stream",
          "text": [
            "/Library/Frameworks/Python.framework/Versions/3.10/lib/python3.10/site-packages/transformers/models/detr/feature_extraction_detr.py:38: FutureWarning: The class DetrFeatureExtractor is deprecated and will be removed in version 5 of Transformers. Please use DetrImageProcessor instead.\n",
            "  warnings.warn(\n"
          ]
        },
        {
          "name": "stdout",
          "output_type": "stream",
          "text": [
            "10 85 581 245\n",
            "TABLE PRESENT\n"
          ]
        },
        {
          "name": "stderr",
          "output_type": "stream",
          "text": [
            "/Library/Frameworks/Python.framework/Versions/3.10/lib/python3.10/site-packages/camelot/parsers/stream.py:365: UserWarning: No tables found in table area 1\n",
            "  warnings.warn(f\"No tables found in table area {table_idx + 1}\")\n",
            "/Library/Frameworks/Python.framework/Versions/3.10/lib/python3.10/site-packages/transformers/models/detr/feature_extraction_detr.py:38: FutureWarning: The class DetrFeatureExtractor is deprecated and will be removed in version 5 of Transformers. Please use DetrImageProcessor instead.\n",
            "  warnings.warn(\n"
          ]
        },
        {
          "name": "stdout",
          "output_type": "stream",
          "text": [
            "{'accuracy': 100.0, 'whitespace': 0.0, 'order': 1, 'page': 116}\n",
            "\n",
            "Folder already exists: /Users/danielbasman/Desktop/Desktop - Daniel’s MacBook Pro/MyStuff/Classes/Human In Loop/data_as_csv/10-K-EX2/\n",
            "11 93 576 296\n",
            "TABLE PRESENT\n",
            "{'accuracy': 98.98, 'whitespace': 43.75, 'order': 1, 'page': 117}\n",
            "\n",
            "Folder already exists: /Users/danielbasman/Desktop/Desktop - Daniel’s MacBook Pro/MyStuff/Classes/Human In Loop/data_as_csv/10-K-EX2/\n"
          ]
        },
        {
          "name": "stderr",
          "output_type": "stream",
          "text": [
            "/Library/Frameworks/Python.framework/Versions/3.10/lib/python3.10/site-packages/transformers/models/detr/feature_extraction_detr.py:38: FutureWarning: The class DetrFeatureExtractor is deprecated and will be removed in version 5 of Transformers. Please use DetrImageProcessor instead.\n",
            "  warnings.warn(\n"
          ]
        },
        {
          "name": "stdout",
          "output_type": "stream",
          "text": [
            "21 155 572 517\n",
            "TABLE PRESENT\n",
            "{'accuracy': 94.79, 'whitespace': 60.0, 'order': 1, 'page': 118}\n",
            "\n",
            "Folder already exists: /Users/danielbasman/Desktop/Desktop - Daniel’s MacBook Pro/MyStuff/Classes/Human In Loop/data_as_csv/10-K-EX2/\n"
          ]
        },
        {
          "name": "stderr",
          "output_type": "stream",
          "text": [
            "/Library/Frameworks/Python.framework/Versions/3.10/lib/python3.10/site-packages/transformers/models/detr/feature_extraction_detr.py:38: FutureWarning: The class DetrFeatureExtractor is deprecated and will be removed in version 5 of Transformers. Please use DetrImageProcessor instead.\n",
            "  warnings.warn(\n"
          ]
        },
        {
          "name": "stdout",
          "output_type": "stream",
          "text": [
            "14 52 594 344\n",
            "TABLE PRESENT\n",
            "{'accuracy': 99.64, 'whitespace': 26.56, 'order': 1, 'page': 119}\n",
            "\n",
            "Folder already exists: /Users/danielbasman/Desktop/Desktop - Daniel’s MacBook Pro/MyStuff/Classes/Human In Loop/data_as_csv/10-K-EX2/\n"
          ]
        },
        {
          "name": "stderr",
          "output_type": "stream",
          "text": [
            "/Library/Frameworks/Python.framework/Versions/3.10/lib/python3.10/site-packages/transformers/models/detr/feature_extraction_detr.py:38: FutureWarning: The class DetrFeatureExtractor is deprecated and will be removed in version 5 of Transformers. Please use DetrImageProcessor instead.\n",
            "  warnings.warn(\n"
          ]
        },
        {
          "name": "stdout",
          "output_type": "stream",
          "text": [
            "7 10 605 569\n",
            "TABLE PRESENT\n",
            "{'accuracy': 81.83, 'whitespace': 71.18, 'order': 1, 'page': 120}\n",
            "\n",
            "Folder already exists: /Users/danielbasman/Desktop/Desktop - Daniel’s MacBook Pro/MyStuff/Classes/Human In Loop/data_as_csv/10-K-EX2/\n"
          ]
        },
        {
          "name": "stderr",
          "output_type": "stream",
          "text": [
            "/Library/Frameworks/Python.framework/Versions/3.10/lib/python3.10/site-packages/transformers/models/detr/feature_extraction_detr.py:38: FutureWarning: The class DetrFeatureExtractor is deprecated and will be removed in version 5 of Transformers. Please use DetrImageProcessor instead.\n",
            "  warnings.warn(\n"
          ]
        },
        {
          "name": "stdout",
          "output_type": "stream",
          "text": [
            "13 161 487 136\n",
            "TABLE PRESENT\n"
          ]
        },
        {
          "name": "stderr",
          "output_type": "stream",
          "text": [
            "/Library/Frameworks/Python.framework/Versions/3.10/lib/python3.10/site-packages/camelot/parsers/stream.py:365: UserWarning: No tables found in table area 1\n",
            "  warnings.warn(f\"No tables found in table area {table_idx + 1}\")\n",
            "/Library/Frameworks/Python.framework/Versions/3.10/lib/python3.10/site-packages/transformers/models/detr/feature_extraction_detr.py:38: FutureWarning: The class DetrFeatureExtractor is deprecated and will be removed in version 5 of Transformers. Please use DetrImageProcessor instead.\n",
            "  warnings.warn(\n"
          ]
        },
        {
          "name": "stdout",
          "output_type": "stream",
          "text": [
            "{'accuracy': 100.0, 'whitespace': 0.0, 'order': 1, 'page': 121}\n",
            "\n",
            "Folder already exists: /Users/danielbasman/Desktop/Desktop - Daniel’s MacBook Pro/MyStuff/Classes/Human In Loop/data_as_csv/10-K-EX2/\n",
            "11 138 579 306\n",
            "TABLE PRESENT\n",
            "{'accuracy': 96.51, 'whitespace': 50.65, 'order': 1, 'page': 122}\n",
            "\n",
            "Folder already exists: /Users/danielbasman/Desktop/Desktop - Daniel’s MacBook Pro/MyStuff/Classes/Human In Loop/data_as_csv/10-K-EX2/\n"
          ]
        },
        {
          "name": "stderr",
          "output_type": "stream",
          "text": [
            "/Library/Frameworks/Python.framework/Versions/3.10/lib/python3.10/site-packages/transformers/models/detr/feature_extraction_detr.py:38: FutureWarning: The class DetrFeatureExtractor is deprecated and will be removed in version 5 of Transformers. Please use DetrImageProcessor instead.\n",
            "  warnings.warn(\n"
          ]
        },
        {
          "name": "stdout",
          "output_type": "stream",
          "text": [
            "65 91 489 379\n",
            "TABLE PRESENT\n",
            "{'accuracy': 92.53, 'whitespace': 45.1, 'order': 1, 'page': 123}\n",
            "\n",
            "Folder already exists: /Users/danielbasman/Desktop/Desktop - Daniel’s MacBook Pro/MyStuff/Classes/Human In Loop/data_as_csv/10-K-EX2/\n"
          ]
        },
        {
          "name": "stderr",
          "output_type": "stream",
          "text": [
            "/Library/Frameworks/Python.framework/Versions/3.10/lib/python3.10/site-packages/transformers/models/detr/feature_extraction_detr.py:38: FutureWarning: The class DetrFeatureExtractor is deprecated and will be removed in version 5 of Transformers. Please use DetrImageProcessor instead.\n",
            "  warnings.warn(\n"
          ]
        },
        {
          "name": "stdout",
          "output_type": "stream",
          "text": [
            "23 101 565 458\n",
            "TABLE PRESENT\n",
            "{'accuracy': 97.17, 'whitespace': 44.44, 'order': 1, 'page': 124}\n",
            "\n",
            "Folder already exists: /Users/danielbasman/Desktop/Desktop - Daniel’s MacBook Pro/MyStuff/Classes/Human In Loop/data_as_csv/10-K-EX2/\n"
          ]
        },
        {
          "name": "stderr",
          "output_type": "stream",
          "text": [
            "/Library/Frameworks/Python.framework/Versions/3.10/lib/python3.10/site-packages/transformers/models/detr/feature_extraction_detr.py:38: FutureWarning: The class DetrFeatureExtractor is deprecated and will be removed in version 5 of Transformers. Please use DetrImageProcessor instead.\n",
            "  warnings.warn(\n"
          ]
        },
        {
          "name": "stdout",
          "output_type": "stream",
          "text": [
            "10 4 600 788\n",
            "{'accuracy': 79.63, 'whitespace': 66.89, 'order': 1, 'page': 125}\n",
            "\n",
            "Folder already exists: /Users/danielbasman/Desktop/Desktop - Daniel’s MacBook Pro/MyStuff/Classes/Human In Loop/data_as_csv/10-K-EX2/\n"
          ]
        },
        {
          "name": "stderr",
          "output_type": "stream",
          "text": [
            "/Library/Frameworks/Python.framework/Versions/3.10/lib/python3.10/site-packages/transformers/models/detr/feature_extraction_detr.py:38: FutureWarning: The class DetrFeatureExtractor is deprecated and will be removed in version 5 of Transformers. Please use DetrImageProcessor instead.\n",
            "  warnings.warn(\n"
          ]
        },
        {
          "name": "stdout",
          "output_type": "stream",
          "text": [
            "11 7 606 783\n",
            "{'accuracy': 85.38, 'whitespace': 45.71, 'order': 1, 'page': 126}\n",
            "\n",
            "Folder already exists: /Users/danielbasman/Desktop/Desktop - Daniel’s MacBook Pro/MyStuff/Classes/Human In Loop/data_as_csv/10-K-EX2/\n"
          ]
        },
        {
          "name": "stderr",
          "output_type": "stream",
          "text": [
            "/Library/Frameworks/Python.framework/Versions/3.10/lib/python3.10/site-packages/transformers/models/detr/feature_extraction_detr.py:38: FutureWarning: The class DetrFeatureExtractor is deprecated and will be removed in version 5 of Transformers. Please use DetrImageProcessor instead.\n",
            "  warnings.warn(\n"
          ]
        },
        {
          "name": "stdout",
          "output_type": "stream",
          "text": [
            "11 8 601 783\n",
            "{'accuracy': 83.25, 'whitespace': 47.22, 'order': 1, 'page': 127}\n",
            "\n",
            "Folder already exists: /Users/danielbasman/Desktop/Desktop - Daniel’s MacBook Pro/MyStuff/Classes/Human In Loop/data_as_csv/10-K-EX2/\n"
          ]
        },
        {
          "name": "stderr",
          "output_type": "stream",
          "text": [
            "/Library/Frameworks/Python.framework/Versions/3.10/lib/python3.10/site-packages/transformers/models/detr/feature_extraction_detr.py:38: FutureWarning: The class DetrFeatureExtractor is deprecated and will be removed in version 5 of Transformers. Please use DetrImageProcessor instead.\n",
            "  warnings.warn(\n"
          ]
        },
        {
          "name": "stdout",
          "output_type": "stream",
          "text": [
            "6 22 584 769\n",
            "{'accuracy': 84.69, 'whitespace': 45.83, 'order': 1, 'page': 128}\n",
            "\n",
            "Folder already exists: /Users/danielbasman/Desktop/Desktop - Daniel’s MacBook Pro/MyStuff/Classes/Human In Loop/data_as_csv/10-K-EX2/\n"
          ]
        },
        {
          "name": "stderr",
          "output_type": "stream",
          "text": [
            "/Library/Frameworks/Python.framework/Versions/3.10/lib/python3.10/site-packages/transformers/models/detr/feature_extraction_detr.py:38: FutureWarning: The class DetrFeatureExtractor is deprecated and will be removed in version 5 of Transformers. Please use DetrImageProcessor instead.\n",
            "  warnings.warn(\n"
          ]
        },
        {
          "name": "stdout",
          "output_type": "stream",
          "text": [
            "14 124 581 453\n",
            "TABLE PRESENT\n"
          ]
        },
        {
          "name": "stderr",
          "output_type": "stream",
          "text": [
            "/Library/Frameworks/Python.framework/Versions/3.10/lib/python3.10/site-packages/camelot/parsers/stream.py:365: UserWarning: No tables found in table area 1\n",
            "  warnings.warn(f\"No tables found in table area {table_idx + 1}\")\n",
            "/Library/Frameworks/Python.framework/Versions/3.10/lib/python3.10/site-packages/transformers/models/detr/feature_extraction_detr.py:38: FutureWarning: The class DetrFeatureExtractor is deprecated and will be removed in version 5 of Transformers. Please use DetrImageProcessor instead.\n",
            "  warnings.warn(\n"
          ]
        },
        {
          "name": "stdout",
          "output_type": "stream",
          "text": [
            "{'accuracy': 100.0, 'whitespace': 0.0, 'order': 1, 'page': 129}\n",
            "\n",
            "Folder already exists: /Users/danielbasman/Desktop/Desktop - Daniel’s MacBook Pro/MyStuff/Classes/Human In Loop/data_as_csv/10-K-EX2/\n",
            "15 48 576 743\n",
            "{'accuracy': 98.56, 'whitespace': 41.43, 'order': 1, 'page': 130}\n",
            "\n",
            "Folder already exists: /Users/danielbasman/Desktop/Desktop - Daniel’s MacBook Pro/MyStuff/Classes/Human In Loop/data_as_csv/10-K-EX2/\n"
          ]
        },
        {
          "name": "stderr",
          "output_type": "stream",
          "text": [
            "/Library/Frameworks/Python.framework/Versions/3.10/lib/python3.10/site-packages/transformers/models/detr/feature_extraction_detr.py:38: FutureWarning: The class DetrFeatureExtractor is deprecated and will be removed in version 5 of Transformers. Please use DetrImageProcessor instead.\n",
            "  warnings.warn(\n"
          ]
        },
        {
          "name": "stdout",
          "output_type": "stream",
          "text": [
            "9 21 578 769\n",
            "{'accuracy': 77.1, 'whitespace': 75.46, 'order': 1, 'page': 131}\n",
            "\n",
            "Folder already exists: /Users/danielbasman/Desktop/Desktop - Daniel’s MacBook Pro/MyStuff/Classes/Human In Loop/data_as_csv/10-K-EX2/\n"
          ]
        },
        {
          "name": "stderr",
          "output_type": "stream",
          "text": [
            "/Library/Frameworks/Python.framework/Versions/3.10/lib/python3.10/site-packages/transformers/models/detr/feature_extraction_detr.py:38: FutureWarning: The class DetrFeatureExtractor is deprecated and will be removed in version 5 of Transformers. Please use DetrImageProcessor instead.\n",
            "  warnings.warn(\n"
          ]
        },
        {
          "name": "stdout",
          "output_type": "stream",
          "text": [
            "8 15 596 491\n",
            "TABLE PRESENT\n",
            "{'accuracy': -1317.66, 'whitespace': 60.61, 'order': 1, 'page': 132}\n",
            "\n",
            "Folder already exists: /Users/danielbasman/Desktop/Desktop - Daniel’s MacBook Pro/MyStuff/Classes/Human In Loop/data_as_csv/10-K-EX2/\n"
          ]
        },
        {
          "name": "stderr",
          "output_type": "stream",
          "text": [
            "/Library/Frameworks/Python.framework/Versions/3.10/lib/python3.10/site-packages/transformers/models/detr/feature_extraction_detr.py:38: FutureWarning: The class DetrFeatureExtractor is deprecated and will be removed in version 5 of Transformers. Please use DetrImageProcessor instead.\n",
            "  warnings.warn(\n"
          ]
        },
        {
          "name": "stdout",
          "output_type": "stream",
          "text": [
            "4 48 585 743\n",
            "{'accuracy': 91.34, 'whitespace': 48.44, 'order': 1, 'page': 133}\n",
            "\n",
            "Folder already exists: /Users/danielbasman/Desktop/Desktop - Daniel’s MacBook Pro/MyStuff/Classes/Human In Loop/data_as_csv/10-K-EX2/\n"
          ]
        },
        {
          "name": "stderr",
          "output_type": "stream",
          "text": [
            "/Library/Frameworks/Python.framework/Versions/3.10/lib/python3.10/site-packages/transformers/models/detr/feature_extraction_detr.py:38: FutureWarning: The class DetrFeatureExtractor is deprecated and will be removed in version 5 of Transformers. Please use DetrImageProcessor instead.\n",
            "  warnings.warn(\n"
          ]
        },
        {
          "name": "stdout",
          "output_type": "stream",
          "text": [
            "10 3 592 788\n",
            "{'accuracy': 96.46, 'whitespace': 35.71, 'order': 1, 'page': 134}\n",
            "\n",
            "Folder already exists: /Users/danielbasman/Desktop/Desktop - Daniel’s MacBook Pro/MyStuff/Classes/Human In Loop/data_as_csv/10-K-EX2/\n"
          ]
        },
        {
          "name": "stderr",
          "output_type": "stream",
          "text": [
            "/Library/Frameworks/Python.framework/Versions/3.10/lib/python3.10/site-packages/transformers/models/detr/feature_extraction_detr.py:38: FutureWarning: The class DetrFeatureExtractor is deprecated and will be removed in version 5 of Transformers. Please use DetrImageProcessor instead.\n",
            "  warnings.warn(\n"
          ]
        },
        {
          "name": "stdout",
          "output_type": "stream",
          "text": [
            "20 20 578 323\n",
            "TABLE PRESENT\n",
            "{'accuracy': 79.43, 'whitespace': 62.67, 'order': 1, 'page': 135}\n",
            "\n",
            "Folder already exists: /Users/danielbasman/Desktop/Desktop - Daniel’s MacBook Pro/MyStuff/Classes/Human In Loop/data_as_csv/10-K-EX2/\n"
          ]
        },
        {
          "name": "stderr",
          "output_type": "stream",
          "text": [
            "/Library/Frameworks/Python.framework/Versions/3.10/lib/python3.10/site-packages/transformers/models/detr/feature_extraction_detr.py:38: FutureWarning: The class DetrFeatureExtractor is deprecated and will be removed in version 5 of Transformers. Please use DetrImageProcessor instead.\n",
            "  warnings.warn(\n"
          ]
        },
        {
          "name": "stdout",
          "output_type": "stream",
          "text": [
            "23 96 569 390\n",
            "TABLE PRESENT\n"
          ]
        },
        {
          "name": "stderr",
          "output_type": "stream",
          "text": [
            "/Library/Frameworks/Python.framework/Versions/3.10/lib/python3.10/site-packages/camelot/parsers/stream.py:365: UserWarning: No tables found in table area 1\n",
            "  warnings.warn(f\"No tables found in table area {table_idx + 1}\")\n",
            "/Library/Frameworks/Python.framework/Versions/3.10/lib/python3.10/site-packages/transformers/models/detr/feature_extraction_detr.py:38: FutureWarning: The class DetrFeatureExtractor is deprecated and will be removed in version 5 of Transformers. Please use DetrImageProcessor instead.\n",
            "  warnings.warn(\n"
          ]
        },
        {
          "name": "stdout",
          "output_type": "stream",
          "text": [
            "{'accuracy': 100.0, 'whitespace': 0.0, 'order': 1, 'page': 136}\n",
            "\n",
            "Folder already exists: /Users/danielbasman/Desktop/Desktop - Daniel’s MacBook Pro/MyStuff/Classes/Human In Loop/data_as_csv/10-K-EX2/\n",
            "10 41 576 751\n",
            "{'accuracy': 94.54, 'whitespace': 68.89, 'order': 1, 'page': 137}\n",
            "\n",
            "Folder already exists: /Users/danielbasman/Desktop/Desktop - Daniel’s MacBook Pro/MyStuff/Classes/Human In Loop/data_as_csv/10-K-EX2/\n"
          ]
        },
        {
          "name": "stderr",
          "output_type": "stream",
          "text": [
            "/Library/Frameworks/Python.framework/Versions/3.10/lib/python3.10/site-packages/transformers/models/detr/feature_extraction_detr.py:38: FutureWarning: The class DetrFeatureExtractor is deprecated and will be removed in version 5 of Transformers. Please use DetrImageProcessor instead.\n",
            "  warnings.warn(\n"
          ]
        },
        {
          "name": "stdout",
          "output_type": "stream",
          "text": [
            "12 45 573 342\n",
            "TABLE PRESENT\n"
          ]
        },
        {
          "name": "stderr",
          "output_type": "stream",
          "text": [
            "/Library/Frameworks/Python.framework/Versions/3.10/lib/python3.10/site-packages/camelot/parsers/stream.py:365: UserWarning: No tables found in table area 1\n",
            "  warnings.warn(f\"No tables found in table area {table_idx + 1}\")\n",
            "/Library/Frameworks/Python.framework/Versions/3.10/lib/python3.10/site-packages/transformers/models/detr/feature_extraction_detr.py:38: FutureWarning: The class DetrFeatureExtractor is deprecated and will be removed in version 5 of Transformers. Please use DetrImageProcessor instead.\n",
            "  warnings.warn(\n"
          ]
        },
        {
          "name": "stdout",
          "output_type": "stream",
          "text": [
            "{'accuracy': 100.0, 'whitespace': 0.0, 'order': 1, 'page': 138}\n",
            "\n",
            "Folder already exists: /Users/danielbasman/Desktop/Desktop - Daniel’s MacBook Pro/MyStuff/Classes/Human In Loop/data_as_csv/10-K-EX2/\n",
            "12 45 573 403\n",
            "TABLE PRESENT\n"
          ]
        },
        {
          "name": "stderr",
          "output_type": "stream",
          "text": [
            "/Library/Frameworks/Python.framework/Versions/3.10/lib/python3.10/site-packages/camelot/parsers/stream.py:365: UserWarning: No tables found in table area 1\n",
            "  warnings.warn(f\"No tables found in table area {table_idx + 1}\")\n",
            "/Library/Frameworks/Python.framework/Versions/3.10/lib/python3.10/site-packages/transformers/models/detr/feature_extraction_detr.py:38: FutureWarning: The class DetrFeatureExtractor is deprecated and will be removed in version 5 of Transformers. Please use DetrImageProcessor instead.\n",
            "  warnings.warn(\n"
          ]
        },
        {
          "name": "stdout",
          "output_type": "stream",
          "text": [
            "{'accuracy': 100.0, 'whitespace': 0.0, 'order': 1, 'page': 139}\n",
            "\n",
            "Folder already exists: /Users/danielbasman/Desktop/Desktop - Daniel’s MacBook Pro/MyStuff/Classes/Human In Loop/data_as_csv/10-K-EX2/\n",
            "11 11 573 380\n",
            "TABLE PRESENT\n",
            "{'accuracy': 79.34, 'whitespace': 46.43, 'order': 1, 'page': 140}\n",
            "\n",
            "Folder already exists: /Users/danielbasman/Desktop/Desktop - Daniel’s MacBook Pro/MyStuff/Classes/Human In Loop/data_as_csv/10-K-EX2/\n"
          ]
        },
        {
          "name": "stderr",
          "output_type": "stream",
          "text": [
            "/Library/Frameworks/Python.framework/Versions/3.10/lib/python3.10/site-packages/transformers/models/detr/feature_extraction_detr.py:38: FutureWarning: The class DetrFeatureExtractor is deprecated and will be removed in version 5 of Transformers. Please use DetrImageProcessor instead.\n",
            "  warnings.warn(\n"
          ]
        },
        {
          "name": "stdout",
          "output_type": "stream",
          "text": [
            "14 36 569 350\n",
            "TABLE PRESENT\n"
          ]
        },
        {
          "name": "stderr",
          "output_type": "stream",
          "text": [
            "/Library/Frameworks/Python.framework/Versions/3.10/lib/python3.10/site-packages/camelot/parsers/stream.py:365: UserWarning: No tables found in table area 1\n",
            "  warnings.warn(f\"No tables found in table area {table_idx + 1}\")\n",
            "/Library/Frameworks/Python.framework/Versions/3.10/lib/python3.10/site-packages/transformers/models/detr/feature_extraction_detr.py:38: FutureWarning: The class DetrFeatureExtractor is deprecated and will be removed in version 5 of Transformers. Please use DetrImageProcessor instead.\n",
            "  warnings.warn(\n"
          ]
        },
        {
          "name": "stdout",
          "output_type": "stream",
          "text": [
            "{'accuracy': 100.0, 'whitespace': 0.0, 'order': 1, 'page': 141}\n",
            "\n",
            "Folder already exists: /Users/danielbasman/Desktop/Desktop - Daniel’s MacBook Pro/MyStuff/Classes/Human In Loop/data_as_csv/10-K-EX2/\n",
            "11 21 576 770\n",
            "{'accuracy': 89.77, 'whitespace': 46.43, 'order': 1, 'page': 142}\n",
            "\n",
            "Folder already exists: /Users/danielbasman/Desktop/Desktop - Daniel’s MacBook Pro/MyStuff/Classes/Human In Loop/data_as_csv/10-K-EX2/\n"
          ]
        },
        {
          "name": "stderr",
          "output_type": "stream",
          "text": [
            "/Library/Frameworks/Python.framework/Versions/3.10/lib/python3.10/site-packages/transformers/models/detr/feature_extraction_detr.py:38: FutureWarning: The class DetrFeatureExtractor is deprecated and will be removed in version 5 of Transformers. Please use DetrImageProcessor instead.\n",
            "  warnings.warn(\n"
          ]
        },
        {
          "name": "stdout",
          "output_type": "stream",
          "text": [
            "17 51 562 382\n",
            "TABLE PRESENT\n"
          ]
        },
        {
          "name": "stderr",
          "output_type": "stream",
          "text": [
            "/Library/Frameworks/Python.framework/Versions/3.10/lib/python3.10/site-packages/camelot/parsers/stream.py:365: UserWarning: No tables found in table area 1\n",
            "  warnings.warn(f\"No tables found in table area {table_idx + 1}\")\n",
            "/Library/Frameworks/Python.framework/Versions/3.10/lib/python3.10/site-packages/transformers/models/detr/feature_extraction_detr.py:38: FutureWarning: The class DetrFeatureExtractor is deprecated and will be removed in version 5 of Transformers. Please use DetrImageProcessor instead.\n",
            "  warnings.warn(\n"
          ]
        },
        {
          "name": "stdout",
          "output_type": "stream",
          "text": [
            "{'accuracy': 100.0, 'whitespace': 0.0, 'order': 1, 'page': 143}\n",
            "\n",
            "Folder already exists: /Users/danielbasman/Desktop/Desktop - Daniel’s MacBook Pro/MyStuff/Classes/Human In Loop/data_as_csv/10-K-EX2/\n",
            "21 34 561 261\n",
            "TABLE PRESENT\n"
          ]
        },
        {
          "name": "stderr",
          "output_type": "stream",
          "text": [
            "/Library/Frameworks/Python.framework/Versions/3.10/lib/python3.10/site-packages/camelot/parsers/stream.py:365: UserWarning: No tables found in table area 1\n",
            "  warnings.warn(f\"No tables found in table area {table_idx + 1}\")\n",
            "/Library/Frameworks/Python.framework/Versions/3.10/lib/python3.10/site-packages/transformers/models/detr/feature_extraction_detr.py:38: FutureWarning: The class DetrFeatureExtractor is deprecated and will be removed in version 5 of Transformers. Please use DetrImageProcessor instead.\n",
            "  warnings.warn(\n"
          ]
        },
        {
          "name": "stdout",
          "output_type": "stream",
          "text": [
            "{'accuracy': 100.0, 'whitespace': 0.0, 'order': 1, 'page': 144}\n",
            "\n",
            "Folder already exists: /Users/danielbasman/Desktop/Desktop - Daniel’s MacBook Pro/MyStuff/Classes/Human In Loop/data_as_csv/10-K-EX2/\n",
            "5 91 585 575\n",
            "TABLE PRESENT\n"
          ]
        },
        {
          "name": "stderr",
          "output_type": "stream",
          "text": [
            "/Library/Frameworks/Python.framework/Versions/3.10/lib/python3.10/site-packages/camelot/parsers/stream.py:365: UserWarning: No tables found in table area 1\n",
            "  warnings.warn(f\"No tables found in table area {table_idx + 1}\")\n",
            "/Library/Frameworks/Python.framework/Versions/3.10/lib/python3.10/site-packages/transformers/models/detr/feature_extraction_detr.py:38: FutureWarning: The class DetrFeatureExtractor is deprecated and will be removed in version 5 of Transformers. Please use DetrImageProcessor instead.\n",
            "  warnings.warn(\n"
          ]
        },
        {
          "name": "stdout",
          "output_type": "stream",
          "text": [
            "{'accuracy': 100.0, 'whitespace': 0.0, 'order': 1, 'page': 145}\n",
            "\n",
            "Folder already exists: /Users/danielbasman/Desktop/Desktop - Daniel’s MacBook Pro/MyStuff/Classes/Human In Loop/data_as_csv/10-K-EX2/\n",
            "8 53 583 428\n",
            "TABLE PRESENT\n",
            "{'accuracy': 99.08, 'whitespace': 55.3, 'order': 1, 'page': 146}\n",
            "\n",
            "Folder already exists: /Users/danielbasman/Desktop/Desktop - Daniel’s MacBook Pro/MyStuff/Classes/Human In Loop/data_as_csv/10-K-EX2/\n",
            "COUNT: 110\n"
          ]
        }
      ],
      "source": [
        "\n",
        "path_to_pdfs = \"/Users/danielbasman/Desktop/Desktop - Daniel’s MacBook Pro/MyStuff/Classes/Human In Loop/folder_of_10K/\"\n",
        "path_to_csv = \"/Users/danielbasman/Desktop/Desktop - Daniel’s MacBook Pro/MyStuff/Classes/Human In Loop/data_as_csv/\"\n",
        "\n",
        "data = get_image(path_to_pdfs)\n",
        "print(data)\n",
        "\n",
        "names = list(data)\n",
        "model = TableTransformerForObjectDetection.from_pretrained(\"microsoft/table-transformer-detection\")\n",
        "\n",
        "for name in names[0:1]:\n",
        "    item = data[name]\n",
        "    img = item[\"images\"]\n",
        "    width = item[\"widths\"]\n",
        "    height = item[\"heights\"]\n",
        "    count = 0\n",
        "    for i, j in enumerate(img):\n",
        "        # print(i)\n",
        "        results, feature_extractor = extract_features(j, width[i], height[i], model)\n",
        "        final, max_score_box = sort_results(results)\n",
        "        sorted_dict = convert_results(results)\n",
        "\n",
        "        # print(final)\n",
        "        # plot_results(img, results['scores'], results['labels'], results['boxes'])\n",
        "        # plot_box(img, final)\n",
        "\n",
        "        cropped_image = get_table_image(j, final)\n",
        "\n",
        "        # results, model = table_structure_results(cropped_image, feature_extractor)\n",
        "        # plot_results(cropped_image, results['scores'], results['labels'], results['boxes'])\n",
        "\n",
        "        pdf_path = path_to_pdfs + name\n",
        "\n",
        "        finals = []\n",
        "        for x in final:\n",
        "            finals.append((int(x)))\n",
        "\n",
        "        reorder = [str(finals[1]), str(800 - finals[0]), str(finals[3]), str(800 - finals[2])]\n",
        "        fina = \",\".join(reorder)\n",
        "        inpu = ([str(fina)])\n",
        "\n",
        "        if int(reorder[1])-int(reorder[3]) < 700:\n",
        "            print(\"TABLE PRESENT\")\n",
        "            count += 1\n",
        "            # print()\n",
        "\n",
        "        try:\n",
        "            tables = camelot.read_pdf(pdf_path, pages=str(i), flavor='stream', table_areas = inpu)\n",
        "\n",
        "        except:\n",
        "            print(\"SUGGESTED TABLE WAS BLANK SPACE\")\n",
        "            continue\n",
        "\n",
        "        print(tables[0].parsing_report)\n",
        "        file_name = name.split(\".\")[0] + \"/\" + \"page\" + str(i) + \".csv\"\n",
        "        # print(file_name)\n",
        "        # print(\"COLUMN COUNT: \" + str(len(tables[0].df.columns)))\n",
        "        print()\n",
        "        if not os.path.exists(path_to_csv + name.split(\".\")[0] + \"/\"):\n",
        "        # Create the folder if it does not exist\n",
        "            os.makedirs(path_to_csv + name.split(\".\")[0] + \"/\")\n",
        "            print(f\"Folder created: \" + str(path_to_csv + name.split(\".\")[0] + \"/\"))\n",
        "        else:\n",
        "        # If the folder already exists\n",
        "            print(f\"Folder already exists: \" + str(path_to_csv + name.split(\".\")[0] + \"/\"))\n",
        "\n",
        "        tables[0].to_csv(path_to_csv + file_name)\n",
        "\n",
        "    print(\"COUNT: \" + str(count))\n"
      ]
    }
  ],
  "metadata": {
    "colab": {
      "collapsed_sections": [],
      "include_colab_link": true,
      "provenance": []
    },
    "kernelspec": {
      "display_name": "Python 3",
      "name": "python3"
    },
    "language_info": {
      "codemirror_mode": {
        "name": "ipython",
        "version": 3
      },
      "file_extension": ".py",
      "mimetype": "text/x-python",
      "name": "python",
      "nbconvert_exporter": "python",
      "pygments_lexer": "ipython3",
      "version": "3.10.7"
    }
  },
  "nbformat": 4,
  "nbformat_minor": 0
}

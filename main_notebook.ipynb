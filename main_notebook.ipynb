{
  "cells": [
    {
      "cell_type": "code",
      "execution_count": 11,
      "metadata": {
        "id": "jDegvJ3Rn05Z"
      },
      "outputs": [],
      "source": [
        "# !pip install -q timm\n",
        "from transformers import DetrFeatureExtractor\n",
        "import torch\n",
        "import fitz  # PyMuPDF\n",
        "from PIL import Image\n",
        "from transformers import TableTransformerForObjectDetection\n",
        "import matplotlib.pyplot as plt\n",
        "from huggingface_hub import hf_hub_download\n",
        "import camelot\n",
        "import os\n",
        "\n"
      ]
    },
    {
      "cell_type": "code",
      "execution_count": null,
      "metadata": {},
      "outputs": [],
      "source": [
        "path to folder of documents\n",
        "\n",
        "\n",
        "folder of saved CVS"
      ]
    },
    {
      "cell_type": "code",
      "execution_count": 3,
      "metadata": {},
      "outputs": [],
      "source": [
        "\n",
        "def get_image(folder_path: str):\n",
        "    files = {}\n",
        "\n",
        "    # Iterate through each file in the folder\n",
        "    for file in os.listdir(folder_path):\n",
        "        images = []\n",
        "        widths = []\n",
        "        heights = []\n",
        "        # Check if the file is a PDF\n",
        "        if file.endswith(\".pdf\"):\n",
        "            file_path = os.path.join(folder_path, file)\n",
        "\n",
        "            # Open the PDF file\n",
        "            pdf_document = fitz.open(file_path)\n",
        "            print(file)\n",
        "            # Process a specific page (e.g., page number 132)\n",
        "            # page_number = 132\n",
        "            for page_number in range(len(pdf_document)):\n",
        "                # if page_number < len(pdf_document):\n",
        "                page = pdf_document.load_page(page_number)\n",
        "                pix = page.get_pixmap()\n",
        "                image_path = f\"page_{page_number}_{file}.png\"\n",
        "                pix.save(image_path)\n",
        "\n",
        "                # Open and process the image with PIL\n",
        "                image = Image.open(image_path).convert(\"RGB\")\n",
        "                width, height = image.size\n",
        "\n",
        "                # Store the image and its dimensions\n",
        "                images.append(image)\n",
        "                widths.append(width)\n",
        "                heights.append(height)\n",
        "\n",
        "        files[file] = {\"name\": file, \"images\": images, \"widths\": widths, \"heights\": heights}\n",
        "\n",
        "    return files\n",
        "\n",
        "# Usage example\n",
        "# files = get_images(\"/Users/danielbasman/Desktop/Desktop - Daniel’s MacBook Pro/MyStuff/Classes/Human In Loop/folder_of_10K\")\n",
        "# print(files)\n"
      ]
    },
    {
      "cell_type": "code",
      "execution_count": 29,
      "metadata": {},
      "outputs": [
        {
          "name": "stdout",
          "output_type": "stream",
          "text": [
            "{'name': '10-K.pdf', 'images': [<PIL.Image.Image image mode=RGB size=612x792 at 0x15E06F460>, <PIL.Image.Image image mode=RGB size=612x792 at 0x15E06FD00>, <PIL.Image.Image image mode=RGB size=612x792 at 0x15E06FBE0>, <PIL.Image.Image image mode=RGB size=612x792 at 0x15E06E7A0>, <PIL.Image.Image image mode=RGB size=612x792 at 0x15E06FD90>, <PIL.Image.Image image mode=RGB size=612x792 at 0x15E068A30>, <PIL.Image.Image image mode=RGB size=612x792 at 0x15E0686A0>, <PIL.Image.Image image mode=RGB size=612x792 at 0x15E06FBB0>, <PIL.Image.Image image mode=RGB size=612x792 at 0x15E06F0D0>, <PIL.Image.Image image mode=RGB size=612x792 at 0x15E19D0F0>, <PIL.Image.Image image mode=RGB size=612x792 at 0x15E076DD0>, <PIL.Image.Image image mode=RGB size=612x792 at 0x15E085DB0>, <PIL.Image.Image image mode=RGB size=612x792 at 0x15E085EA0>, <PIL.Image.Image image mode=RGB size=612x792 at 0x15E085E10>, <PIL.Image.Image image mode=RGB size=612x792 at 0x15E085DE0>, <PIL.Image.Image image mode=RGB size=612x792 at 0x15E087E80>, <PIL.Image.Image image mode=RGB size=612x792 at 0x15E084EB0>, <PIL.Image.Image image mode=RGB size=612x792 at 0x15E084F10>, <PIL.Image.Image image mode=RGB size=612x792 at 0x15E084E50>, <PIL.Image.Image image mode=RGB size=612x792 at 0x15E084E20>, <PIL.Image.Image image mode=RGB size=612x792 at 0x15E087220>, <PIL.Image.Image image mode=RGB size=612x792 at 0x15E085990>, <PIL.Image.Image image mode=RGB size=612x792 at 0x15E0867A0>, <PIL.Image.Image image mode=RGB size=612x792 at 0x15E085F30>, <PIL.Image.Image image mode=RGB size=612x792 at 0x15E085F60>, <PIL.Image.Image image mode=RGB size=612x792 at 0x15E085F00>, <PIL.Image.Image image mode=RGB size=612x792 at 0x15E0857B0>, <PIL.Image.Image image mode=RGB size=612x792 at 0x15E0857E0>, <PIL.Image.Image image mode=RGB size=612x792 at 0x15E085810>, <PIL.Image.Image image mode=RGB size=612x792 at 0x15E085840>, <PIL.Image.Image image mode=RGB size=612x792 at 0x15E085720>, <PIL.Image.Image image mode=RGB size=612x792 at 0x15E086920>, <PIL.Image.Image image mode=RGB size=612x792 at 0x15E085750>, <PIL.Image.Image image mode=RGB size=612x792 at 0x15E085780>, <PIL.Image.Image image mode=RGB size=612x792 at 0x15E085F90>, <PIL.Image.Image image mode=RGB size=612x792 at 0x15E085ED0>, <PIL.Image.Image image mode=RGB size=612x792 at 0x15E0871C0>, <PIL.Image.Image image mode=RGB size=612x792 at 0x15E0871F0>, <PIL.Image.Image image mode=RGB size=612x792 at 0x15E087190>, <PIL.Image.Image image mode=RGB size=612x792 at 0x15E085E40>, <PIL.Image.Image image mode=RGB size=612x792 at 0x15E085E70>, <PIL.Image.Image image mode=RGB size=612x792 at 0x15E086E90>, <PIL.Image.Image image mode=RGB size=612x792 at 0x15E084E80>, <PIL.Image.Image image mode=RGB size=612x792 at 0x15E085870>, <PIL.Image.Image image mode=RGB size=612x792 at 0x15E0858A0>, <PIL.Image.Image image mode=RGB size=612x792 at 0x15E0858D0>, <PIL.Image.Image image mode=RGB size=612x792 at 0x15E085900>, <PIL.Image.Image image mode=RGB size=612x792 at 0x15E085960>, <PIL.Image.Image image mode=RGB size=612x792 at 0x15E087EE0>, <PIL.Image.Image image mode=RGB size=612x792 at 0x15E087D90>, <PIL.Image.Image image mode=RGB size=612x792 at 0x15E087F10>, <PIL.Image.Image image mode=RGB size=612x792 at 0x15E087E20>, <PIL.Image.Image image mode=RGB size=612x792 at 0x15E0863E0>, <PIL.Image.Image image mode=RGB size=612x792 at 0x15E084B20>, <PIL.Image.Image image mode=RGB size=612x792 at 0x15E087FA0>, <PIL.Image.Image image mode=RGB size=612x792 at 0x15E085930>, <PIL.Image.Image image mode=RGB size=612x792 at 0x15E087130>, <PIL.Image.Image image mode=RGB size=612x792 at 0x15E087160>, <PIL.Image.Image image mode=RGB size=612x792 at 0x15E087FD0>, <PIL.Image.Image image mode=RGB size=612x792 at 0x15E087EB0>, <PIL.Image.Image image mode=RGB size=612x792 at 0x15E087F40>, <PIL.Image.Image image mode=RGB size=612x792 at 0x15E084A60>, <PIL.Image.Image image mode=RGB size=612x792 at 0x15E086200>, <PIL.Image.Image image mode=RGB size=612x792 at 0x15E0863B0>, <PIL.Image.Image image mode=RGB size=612x792 at 0x15E0860E0>, <PIL.Image.Image image mode=RGB size=612x792 at 0x15E084970>, <PIL.Image.Image image mode=RGB size=612x792 at 0x15E084A30>, <PIL.Image.Image image mode=RGB size=612x792 at 0x15E086050>, <PIL.Image.Image image mode=RGB size=612x792 at 0x15E084AF0>, <PIL.Image.Image image mode=RGB size=612x792 at 0x15E084A00>, <PIL.Image.Image image mode=RGB size=612x792 at 0x15E0848E0>, <PIL.Image.Image image mode=RGB size=612x792 at 0x15E086320>, <PIL.Image.Image image mode=RGB size=612x792 at 0x15E086170>, <PIL.Image.Image image mode=RGB size=612x792 at 0x15E084A90>, <PIL.Image.Image image mode=RGB size=612x792 at 0x15E084AC0>, <PIL.Image.Image image mode=RGB size=612x792 at 0x15E0864D0>, <PIL.Image.Image image mode=RGB size=612x792 at 0x15E084910>, <PIL.Image.Image image mode=RGB size=612x792 at 0x15E085A20>, <PIL.Image.Image image mode=RGB size=612x792 at 0x15E085A80>, <PIL.Image.Image image mode=RGB size=612x792 at 0x15E0859C0>, <PIL.Image.Image image mode=RGB size=612x792 at 0x15E086620>, <PIL.Image.Image image mode=RGB size=612x792 at 0x15E19CAC0>, <PIL.Image.Image image mode=RGB size=612x792 at 0x15E06A980>, <PIL.Image.Image image mode=RGB size=612x792 at 0x15E06E680>, <PIL.Image.Image image mode=RGB size=612x792 at 0x15E070190>, <PIL.Image.Image image mode=RGB size=612x792 at 0x15E074A30>, <PIL.Image.Image image mode=RGB size=612x792 at 0x15E2272B0>, <PIL.Image.Image image mode=RGB size=612x792 at 0x15E084EE0>, <PIL.Image.Image image mode=RGB size=612x792 at 0x16263E650>, <PIL.Image.Image image mode=RGB size=612x792 at 0x15E0859F0>, <PIL.Image.Image image mode=RGB size=612x792 at 0x15E06EF80>, <PIL.Image.Image image mode=RGB size=612x792 at 0x16263DDB0>, <PIL.Image.Image image mode=RGB size=612x792 at 0x15E085D80>, <PIL.Image.Image image mode=RGB size=612x792 at 0x15E092440>, <PIL.Image.Image image mode=RGB size=612x792 at 0x15E090460>, <PIL.Image.Image image mode=RGB size=612x792 at 0x15E090490>, <PIL.Image.Image image mode=RGB size=612x792 at 0x15E090400>, <PIL.Image.Image image mode=RGB size=612x792 at 0x15E0904C0>, <PIL.Image.Image image mode=RGB size=612x792 at 0x15E0904F0>, <PIL.Image.Image image mode=RGB size=612x792 at 0x15E090520>, <PIL.Image.Image image mode=RGB size=612x792 at 0x15E090550>, <PIL.Image.Image image mode=RGB size=612x792 at 0x15E090580>, <PIL.Image.Image image mode=RGB size=612x792 at 0x15E0905B0>, <PIL.Image.Image image mode=RGB size=612x792 at 0x15E0905E0>, <PIL.Image.Image image mode=RGB size=612x792 at 0x15E090610>, <PIL.Image.Image image mode=RGB size=612x792 at 0x15E090640>, <PIL.Image.Image image mode=RGB size=612x792 at 0x15E090670>, <PIL.Image.Image image mode=RGB size=612x792 at 0x15E0906A0>, <PIL.Image.Image image mode=RGB size=612x792 at 0x15E0906D0>, <PIL.Image.Image image mode=RGB size=612x792 at 0x15E090700>, <PIL.Image.Image image mode=RGB size=612x792 at 0x15E090730>, <PIL.Image.Image image mode=RGB size=612x792 at 0x15E090760>, <PIL.Image.Image image mode=RGB size=612x792 at 0x15E090790>, <PIL.Image.Image image mode=RGB size=612x792 at 0x15E0907C0>, <PIL.Image.Image image mode=RGB size=612x792 at 0x15E0907F0>, <PIL.Image.Image image mode=RGB size=612x792 at 0x15E090820>, <PIL.Image.Image image mode=RGB size=612x792 at 0x15E090850>, <PIL.Image.Image image mode=RGB size=612x792 at 0x15E090880>, <PIL.Image.Image image mode=RGB size=612x792 at 0x15E0908B0>, <PIL.Image.Image image mode=RGB size=612x792 at 0x15E0908E0>, <PIL.Image.Image image mode=RGB size=612x792 at 0x15E090910>, <PIL.Image.Image image mode=RGB size=612x792 at 0x15E090940>, <PIL.Image.Image image mode=RGB size=612x792 at 0x15E090970>, <PIL.Image.Image image mode=RGB size=612x792 at 0x15E0909A0>, <PIL.Image.Image image mode=RGB size=612x792 at 0x15E0909D0>, <PIL.Image.Image image mode=RGB size=612x792 at 0x15E090A00>, <PIL.Image.Image image mode=RGB size=612x792 at 0x15E090A30>, <PIL.Image.Image image mode=RGB size=612x792 at 0x15E090A60>, <PIL.Image.Image image mode=RGB size=612x792 at 0x15E090A90>, <PIL.Image.Image image mode=RGB size=612x792 at 0x15E090AC0>, <PIL.Image.Image image mode=RGB size=612x792 at 0x15E090AF0>, <PIL.Image.Image image mode=RGB size=612x792 at 0x15E090B20>, <PIL.Image.Image image mode=RGB size=612x792 at 0x15E090B50>, <PIL.Image.Image image mode=RGB size=612x792 at 0x15E090B80>, <PIL.Image.Image image mode=RGB size=612x792 at 0x15E090BB0>, <PIL.Image.Image image mode=RGB size=612x792 at 0x15E090BE0>, <PIL.Image.Image image mode=RGB size=612x792 at 0x15E090C10>, <PIL.Image.Image image mode=RGB size=612x792 at 0x15E090C40>, <PIL.Image.Image image mode=RGB size=612x792 at 0x15E090C70>, <PIL.Image.Image image mode=RGB size=612x792 at 0x15E090CA0>, <PIL.Image.Image image mode=RGB size=612x792 at 0x15E090CD0>, <PIL.Image.Image image mode=RGB size=612x792 at 0x15E090D00>, <PIL.Image.Image image mode=RGB size=612x792 at 0x15E090D60>, <PIL.Image.Image image mode=RGB size=612x792 at 0x15DE1A7A0>, <PIL.Image.Image image mode=RGB size=612x792 at 0x15E06FD30>, <PIL.Image.Image image mode=RGB size=612x792 at 0x15E068820>, <PIL.Image.Image image mode=RGB size=612x792 at 0x15E086AD0>, <PIL.Image.Image image mode=RGB size=612x792 at 0x15E227640>, <PIL.Image.Image image mode=RGB size=612x792 at 0x15E0A86A0>, <PIL.Image.Image image mode=RGB size=612x792 at 0x15E0A8F70>, <PIL.Image.Image image mode=RGB size=612x792 at 0x15E0A8FA0>, <PIL.Image.Image image mode=RGB size=612x792 at 0x15E0A8FD0>, <PIL.Image.Image image mode=RGB size=612x792 at 0x15E0A9000>, <PIL.Image.Image image mode=RGB size=612x792 at 0x15E0A9030>], 'widths': [612, 612, 612, 612, 612, 612, 612, 612, 612, 612, 612, 612, 612, 612, 612, 612, 612, 612, 612, 612, 612, 612, 612, 612, 612, 612, 612, 612, 612, 612, 612, 612, 612, 612, 612, 612, 612, 612, 612, 612, 612, 612, 612, 612, 612, 612, 612, 612, 612, 612, 612, 612, 612, 612, 612, 612, 612, 612, 612, 612, 612, 612, 612, 612, 612, 612, 612, 612, 612, 612, 612, 612, 612, 612, 612, 612, 612, 612, 612, 612, 612, 612, 612, 612, 612, 612, 612, 612, 612, 612, 612, 612, 612, 612, 612, 612, 612, 612, 612, 612, 612, 612, 612, 612, 612, 612, 612, 612, 612, 612, 612, 612, 612, 612, 612, 612, 612, 612, 612, 612, 612, 612, 612, 612, 612, 612, 612, 612, 612, 612, 612, 612, 612, 612, 612, 612, 612, 612, 612, 612, 612, 612, 612, 612, 612, 612, 612, 612, 612, 612, 612, 612, 612, 612], 'heights': [792, 792, 792, 792, 792, 792, 792, 792, 792, 792, 792, 792, 792, 792, 792, 792, 792, 792, 792, 792, 792, 792, 792, 792, 792, 792, 792, 792, 792, 792, 792, 792, 792, 792, 792, 792, 792, 792, 792, 792, 792, 792, 792, 792, 792, 792, 792, 792, 792, 792, 792, 792, 792, 792, 792, 792, 792, 792, 792, 792, 792, 792, 792, 792, 792, 792, 792, 792, 792, 792, 792, 792, 792, 792, 792, 792, 792, 792, 792, 792, 792, 792, 792, 792, 792, 792, 792, 792, 792, 792, 792, 792, 792, 792, 792, 792, 792, 792, 792, 792, 792, 792, 792, 792, 792, 792, 792, 792, 792, 792, 792, 792, 792, 792, 792, 792, 792, 792, 792, 792, 792, 792, 792, 792, 792, 792, 792, 792, 792, 792, 792, 792, 792, 792, 792, 792, 792, 792, 792, 792, 792, 792, 792, 792, 792, 792, 792, 792, 792, 792, 792, 792, 792, 792]}\n",
            "{'name': '10-K-EX2.pdf', 'images': [<PIL.Image.Image image mode=RGB size=612x792 at 0x16260DE40>, <PIL.Image.Image image mode=RGB size=612x792 at 0x15E0700A0>, <PIL.Image.Image image mode=RGB size=612x792 at 0x15E078A90>, <PIL.Image.Image image mode=RGB size=612x792 at 0x15DEF53C0>, <PIL.Image.Image image mode=RGB size=612x792 at 0x15E073430>, <PIL.Image.Image image mode=RGB size=612x792 at 0x15DEF6A70>, <PIL.Image.Image image mode=RGB size=612x792 at 0x16260C6A0>, <PIL.Image.Image image mode=RGB size=612x792 at 0x15DEF6110>, <PIL.Image.Image image mode=RGB size=612x792 at 0x15DEF4D60>, <PIL.Image.Image image mode=RGB size=612x792 at 0x15DEF68F0>, <PIL.Image.Image image mode=RGB size=612x792 at 0x15DEF4F10>, <PIL.Image.Image image mode=RGB size=612x792 at 0x15DEF4610>, <PIL.Image.Image image mode=RGB size=612x792 at 0x15DEF6C80>, <PIL.Image.Image image mode=RGB size=612x792 at 0x15DEF50C0>, <PIL.Image.Image image mode=RGB size=612x792 at 0x15DEF4400>, <PIL.Image.Image image mode=RGB size=612x792 at 0x15DEF69E0>, <PIL.Image.Image image mode=RGB size=612x792 at 0x15DEF7EE0>, <PIL.Image.Image image mode=RGB size=612x792 at 0x15DEF4F40>, <PIL.Image.Image image mode=RGB size=612x792 at 0x15DEF7CA0>, <PIL.Image.Image image mode=RGB size=612x792 at 0x15DEF5E40>, <PIL.Image.Image image mode=RGB size=612x792 at 0x15DEF5390>, <PIL.Image.Image image mode=RGB size=612x792 at 0x15DEF73A0>, <PIL.Image.Image image mode=RGB size=612x792 at 0x15DEF7280>, <PIL.Image.Image image mode=RGB size=612x792 at 0x15DEF73D0>, <PIL.Image.Image image mode=RGB size=612x792 at 0x15DEF72E0>, <PIL.Image.Image image mode=RGB size=612x792 at 0x15DEF75E0>, <PIL.Image.Image image mode=RGB size=612x792 at 0x15DEF60E0>, <PIL.Image.Image image mode=RGB size=612x792 at 0x15DEF7550>, <PIL.Image.Image image mode=RGB size=612x792 at 0x15DEF7310>, <PIL.Image.Image image mode=RGB size=612x792 at 0x15DEF7580>, <PIL.Image.Image image mode=RGB size=612x792 at 0x15DEF48E0>, <PIL.Image.Image image mode=RGB size=612x792 at 0x15DEF7340>, <PIL.Image.Image image mode=RGB size=612x792 at 0x15DEF68C0>, <PIL.Image.Image image mode=RGB size=612x792 at 0x15DEF4820>, <PIL.Image.Image image mode=RGB size=612x792 at 0x15DEF7640>, <PIL.Image.Image image mode=RGB size=612x792 at 0x15DEF7610>, <PIL.Image.Image image mode=RGB size=612x792 at 0x15DEF41F0>, <PIL.Image.Image image mode=RGB size=612x792 at 0x15DEF6140>, <PIL.Image.Image image mode=RGB size=612x792 at 0x15DEF47F0>, <PIL.Image.Image image mode=RGB size=612x792 at 0x15DEF6530>, <PIL.Image.Image image mode=RGB size=612x792 at 0x15DEF51E0>, <PIL.Image.Image image mode=RGB size=612x792 at 0x15DEF7A00>, <PIL.Image.Image image mode=RGB size=612x792 at 0x15DEF6A40>, <PIL.Image.Image image mode=RGB size=612x792 at 0x15DEF7D30>, <PIL.Image.Image image mode=RGB size=612x792 at 0x15DEF65C0>, <PIL.Image.Image image mode=RGB size=612x792 at 0x15DEF7040>, <PIL.Image.Image image mode=RGB size=612x792 at 0x15DEF7400>, <PIL.Image.Image image mode=RGB size=612x792 at 0x15DEF5540>, <PIL.Image.Image image mode=RGB size=612x792 at 0x15DEF5060>, <PIL.Image.Image image mode=RGB size=612x792 at 0x15DEF6560>, <PIL.Image.Image image mode=RGB size=612x792 at 0x15DEF4E20>, <PIL.Image.Image image mode=RGB size=612x792 at 0x15DEF7520>, <PIL.Image.Image image mode=RGB size=612x792 at 0x15DEF5300>, <PIL.Image.Image image mode=RGB size=612x792 at 0x15DEF6380>, <PIL.Image.Image image mode=RGB size=612x792 at 0x15DEF56F0>, <PIL.Image.Image image mode=RGB size=612x792 at 0x15DEF4850>, <PIL.Image.Image image mode=RGB size=612x792 at 0x15DEF5660>, <PIL.Image.Image image mode=RGB size=612x792 at 0x15DEF6F20>, <PIL.Image.Image image mode=RGB size=612x792 at 0x15DEF7250>, <PIL.Image.Image image mode=RGB size=612x792 at 0x15DEF5FC0>, <PIL.Image.Image image mode=RGB size=612x792 at 0x15DEF4FA0>, <PIL.Image.Image image mode=RGB size=612x792 at 0x15DEF5C90>, <PIL.Image.Image image mode=RGB size=612x792 at 0x15DEF6FE0>, <PIL.Image.Image image mode=RGB size=612x792 at 0x15DEF5150>, <PIL.Image.Image image mode=RGB size=612x792 at 0x15DEF5ED0>, <PIL.Image.Image image mode=RGB size=612x792 at 0x15DEF7190>, <PIL.Image.Image image mode=RGB size=612x792 at 0x15DEF5F90>, <PIL.Image.Image image mode=RGB size=612x792 at 0x15DEF43A0>, <PIL.Image.Image image mode=RGB size=612x792 at 0x15DEF42E0>, <PIL.Image.Image image mode=RGB size=612x792 at 0x15DEF6B30>, <PIL.Image.Image image mode=RGB size=612x792 at 0x15DEF42B0>, <PIL.Image.Image image mode=RGB size=612x792 at 0x15DEF4340>, <PIL.Image.Image image mode=RGB size=612x792 at 0x15DEF5F00>, <PIL.Image.Image image mode=RGB size=612x792 at 0x15DEF5CC0>, <PIL.Image.Image image mode=RGB size=612x792 at 0x15DEF67D0>, <PIL.Image.Image image mode=RGB size=612x792 at 0x15DEF50F0>, <PIL.Image.Image image mode=RGB size=612x792 at 0x15DEF5F60>, <PIL.Image.Image image mode=RGB size=612x792 at 0x15DEF7460>, <PIL.Image.Image image mode=RGB size=612x792 at 0x15DEF53F0>, <PIL.Image.Image image mode=RGB size=612x792 at 0x15DEF63B0>, <PIL.Image.Image image mode=RGB size=612x792 at 0x15DEF7AF0>, <PIL.Image.Image image mode=RGB size=612x792 at 0x15DEF7A30>, <PIL.Image.Image image mode=RGB size=612x792 at 0x15DEF44C0>, <PIL.Image.Image image mode=RGB size=612x792 at 0x15DEF4490>, <PIL.Image.Image image mode=RGB size=612x792 at 0x15DEF61D0>, <PIL.Image.Image image mode=RGB size=612x792 at 0x15DEF5030>, <PIL.Image.Image image mode=RGB size=612x792 at 0x15DEF7A90>, <PIL.Image.Image image mode=RGB size=612x792 at 0x15DEF6890>, <PIL.Image.Image image mode=RGB size=612x792 at 0x15DEF7940>, <PIL.Image.Image image mode=RGB size=612x792 at 0x15DEF6EF0>, <PIL.Image.Image image mode=RGB size=612x792 at 0x15DEF7220>, <PIL.Image.Image image mode=RGB size=612x792 at 0x15DEF5BA0>, <PIL.Image.Image image mode=RGB size=612x792 at 0x15DEF5870>, <PIL.Image.Image image mode=RGB size=612x792 at 0x15DEF58A0>, <PIL.Image.Image image mode=RGB size=612x792 at 0x15DEF6AD0>, <PIL.Image.Image image mode=RGB size=612x792 at 0x15DEF5900>, <PIL.Image.Image image mode=RGB size=612x792 at 0x15DEF5930>, <PIL.Image.Image image mode=RGB size=612x792 at 0x15DEF5720>, <PIL.Image.Image image mode=RGB size=612x792 at 0x15DEF5990>, <PIL.Image.Image image mode=RGB size=612x792 at 0x15DEF59C0>, <PIL.Image.Image image mode=RGB size=612x792 at 0x15DEF57B0>, <PIL.Image.Image image mode=RGB size=612x792 at 0x15DEF5A20>, <PIL.Image.Image image mode=RGB size=612x792 at 0x15DEF5A80>, <PIL.Image.Image image mode=RGB size=612x792 at 0x15DEF5840>, <PIL.Image.Image image mode=RGB size=612x792 at 0x15DEF6D40>, <PIL.Image.Image image mode=RGB size=612x792 at 0x15DEF6B60>, <PIL.Image.Image image mode=RGB size=612x792 at 0x15DEF4D90>, <PIL.Image.Image image mode=RGB size=612x792 at 0x15E073D00>, <PIL.Image.Image image mode=RGB size=612x792 at 0x15E070130>, <PIL.Image.Image image mode=RGB size=612x792 at 0x15E079960>, <PIL.Image.Image image mode=RGB size=612x792 at 0x15DEF58D0>, <PIL.Image.Image image mode=RGB size=612x792 at 0x13A007AF0>, <PIL.Image.Image image mode=RGB size=612x792 at 0x15E074490>, <PIL.Image.Image image mode=RGB size=612x792 at 0x15E076320>, <PIL.Image.Image image mode=RGB size=612x792 at 0x15E075750>, <PIL.Image.Image image mode=RGB size=612x792 at 0x15E075000>, <PIL.Image.Image image mode=RGB size=612x792 at 0x15E076E30>, <PIL.Image.Image image mode=RGB size=612x792 at 0x15E077CA0>, <PIL.Image.Image image mode=RGB size=612x792 at 0x15DEF5AE0>, <PIL.Image.Image image mode=RGB size=612x792 at 0x15DEF6170>, <PIL.Image.Image image mode=RGB size=612x792 at 0x15E074EE0>, <PIL.Image.Image image mode=RGB size=612x792 at 0x15E071000>, <PIL.Image.Image image mode=RGB size=612x792 at 0x15DEF71F0>, <PIL.Image.Image image mode=RGB size=612x792 at 0x15E068520>, <PIL.Image.Image image mode=RGB size=612x792 at 0x15E068A00>, <PIL.Image.Image image mode=RGB size=612x792 at 0x15E06B190>, <PIL.Image.Image image mode=RGB size=612x792 at 0x15E0684F0>, <PIL.Image.Image image mode=RGB size=612x792 at 0x15E06A800>, <PIL.Image.Image image mode=RGB size=612x792 at 0x15E06A770>, <PIL.Image.Image image mode=RGB size=612x792 at 0x15E068B80>, <PIL.Image.Image image mode=RGB size=612x792 at 0x15E069630>, <PIL.Image.Image image mode=RGB size=612x792 at 0x15E068730>, <PIL.Image.Image image mode=RGB size=612x792 at 0x15E068670>, <PIL.Image.Image image mode=RGB size=612x792 at 0x15E06A860>, <PIL.Image.Image image mode=RGB size=612x792 at 0x15E06AB30>, <PIL.Image.Image image mode=RGB size=612x792 at 0x15E06A680>, <PIL.Image.Image image mode=RGB size=612x792 at 0x15E076410>, <PIL.Image.Image image mode=RGB size=612x792 at 0x15E075C00>, <PIL.Image.Image image mode=RGB size=612x792 at 0x15E238040>, <PIL.Image.Image image mode=RGB size=612x792 at 0x15DEF6830>, <PIL.Image.Image image mode=RGB size=612x792 at 0x15DEF6C20>, <PIL.Image.Image image mode=RGB size=612x792 at 0x15E06FC10>, <PIL.Image.Image image mode=RGB size=612x792 at 0x15E06EF50>, <PIL.Image.Image image mode=RGB size=612x792 at 0x15E06FC40>, <PIL.Image.Image image mode=RGB size=612x792 at 0x15E06EBF0>, <PIL.Image.Image image mode=RGB size=612x792 at 0x15E06ECB0>, <PIL.Image.Image image mode=RGB size=612x792 at 0x15E06FDC0>], 'widths': [612, 612, 612, 612, 612, 612, 612, 612, 612, 612, 612, 612, 612, 612, 612, 612, 612, 612, 612, 612, 612, 612, 612, 612, 612, 612, 612, 612, 612, 612, 612, 612, 612, 612, 612, 612, 612, 612, 612, 612, 612, 612, 612, 612, 612, 612, 612, 612, 612, 612, 612, 612, 612, 612, 612, 612, 612, 612, 612, 612, 612, 612, 612, 612, 612, 612, 612, 612, 612, 612, 612, 612, 612, 612, 612, 612, 612, 612, 612, 612, 612, 612, 612, 612, 612, 612, 612, 612, 612, 612, 612, 612, 612, 612, 612, 612, 612, 612, 612, 612, 612, 612, 612, 612, 612, 612, 612, 612, 612, 612, 612, 612, 612, 612, 612, 612, 612, 612, 612, 612, 612, 612, 612, 612, 612, 612, 612, 612, 612, 612, 612, 612, 612, 612, 612, 612, 612, 612, 612, 612, 612, 612, 612, 612, 612, 612, 612], 'heights': [792, 792, 792, 792, 792, 792, 792, 792, 792, 792, 792, 792, 792, 792, 792, 792, 792, 792, 792, 792, 792, 792, 792, 792, 792, 792, 792, 792, 792, 792, 792, 792, 792, 792, 792, 792, 792, 792, 792, 792, 792, 792, 792, 792, 792, 792, 792, 792, 792, 792, 792, 792, 792, 792, 792, 792, 792, 792, 792, 792, 792, 792, 792, 792, 792, 792, 792, 792, 792, 792, 792, 792, 792, 792, 792, 792, 792, 792, 792, 792, 792, 792, 792, 792, 792, 792, 792, 792, 792, 792, 792, 792, 792, 792, 792, 792, 792, 792, 792, 792, 792, 792, 792, 792, 792, 792, 792, 792, 792, 792, 792, 792, 792, 792, 792, 792, 792, 792, 792, 792, 792, 792, 792, 792, 792, 792, 792, 792, 792, 792, 792, 792, 792, 792, 792, 792, 792, 792, 792, 792, 792, 792, 792, 792, 792, 792, 792]}\n"
          ]
        }
      ],
      "source": [
        "# print(files[\"name\"])\n",
        "print((files[\"10-K.pdf\"]))\n",
        "print((files[\"10-K-EX2.pdf\"]))"
      ]
    },
    {
      "cell_type": "code",
      "execution_count": 4,
      "metadata": {
        "colab": {
          "base_uri": "https://localhost:8080/"
        },
        "id": "uuvc_hZ7PTEj",
        "outputId": "1d67020e-9840-41de-e9bc-cd48dd7f3c1c"
      },
      "outputs": [],
      "source": [
        "def extract_features(image, width, height, model):\n",
        "\n",
        "  feature_extractor = DetrFeatureExtractor()\n",
        "  encoding = feature_extractor(image, return_tensors=\"pt\")\n",
        "  # encoding.keys()\n",
        "  # print(encoding['pixel_values'].shape)\n",
        "\n",
        "\n",
        "  with torch.no_grad():\n",
        "    outputs = model(**encoding)\n",
        "    results = feature_extractor.post_process_object_detection(outputs, threshold=0.001, target_sizes=[(height, width)])[0]\n",
        "\n",
        "    return results, feature_extractor\n",
        "# model, results, feature_extractor = extract_features(img, width, height)"
      ]
    },
    {
      "cell_type": "code",
      "execution_count": 5,
      "metadata": {
        "id": "PNYQe2xbl5vl"
      },
      "outputs": [],
      "source": [
        "\n",
        "def plot_box(pil_img, boxes):\n",
        "    COLORS = [[0.000, 0.447, 0.741], [0.850, 0.325, 0.098], [0.929, 0.694, 0.125],\n",
        "          [0.494, 0.184, 0.556], [0.466, 0.674, 0.188], [0.301, 0.745, 0.933]]\n",
        "\n",
        "    plt.figure(figsize=(16,10))\n",
        "    plt.imshow(pil_img)\n",
        "    ax = plt.gca()\n",
        "    \n",
        "    ax.add_patch(plt.Rectangle((boxes[1], boxes[2]), boxes[3] - boxes[1], -(boxes[2] - boxes[0]),\n",
        "                                   fill=False, color='red', linewidth=3))\n",
        "    \n",
        "    print(\"height: \", boxes[2] - boxes[0])\n",
        "    print(\"width: \", boxes[3] - boxes[1])\n",
        "    plt.axis('on')\n",
        "\n",
        "    plt.show()\n",
        "    \n",
        "def plot_results(pil_img, scores, labels, boxes):\n",
        "    COLORS = [[0.000, 0.447, 0.741], [0.850, 0.325, 0.098], [0.929, 0.694, 0.125],\n",
        "          [0.494, 0.184, 0.556], [0.466, 0.674, 0.188], [0.301, 0.745, 0.933]]\n",
        "    plt.figure(figsize=(16,10))\n",
        "    plt.imshow(pil_img)\n",
        "    ax = plt.gca()\n",
        "    colors = COLORS * 100\n",
        "    for score, label, (xmin, ymin, xmax, ymax),c  in zip(scores.tolist(), labels.tolist(), boxes.tolist(), colors):\n",
        "        ax.add_patch(plt.Rectangle((xmin, ymin), xmax - xmin, ymax - ymin,\n",
        "                                   fill=False, color=c, linewidth=3))\n",
        "        text = f'{model.config.id2label[label]}: {score:0.2f}'\n",
        "        ax.text(xmin, ymin, text, fontsize=8,\n",
        "                bbox=dict(facecolor='yellow', alpha=0.5))\n",
        "    plt.axis('on')\n",
        "\n",
        "    plt.show()"
      ]
    },
    {
      "cell_type": "code",
      "execution_count": 6,
      "metadata": {
        "id": "jge-7sBcly-u"
      },
      "outputs": [],
      "source": [
        "def sort_results(results):\n",
        "\n",
        "    # width, height = image.size\n",
        "\n",
        "    max_score_index = torch.argmax(results['scores'])\n",
        "    max_score = results['scores'][max_score_index]\n",
        "    max_score_box = results['boxes'][max_score_index]\n",
        "\n",
        "    left = []\n",
        "    right = []\n",
        "    top = []\n",
        "    bottom = []\n",
        "\n",
        "    for i in results[\"boxes\"]:\n",
        "        top.append(i[3])\n",
        "        right.append(i[2])\n",
        "        left.append(i[0])\n",
        "        bottom.append(i[1])\n",
        "        # print(\"top y: \", i[3], \"bottom y: \", i[1], \"right x: \", i[2], \"left x: \", i[0])\n",
        "        \n",
        "    # print(left)\n",
        "    final = []\n",
        "\n",
        "    for i in [bottom, left]:\n",
        "        # print(i)\n",
        "        min_value = min(tensor.min() for tensor in i)\n",
        "        # print(min_value)\n",
        "        final.append(min_value)\n",
        "\n",
        "    for i in [top, right]:\n",
        "        # print(i)\n",
        "        max_value = max(tensor.max() for tensor in i)\n",
        "        # print(max_value)\n",
        "        final.append(max_value)\n",
        "    # print(final)\n",
        "    # print(\"Anchor\")\n",
        "    # print(final[1])\n",
        "    # print(final[2])\n",
        "    max_score_box = [max_score_box[3], max_score_box[0], max_score_box[1], max_score_box[2]]\n",
        "    # print(max_score_box)\n",
        "\n",
        "    return final, max_score_box\n",
        "\n",
        "# final, max_score_box = sort_results(results)\n"
      ]
    },
    {
      "cell_type": "code",
      "execution_count": 7,
      "metadata": {},
      "outputs": [],
      "source": [
        "\n",
        "def convert_results(results):\n",
        "    # Converting tensors to lists\n",
        "    data = {key: value.tolist() for key, value in results.items()}\n",
        "\n",
        "    # Combining the scores, labels, and boxes into a single list of tuples for sorting\n",
        "    combined_data = list(zip(data['scores'], data['labels'], data['boxes']))\n",
        "\n",
        "    # Sorting the combined data by scores in descending order\n",
        "    sorted_data = sorted(combined_data, key=lambda x: x[0], reverse=True)\n",
        "\n",
        "    # Reformatting back into the dictionary structure\n",
        "    sorted_dict = {\n",
        "        'scores': [item[0] for item in sorted_data],\n",
        "        'labels': [item[1] for item in sorted_data],\n",
        "        'boxes': [item[2] for item in sorted_data]\n",
        "    }\n",
        "\n",
        "    return sorted_dict"
      ]
    },
    {
      "cell_type": "code",
      "execution_count": 8,
      "metadata": {},
      "outputs": [],
      "source": [
        "def get_table_image(image, final):\n",
        "    width, height = image.size\n",
        "    image.resize((int(width*0.5), int(height*0.5)))\n",
        "\n",
        "    x =  int(final[1])\n",
        "    y = int(final[0])\n",
        "    width = int(final[3] - final[1])\n",
        "    height = int(final[2] - final[0])\n",
        "    print(x, y, width, height)\n",
        "    cropped_image = image.crop((x-30, y-20, x + width + 30, y + height))\n",
        "    # cropped_image.save('cropped_portion.png')\n",
        "\n",
        "    return cropped_image\n",
        "\n",
        "# cropped_image = get_table_image(image, final)\n"
      ]
    },
    {
      "cell_type": "code",
      "execution_count": 9,
      "metadata": {
        "colab": {
          "base_uri": "https://localhost:8080/",
          "height": 465
        },
        "id": "hu0r5mRW957s",
        "outputId": "942ae0a8-f9f6-47d1-f3b0-b53ed3ae5108"
      },
      "outputs": [],
      "source": [
        "def table_structure_results(cropped_image, feature_extractor):\n",
        "\n",
        "  image = cropped_image.convert(\"RGB\")\n",
        "\n",
        "  width, height = image.size\n",
        "  # image.resize((int(width*0.5), int(height*0.5)))\n",
        "\n",
        "  encoding = feature_extractor(image, return_tensors=\"pt\")\n",
        "  # encoding.keys()\n",
        "  model = TableTransformerForObjectDetection.from_pretrained(\"microsoft/table-transformer-structure-recognition\")\n",
        "\n",
        "  with torch.no_grad():\n",
        "    outputs = model(**encoding)\n",
        "\n",
        "    target_sizes = [image.size[::-1]]\n",
        "    results = feature_extractor.post_process_object_detection(outputs, threshold=0.8, target_sizes=target_sizes)[0]\n",
        "\n",
        "    return results, model\n",
        "\n"
      ]
    },
    {
      "cell_type": "code",
      "execution_count": 12,
      "metadata": {},
      "outputs": [
        {
          "name": "stdout",
          "output_type": "stream",
          "text": [
            "10-K-EX2.pdf\n",
            "10-K.pdf\n",
            "{'10-K-EX2.pdf': {'name': '10-K-EX2.pdf', 'images': [<PIL.Image.Image image mode=RGB size=612x792 at 0x163AB68F0>, <PIL.Image.Image image mode=RGB size=612x792 at 0x11212FF10>, <PIL.Image.Image image mode=RGB size=612x792 at 0x163AB69E0>, <PIL.Image.Image image mode=RGB size=612x792 at 0x10BE841C0>, <PIL.Image.Image image mode=RGB size=612x792 at 0x11212DED0>, <PIL.Image.Image image mode=RGB size=612x792 at 0x163A73C70>, <PIL.Image.Image image mode=RGB size=612x792 at 0x163A730A0>, <PIL.Image.Image image mode=RGB size=612x792 at 0x163A70700>, <PIL.Image.Image image mode=RGB size=612x792 at 0x163A70490>, <PIL.Image.Image image mode=RGB size=612x792 at 0x163A700A0>, <PIL.Image.Image image mode=RGB size=612x792 at 0x163A70820>, <PIL.Image.Image image mode=RGB size=612x792 at 0x163A70460>, <PIL.Image.Image image mode=RGB size=612x792 at 0x163A708E0>, <PIL.Image.Image image mode=RGB size=612x792 at 0x163A710C0>, <PIL.Image.Image image mode=RGB size=612x792 at 0x163A702E0>, <PIL.Image.Image image mode=RGB size=612x792 at 0x163A71120>, <PIL.Image.Image image mode=RGB size=612x792 at 0x163A71180>, <PIL.Image.Image image mode=RGB size=612x792 at 0x163A70880>, <PIL.Image.Image image mode=RGB size=612x792 at 0x163A712D0>, <PIL.Image.Image image mode=RGB size=612x792 at 0x163A71E40>, <PIL.Image.Image image mode=RGB size=612x792 at 0x163A71060>, <PIL.Image.Image image mode=RGB size=612x792 at 0x163A71E10>, <PIL.Image.Image image mode=RGB size=612x792 at 0x163A71DB0>, <PIL.Image.Image image mode=RGB size=612x792 at 0x163A71300>, <PIL.Image.Image image mode=RGB size=612x792 at 0x163A70A90>, <PIL.Image.Image image mode=RGB size=612x792 at 0x163A70AC0>, <PIL.Image.Image image mode=RGB size=612x792 at 0x163A71E70>, <PIL.Image.Image image mode=RGB size=612x792 at 0x163A70910>, <PIL.Image.Image image mode=RGB size=612x792 at 0x163A70940>, <PIL.Image.Image image mode=RGB size=612x792 at 0x163A70AF0>, <PIL.Image.Image image mode=RGB size=612x792 at 0x163A70100>, <PIL.Image.Image image mode=RGB size=612x792 at 0x163A703A0>, <PIL.Image.Image image mode=RGB size=612x792 at 0x163A70A60>, <PIL.Image.Image image mode=RGB size=612x792 at 0x163A70F40>, <PIL.Image.Image image mode=RGB size=612x792 at 0x163A71C60>, <PIL.Image.Image image mode=RGB size=612x792 at 0x163A704F0>, <PIL.Image.Image image mode=RGB size=612x792 at 0x163A71B70>, <PIL.Image.Image image mode=RGB size=612x792 at 0x163A71330>, <PIL.Image.Image image mode=RGB size=612x792 at 0x163A713C0>, <PIL.Image.Image image mode=RGB size=612x792 at 0x163A70EB0>, <PIL.Image.Image image mode=RGB size=612x792 at 0x163A70E50>, <PIL.Image.Image image mode=RGB size=612x792 at 0x163A71D20>, <PIL.Image.Image image mode=RGB size=612x792 at 0x163A70DC0>, <PIL.Image.Image image mode=RGB size=612x792 at 0x163A70D60>, <PIL.Image.Image image mode=RGB size=612x792 at 0x163A71390>, <PIL.Image.Image image mode=RGB size=612x792 at 0x163A70C40>, <PIL.Image.Image image mode=RGB size=612x792 at 0x163A70E20>, <PIL.Image.Image image mode=RGB size=612x792 at 0x163AB68C0>, <PIL.Image.Image image mode=RGB size=612x792 at 0x163A706D0>, <PIL.Image.Image image mode=RGB size=612x792 at 0x163A70760>, <PIL.Image.Image image mode=RGB size=612x792 at 0x163A70790>, <PIL.Image.Image image mode=RGB size=612x792 at 0x163AB6920>, <PIL.Image.Image image mode=RGB size=612x792 at 0x163B300A0>, <PIL.Image.Image image mode=RGB size=612x792 at 0x163B30100>, <PIL.Image.Image image mode=RGB size=612x792 at 0x163B30130>, <PIL.Image.Image image mode=RGB size=612x792 at 0x163B30160>, <PIL.Image.Image image mode=RGB size=612x792 at 0x163B30190>, <PIL.Image.Image image mode=RGB size=612x792 at 0x163B301C0>, <PIL.Image.Image image mode=RGB size=612x792 at 0x163B301F0>, <PIL.Image.Image image mode=RGB size=612x792 at 0x163B30220>, <PIL.Image.Image image mode=RGB size=612x792 at 0x163B30250>, <PIL.Image.Image image mode=RGB size=612x792 at 0x163B30280>, <PIL.Image.Image image mode=RGB size=612x792 at 0x163B302B0>, <PIL.Image.Image image mode=RGB size=612x792 at 0x163B302E0>, <PIL.Image.Image image mode=RGB size=612x792 at 0x163B30310>, <PIL.Image.Image image mode=RGB size=612x792 at 0x163B30340>, <PIL.Image.Image image mode=RGB size=612x792 at 0x163B30370>, <PIL.Image.Image image mode=RGB size=612x792 at 0x163B303A0>, <PIL.Image.Image image mode=RGB size=612x792 at 0x163B303D0>, <PIL.Image.Image image mode=RGB size=612x792 at 0x163B30400>, <PIL.Image.Image image mode=RGB size=612x792 at 0x163B30430>, <PIL.Image.Image image mode=RGB size=612x792 at 0x163B30460>, <PIL.Image.Image image mode=RGB size=612x792 at 0x163B30490>, <PIL.Image.Image image mode=RGB size=612x792 at 0x163B304C0>, <PIL.Image.Image image mode=RGB size=612x792 at 0x163B304F0>, <PIL.Image.Image image mode=RGB size=612x792 at 0x163B30520>, <PIL.Image.Image image mode=RGB size=612x792 at 0x163B30550>, <PIL.Image.Image image mode=RGB size=612x792 at 0x163B30580>, <PIL.Image.Image image mode=RGB size=612x792 at 0x163B305B0>, <PIL.Image.Image image mode=RGB size=612x792 at 0x163B305E0>, <PIL.Image.Image image mode=RGB size=612x792 at 0x163B30610>, <PIL.Image.Image image mode=RGB size=612x792 at 0x163B30640>, <PIL.Image.Image image mode=RGB size=612x792 at 0x163B30670>, <PIL.Image.Image image mode=RGB size=612x792 at 0x163B306A0>, <PIL.Image.Image image mode=RGB size=612x792 at 0x163B306D0>, <PIL.Image.Image image mode=RGB size=612x792 at 0x163B30700>, <PIL.Image.Image image mode=RGB size=612x792 at 0x163B30730>, <PIL.Image.Image image mode=RGB size=612x792 at 0x163B30760>, <PIL.Image.Image image mode=RGB size=612x792 at 0x163B30790>, <PIL.Image.Image image mode=RGB size=612x792 at 0x163B307C0>, <PIL.Image.Image image mode=RGB size=612x792 at 0x163B307F0>, <PIL.Image.Image image mode=RGB size=612x792 at 0x163B30820>, <PIL.Image.Image image mode=RGB size=612x792 at 0x163B30850>, <PIL.Image.Image image mode=RGB size=612x792 at 0x163B30880>, <PIL.Image.Image image mode=RGB size=612x792 at 0x163B308B0>, <PIL.Image.Image image mode=RGB size=612x792 at 0x163B308E0>, <PIL.Image.Image image mode=RGB size=612x792 at 0x163B30910>, <PIL.Image.Image image mode=RGB size=612x792 at 0x163B30940>, <PIL.Image.Image image mode=RGB size=612x792 at 0x163B30970>, <PIL.Image.Image image mode=RGB size=612x792 at 0x163B309A0>, <PIL.Image.Image image mode=RGB size=612x792 at 0x163B309D0>, <PIL.Image.Image image mode=RGB size=612x792 at 0x163B30A00>, <PIL.Image.Image image mode=RGB size=612x792 at 0x163B30A30>, <PIL.Image.Image image mode=RGB size=612x792 at 0x163B30A60>, <PIL.Image.Image image mode=RGB size=612x792 at 0x163B30A90>, <PIL.Image.Image image mode=RGB size=612x792 at 0x163B30AC0>, <PIL.Image.Image image mode=RGB size=612x792 at 0x163B30AF0>, <PIL.Image.Image image mode=RGB size=612x792 at 0x163B30B20>, <PIL.Image.Image image mode=RGB size=612x792 at 0x163B30B50>, <PIL.Image.Image image mode=RGB size=612x792 at 0x163B30B80>, <PIL.Image.Image image mode=RGB size=612x792 at 0x163B30BB0>, <PIL.Image.Image image mode=RGB size=612x792 at 0x163B30BE0>, <PIL.Image.Image image mode=RGB size=612x792 at 0x163B30C10>, <PIL.Image.Image image mode=RGB size=612x792 at 0x163B30C40>, <PIL.Image.Image image mode=RGB size=612x792 at 0x163B30C70>, <PIL.Image.Image image mode=RGB size=612x792 at 0x163B30CA0>, <PIL.Image.Image image mode=RGB size=612x792 at 0x163B30CD0>, <PIL.Image.Image image mode=RGB size=612x792 at 0x163B30D00>, <PIL.Image.Image image mode=RGB size=612x792 at 0x163B30D30>, <PIL.Image.Image image mode=RGB size=612x792 at 0x163B30D60>, <PIL.Image.Image image mode=RGB size=612x792 at 0x163B30D90>, <PIL.Image.Image image mode=RGB size=612x792 at 0x163B30DC0>, <PIL.Image.Image image mode=RGB size=612x792 at 0x163B30DF0>, <PIL.Image.Image image mode=RGB size=612x792 at 0x163B30E20>, <PIL.Image.Image image mode=RGB size=612x792 at 0x163B30E50>, <PIL.Image.Image image mode=RGB size=612x792 at 0x163B30E80>, <PIL.Image.Image image mode=RGB size=612x792 at 0x163B30EB0>, <PIL.Image.Image image mode=RGB size=612x792 at 0x163B30EE0>, <PIL.Image.Image image mode=RGB size=612x792 at 0x163B30F10>, <PIL.Image.Image image mode=RGB size=612x792 at 0x163B30F40>, <PIL.Image.Image image mode=RGB size=612x792 at 0x163B30F70>, <PIL.Image.Image image mode=RGB size=612x792 at 0x163B30FA0>, <PIL.Image.Image image mode=RGB size=612x792 at 0x163B30FD0>, <PIL.Image.Image image mode=RGB size=612x792 at 0x163B31000>, <PIL.Image.Image image mode=RGB size=612x792 at 0x163B31030>, <PIL.Image.Image image mode=RGB size=612x792 at 0x163B31060>, <PIL.Image.Image image mode=RGB size=612x792 at 0x163B31090>, <PIL.Image.Image image mode=RGB size=612x792 at 0x163B310C0>, <PIL.Image.Image image mode=RGB size=612x792 at 0x163B310F0>, <PIL.Image.Image image mode=RGB size=612x792 at 0x163B31120>, <PIL.Image.Image image mode=RGB size=612x792 at 0x163B31150>, <PIL.Image.Image image mode=RGB size=612x792 at 0x163B31180>, <PIL.Image.Image image mode=RGB size=612x792 at 0x163B311B0>, <PIL.Image.Image image mode=RGB size=612x792 at 0x163B311E0>, <PIL.Image.Image image mode=RGB size=612x792 at 0x163B31210>, <PIL.Image.Image image mode=RGB size=612x792 at 0x163B31240>, <PIL.Image.Image image mode=RGB size=612x792 at 0x163B31270>], 'widths': [612, 612, 612, 612, 612, 612, 612, 612, 612, 612, 612, 612, 612, 612, 612, 612, 612, 612, 612, 612, 612, 612, 612, 612, 612, 612, 612, 612, 612, 612, 612, 612, 612, 612, 612, 612, 612, 612, 612, 612, 612, 612, 612, 612, 612, 612, 612, 612, 612, 612, 612, 612, 612, 612, 612, 612, 612, 612, 612, 612, 612, 612, 612, 612, 612, 612, 612, 612, 612, 612, 612, 612, 612, 612, 612, 612, 612, 612, 612, 612, 612, 612, 612, 612, 612, 612, 612, 612, 612, 612, 612, 612, 612, 612, 612, 612, 612, 612, 612, 612, 612, 612, 612, 612, 612, 612, 612, 612, 612, 612, 612, 612, 612, 612, 612, 612, 612, 612, 612, 612, 612, 612, 612, 612, 612, 612, 612, 612, 612, 612, 612, 612, 612, 612, 612, 612, 612, 612, 612, 612, 612, 612, 612, 612, 612, 612, 612], 'heights': [792, 792, 792, 792, 792, 792, 792, 792, 792, 792, 792, 792, 792, 792, 792, 792, 792, 792, 792, 792, 792, 792, 792, 792, 792, 792, 792, 792, 792, 792, 792, 792, 792, 792, 792, 792, 792, 792, 792, 792, 792, 792, 792, 792, 792, 792, 792, 792, 792, 792, 792, 792, 792, 792, 792, 792, 792, 792, 792, 792, 792, 792, 792, 792, 792, 792, 792, 792, 792, 792, 792, 792, 792, 792, 792, 792, 792, 792, 792, 792, 792, 792, 792, 792, 792, 792, 792, 792, 792, 792, 792, 792, 792, 792, 792, 792, 792, 792, 792, 792, 792, 792, 792, 792, 792, 792, 792, 792, 792, 792, 792, 792, 792, 792, 792, 792, 792, 792, 792, 792, 792, 792, 792, 792, 792, 792, 792, 792, 792, 792, 792, 792, 792, 792, 792, 792, 792, 792, 792, 792, 792, 792, 792, 792, 792, 792, 792]}, '10-K.pdf': {'name': '10-K.pdf', 'images': [<PIL.Image.Image image mode=RGB size=612x792 at 0x163B312A0>, <PIL.Image.Image image mode=RGB size=612x792 at 0x163B312D0>, <PIL.Image.Image image mode=RGB size=612x792 at 0x163B31330>, <PIL.Image.Image image mode=RGB size=612x792 at 0x163B31300>, <PIL.Image.Image image mode=RGB size=612x792 at 0x163B31360>, <PIL.Image.Image image mode=RGB size=612x792 at 0x163A71FC0>, <PIL.Image.Image image mode=RGB size=612x792 at 0x163B31510>, <PIL.Image.Image image mode=RGB size=612x792 at 0x163B313F0>, <PIL.Image.Image image mode=RGB size=612x792 at 0x163B31420>, <PIL.Image.Image image mode=RGB size=612x792 at 0x163B314E0>, <PIL.Image.Image image mode=RGB size=612x792 at 0x163B31570>, <PIL.Image.Image image mode=RGB size=612x792 at 0x163B30040>, <PIL.Image.Image image mode=RGB size=612x792 at 0x163B314B0>, <PIL.Image.Image image mode=RGB size=612x792 at 0x163B31450>, <PIL.Image.Image image mode=RGB size=612x792 at 0x163B31480>, <PIL.Image.Image image mode=RGB size=612x792 at 0x163B31390>, <PIL.Image.Image image mode=RGB size=612x792 at 0x163B31540>, <PIL.Image.Image image mode=RGB size=612x792 at 0x163B31600>, <PIL.Image.Image image mode=RGB size=612x792 at 0x163B313C0>, <PIL.Image.Image image mode=RGB size=612x792 at 0x163B31660>, <PIL.Image.Image image mode=RGB size=612x792 at 0x163B31690>, <PIL.Image.Image image mode=RGB size=612x792 at 0x163B315D0>, <PIL.Image.Image image mode=RGB size=612x792 at 0x163B316F0>, <PIL.Image.Image image mode=RGB size=612x792 at 0x163B31720>, <PIL.Image.Image image mode=RGB size=612x792 at 0x163B31630>, <PIL.Image.Image image mode=RGB size=612x792 at 0x163B31780>, <PIL.Image.Image image mode=RGB size=612x792 at 0x163B317B0>, <PIL.Image.Image image mode=RGB size=612x792 at 0x163B316C0>, <PIL.Image.Image image mode=RGB size=612x792 at 0x163B31810>, <PIL.Image.Image image mode=RGB size=612x792 at 0x163B31840>, <PIL.Image.Image image mode=RGB size=612x792 at 0x163B31750>, <PIL.Image.Image image mode=RGB size=612x792 at 0x163B318A0>, <PIL.Image.Image image mode=RGB size=612x792 at 0x163B318D0>, <PIL.Image.Image image mode=RGB size=612x792 at 0x163B317E0>, <PIL.Image.Image image mode=RGB size=612x792 at 0x163B31930>, <PIL.Image.Image image mode=RGB size=612x792 at 0x163B31960>, <PIL.Image.Image image mode=RGB size=612x792 at 0x163B31870>, <PIL.Image.Image image mode=RGB size=612x792 at 0x163B319C0>, <PIL.Image.Image image mode=RGB size=612x792 at 0x163B319F0>, <PIL.Image.Image image mode=RGB size=612x792 at 0x163B31900>, <PIL.Image.Image image mode=RGB size=612x792 at 0x163B31A50>, <PIL.Image.Image image mode=RGB size=612x792 at 0x163B31A80>, <PIL.Image.Image image mode=RGB size=612x792 at 0x163B31990>, <PIL.Image.Image image mode=RGB size=612x792 at 0x163B31AE0>, <PIL.Image.Image image mode=RGB size=612x792 at 0x163B31B10>, <PIL.Image.Image image mode=RGB size=612x792 at 0x163B31A20>, <PIL.Image.Image image mode=RGB size=612x792 at 0x163B31B70>, <PIL.Image.Image image mode=RGB size=612x792 at 0x163B31BA0>, <PIL.Image.Image image mode=RGB size=612x792 at 0x163B31AB0>, <PIL.Image.Image image mode=RGB size=612x792 at 0x163B31C00>, <PIL.Image.Image image mode=RGB size=612x792 at 0x163B31C30>, <PIL.Image.Image image mode=RGB size=612x792 at 0x163B31B40>, <PIL.Image.Image image mode=RGB size=612x792 at 0x163B31C90>, <PIL.Image.Image image mode=RGB size=612x792 at 0x163B31CC0>, <PIL.Image.Image image mode=RGB size=612x792 at 0x163B31BD0>, <PIL.Image.Image image mode=RGB size=612x792 at 0x163B31D20>, <PIL.Image.Image image mode=RGB size=612x792 at 0x163B31D50>, <PIL.Image.Image image mode=RGB size=612x792 at 0x163B31C60>, <PIL.Image.Image image mode=RGB size=612x792 at 0x163B31DB0>, <PIL.Image.Image image mode=RGB size=612x792 at 0x163B31DE0>, <PIL.Image.Image image mode=RGB size=612x792 at 0x163B31CF0>, <PIL.Image.Image image mode=RGB size=612x792 at 0x163B31E40>, <PIL.Image.Image image mode=RGB size=612x792 at 0x163B31E70>, <PIL.Image.Image image mode=RGB size=612x792 at 0x163B31D80>, <PIL.Image.Image image mode=RGB size=612x792 at 0x163B31ED0>, <PIL.Image.Image image mode=RGB size=612x792 at 0x163B31F00>, <PIL.Image.Image image mode=RGB size=612x792 at 0x163B31E10>, <PIL.Image.Image image mode=RGB size=612x792 at 0x163B31F60>, <PIL.Image.Image image mode=RGB size=612x792 at 0x163B31F90>, <PIL.Image.Image image mode=RGB size=612x792 at 0x163B31EA0>, <PIL.Image.Image image mode=RGB size=612x792 at 0x163B31FF0>, <PIL.Image.Image image mode=RGB size=612x792 at 0x163B32020>, <PIL.Image.Image image mode=RGB size=612x792 at 0x163B31F30>, <PIL.Image.Image image mode=RGB size=612x792 at 0x163B32080>, <PIL.Image.Image image mode=RGB size=612x792 at 0x163B320B0>, <PIL.Image.Image image mode=RGB size=612x792 at 0x163B31FC0>, <PIL.Image.Image image mode=RGB size=612x792 at 0x163B32110>, <PIL.Image.Image image mode=RGB size=612x792 at 0x163B32140>, <PIL.Image.Image image mode=RGB size=612x792 at 0x163B32050>, <PIL.Image.Image image mode=RGB size=612x792 at 0x163B321A0>, <PIL.Image.Image image mode=RGB size=612x792 at 0x163B321D0>, <PIL.Image.Image image mode=RGB size=612x792 at 0x163B320E0>, <PIL.Image.Image image mode=RGB size=612x792 at 0x163B32230>, <PIL.Image.Image image mode=RGB size=612x792 at 0x163B32260>, <PIL.Image.Image image mode=RGB size=612x792 at 0x163B32170>, <PIL.Image.Image image mode=RGB size=612x792 at 0x163B322C0>, <PIL.Image.Image image mode=RGB size=612x792 at 0x163B322F0>, <PIL.Image.Image image mode=RGB size=612x792 at 0x163B32200>, <PIL.Image.Image image mode=RGB size=612x792 at 0x163B32350>, <PIL.Image.Image image mode=RGB size=612x792 at 0x163B32380>, <PIL.Image.Image image mode=RGB size=612x792 at 0x163B32290>, <PIL.Image.Image image mode=RGB size=612x792 at 0x163B323E0>, <PIL.Image.Image image mode=RGB size=612x792 at 0x163B32410>, <PIL.Image.Image image mode=RGB size=612x792 at 0x163B32320>, <PIL.Image.Image image mode=RGB size=612x792 at 0x163B32470>, <PIL.Image.Image image mode=RGB size=612x792 at 0x163B324A0>, <PIL.Image.Image image mode=RGB size=612x792 at 0x163B323B0>, <PIL.Image.Image image mode=RGB size=612x792 at 0x163B32500>, <PIL.Image.Image image mode=RGB size=612x792 at 0x163B32530>, <PIL.Image.Image image mode=RGB size=612x792 at 0x163B32440>, <PIL.Image.Image image mode=RGB size=612x792 at 0x163B32590>, <PIL.Image.Image image mode=RGB size=612x792 at 0x163B325C0>, <PIL.Image.Image image mode=RGB size=612x792 at 0x163B324D0>, <PIL.Image.Image image mode=RGB size=612x792 at 0x163B32620>, <PIL.Image.Image image mode=RGB size=612x792 at 0x163B32650>, <PIL.Image.Image image mode=RGB size=612x792 at 0x163B32560>, <PIL.Image.Image image mode=RGB size=612x792 at 0x163B326B0>, <PIL.Image.Image image mode=RGB size=612x792 at 0x163B326E0>, <PIL.Image.Image image mode=RGB size=612x792 at 0x163B325F0>, <PIL.Image.Image image mode=RGB size=612x792 at 0x163B32740>, <PIL.Image.Image image mode=RGB size=612x792 at 0x163B32770>, <PIL.Image.Image image mode=RGB size=612x792 at 0x163B32680>, <PIL.Image.Image image mode=RGB size=612x792 at 0x163B327D0>, <PIL.Image.Image image mode=RGB size=612x792 at 0x163B32800>, <PIL.Image.Image image mode=RGB size=612x792 at 0x163B32710>, <PIL.Image.Image image mode=RGB size=612x792 at 0x163B32860>, <PIL.Image.Image image mode=RGB size=612x792 at 0x163B32890>, <PIL.Image.Image image mode=RGB size=612x792 at 0x163B327A0>, <PIL.Image.Image image mode=RGB size=612x792 at 0x163B328F0>, <PIL.Image.Image image mode=RGB size=612x792 at 0x163B32920>, <PIL.Image.Image image mode=RGB size=612x792 at 0x163B32830>, <PIL.Image.Image image mode=RGB size=612x792 at 0x163B32980>, <PIL.Image.Image image mode=RGB size=612x792 at 0x163B329B0>, <PIL.Image.Image image mode=RGB size=612x792 at 0x163B328C0>, <PIL.Image.Image image mode=RGB size=612x792 at 0x163B32A10>, <PIL.Image.Image image mode=RGB size=612x792 at 0x163B32A40>, <PIL.Image.Image image mode=RGB size=612x792 at 0x163B32950>, <PIL.Image.Image image mode=RGB size=612x792 at 0x163B32AA0>, <PIL.Image.Image image mode=RGB size=612x792 at 0x163B32AD0>, <PIL.Image.Image image mode=RGB size=612x792 at 0x163B329E0>, <PIL.Image.Image image mode=RGB size=612x792 at 0x163B32B30>, <PIL.Image.Image image mode=RGB size=612x792 at 0x163B32B60>, <PIL.Image.Image image mode=RGB size=612x792 at 0x163B32A70>, <PIL.Image.Image image mode=RGB size=612x792 at 0x163B32BC0>, <PIL.Image.Image image mode=RGB size=612x792 at 0x163B32BF0>, <PIL.Image.Image image mode=RGB size=612x792 at 0x163B32B00>, <PIL.Image.Image image mode=RGB size=612x792 at 0x163B32C50>, <PIL.Image.Image image mode=RGB size=612x792 at 0x163B32C80>, <PIL.Image.Image image mode=RGB size=612x792 at 0x163B32B90>, <PIL.Image.Image image mode=RGB size=612x792 at 0x163B32CE0>, <PIL.Image.Image image mode=RGB size=612x792 at 0x163B32D10>, <PIL.Image.Image image mode=RGB size=612x792 at 0x163B32C20>, <PIL.Image.Image image mode=RGB size=612x792 at 0x163B32D70>, <PIL.Image.Image image mode=RGB size=612x792 at 0x163B32DA0>, <PIL.Image.Image image mode=RGB size=612x792 at 0x163B32CB0>, <PIL.Image.Image image mode=RGB size=612x792 at 0x163B32E00>, <PIL.Image.Image image mode=RGB size=612x792 at 0x163B32E30>, <PIL.Image.Image image mode=RGB size=612x792 at 0x163B32D40>, <PIL.Image.Image image mode=RGB size=612x792 at 0x163B32E90>, <PIL.Image.Image image mode=RGB size=612x792 at 0x163B32EC0>, <PIL.Image.Image image mode=RGB size=612x792 at 0x163B32DD0>, <PIL.Image.Image image mode=RGB size=612x792 at 0x163B32F20>, <PIL.Image.Image image mode=RGB size=612x792 at 0x163B32F50>, <PIL.Image.Image image mode=RGB size=612x792 at 0x163B32E60>], 'widths': [612, 612, 612, 612, 612, 612, 612, 612, 612, 612, 612, 612, 612, 612, 612, 612, 612, 612, 612, 612, 612, 612, 612, 612, 612, 612, 612, 612, 612, 612, 612, 612, 612, 612, 612, 612, 612, 612, 612, 612, 612, 612, 612, 612, 612, 612, 612, 612, 612, 612, 612, 612, 612, 612, 612, 612, 612, 612, 612, 612, 612, 612, 612, 612, 612, 612, 612, 612, 612, 612, 612, 612, 612, 612, 612, 612, 612, 612, 612, 612, 612, 612, 612, 612, 612, 612, 612, 612, 612, 612, 612, 612, 612, 612, 612, 612, 612, 612, 612, 612, 612, 612, 612, 612, 612, 612, 612, 612, 612, 612, 612, 612, 612, 612, 612, 612, 612, 612, 612, 612, 612, 612, 612, 612, 612, 612, 612, 612, 612, 612, 612, 612, 612, 612, 612, 612, 612, 612, 612, 612, 612, 612, 612, 612, 612, 612, 612, 612, 612, 612, 612, 612, 612, 612], 'heights': [792, 792, 792, 792, 792, 792, 792, 792, 792, 792, 792, 792, 792, 792, 792, 792, 792, 792, 792, 792, 792, 792, 792, 792, 792, 792, 792, 792, 792, 792, 792, 792, 792, 792, 792, 792, 792, 792, 792, 792, 792, 792, 792, 792, 792, 792, 792, 792, 792, 792, 792, 792, 792, 792, 792, 792, 792, 792, 792, 792, 792, 792, 792, 792, 792, 792, 792, 792, 792, 792, 792, 792, 792, 792, 792, 792, 792, 792, 792, 792, 792, 792, 792, 792, 792, 792, 792, 792, 792, 792, 792, 792, 792, 792, 792, 792, 792, 792, 792, 792, 792, 792, 792, 792, 792, 792, 792, 792, 792, 792, 792, 792, 792, 792, 792, 792, 792, 792, 792, 792, 792, 792, 792, 792, 792, 792, 792, 792, 792, 792, 792, 792, 792, 792, 792, 792, 792, 792, 792, 792, 792, 792, 792, 792, 792, 792, 792, 792, 792, 792, 792, 792, 792, 792]}}\n"
          ]
        },
        {
          "name": "stderr",
          "output_type": "stream",
          "text": [
            "Some weights of the model checkpoint at microsoft/table-transformer-detection were not used when initializing TableTransformerForObjectDetection: ['model.backbone.conv_encoder.model.layer3.0.downsample.1.num_batches_tracked', 'model.backbone.conv_encoder.model.layer2.0.downsample.1.num_batches_tracked', 'model.backbone.conv_encoder.model.layer4.0.downsample.1.num_batches_tracked']\n",
            "- This IS expected if you are initializing TableTransformerForObjectDetection from the checkpoint of a model trained on another task or with another architecture (e.g. initializing a BertForSequenceClassification model from a BertForPreTraining model).\n",
            "- This IS NOT expected if you are initializing TableTransformerForObjectDetection from the checkpoint of a model that you expect to be exactly identical (initializing a BertForSequenceClassification model from a BertForSequenceClassification model).\n",
            "/Library/Frameworks/Python.framework/Versions/3.10/lib/python3.10/site-packages/transformers/models/detr/feature_extraction_detr.py:38: FutureWarning: The class DetrFeatureExtractor is deprecated and will be removed in version 5 of Transformers. Please use DetrImageProcessor instead.\n",
            "  warnings.warn(\n"
          ]
        },
        {
          "name": "stdout",
          "output_type": "stream",
          "text": [
            "16 46 590 509\n",
            "TABLE PRESENT\n",
            "{'accuracy': 96.77, 'whitespace': 68.06, 'order': 1, 'page': 0}\n",
            "\n"
          ]
        },
        {
          "name": "stderr",
          "output_type": "stream",
          "text": [
            "/Library/Frameworks/Python.framework/Versions/3.10/lib/python3.10/site-packages/transformers/models/detr/feature_extraction_detr.py:38: FutureWarning: The class DetrFeatureExtractor is deprecated and will be removed in version 5 of Transformers. Please use DetrImageProcessor instead.\n",
            "  warnings.warn(\n"
          ]
        },
        {
          "name": "stdout",
          "output_type": "stream",
          "text": [
            "38 47 569 380\n",
            "TABLE PRESENT\n",
            "{'accuracy': 80.31, 'whitespace': 70.27, 'order': 1, 'page': 1}\n",
            "\n"
          ]
        },
        {
          "name": "stderr",
          "output_type": "stream",
          "text": [
            "/Library/Frameworks/Python.framework/Versions/3.10/lib/python3.10/site-packages/transformers/models/detr/feature_extraction_detr.py:38: FutureWarning: The class DetrFeatureExtractor is deprecated and will be removed in version 5 of Transformers. Please use DetrImageProcessor instead.\n",
            "  warnings.warn(\n"
          ]
        },
        {
          "name": "stdout",
          "output_type": "stream",
          "text": [
            "10 26 598 461\n",
            "TABLE PRESENT\n",
            "{'accuracy': 100.0, 'whitespace': 25.49, 'order': 1, 'page': 2}\n",
            "\n"
          ]
        },
        {
          "name": "stderr",
          "output_type": "stream",
          "text": [
            "/Library/Frameworks/Python.framework/Versions/3.10/lib/python3.10/site-packages/transformers/models/detr/feature_extraction_detr.py:38: FutureWarning: The class DetrFeatureExtractor is deprecated and will be removed in version 5 of Transformers. Please use DetrImageProcessor instead.\n",
            "  warnings.warn(\n"
          ]
        },
        {
          "name": "stdout",
          "output_type": "stream",
          "text": [
            "7 18 606 773\n",
            "{'accuracy': -989.98, 'whitespace': 47.3, 'order': 1, 'page': 3}\n",
            "\n"
          ]
        },
        {
          "name": "stderr",
          "output_type": "stream",
          "text": [
            "/Library/Frameworks/Python.framework/Versions/3.10/lib/python3.10/site-packages/transformers/models/detr/feature_extraction_detr.py:38: FutureWarning: The class DetrFeatureExtractor is deprecated and will be removed in version 5 of Transformers. Please use DetrImageProcessor instead.\n",
            "  warnings.warn(\n"
          ]
        },
        {
          "name": "stdout",
          "output_type": "stream",
          "text": [
            "8 50 582 343\n",
            "TABLE PRESENT\n"
          ]
        },
        {
          "name": "stderr",
          "output_type": "stream",
          "text": [
            "/Library/Frameworks/Python.framework/Versions/3.10/lib/python3.10/site-packages/camelot/parsers/stream.py:365: UserWarning: No tables found in table area 1\n",
            "  warnings.warn(f\"No tables found in table area {table_idx + 1}\")\n",
            "/Library/Frameworks/Python.framework/Versions/3.10/lib/python3.10/site-packages/transformers/models/detr/feature_extraction_detr.py:38: FutureWarning: The class DetrFeatureExtractor is deprecated and will be removed in version 5 of Transformers. Please use DetrImageProcessor instead.\n",
            "  warnings.warn(\n"
          ]
        },
        {
          "name": "stdout",
          "output_type": "stream",
          "text": [
            "{'accuracy': 100.0, 'whitespace': 0.0, 'order': 1, 'page': 4}\n",
            "\n",
            "41 23 548 431\n",
            "TABLE PRESENT\n",
            "{'accuracy': 59.15, 'whitespace': 65.66, 'order': 1, 'page': 5}\n",
            "\n"
          ]
        },
        {
          "name": "stderr",
          "output_type": "stream",
          "text": [
            "/Library/Frameworks/Python.framework/Versions/3.10/lib/python3.10/site-packages/transformers/models/detr/feature_extraction_detr.py:38: FutureWarning: The class DetrFeatureExtractor is deprecated and will be removed in version 5 of Transformers. Please use DetrImageProcessor instead.\n",
            "  warnings.warn(\n"
          ]
        },
        {
          "name": "stdout",
          "output_type": "stream",
          "text": [
            "17 61 577 547\n",
            "TABLE PRESENT\n",
            "{'accuracy': 85.7, 'whitespace': 62.07, 'order': 1, 'page': 6}\n",
            "\n"
          ]
        },
        {
          "name": "stderr",
          "output_type": "stream",
          "text": [
            "/Library/Frameworks/Python.framework/Versions/3.10/lib/python3.10/site-packages/transformers/models/detr/feature_extraction_detr.py:38: FutureWarning: The class DetrFeatureExtractor is deprecated and will be removed in version 5 of Transformers. Please use DetrImageProcessor instead.\n",
            "  warnings.warn(\n"
          ]
        },
        {
          "name": "stdout",
          "output_type": "stream",
          "text": [
            "6 54 595 374\n",
            "TABLE PRESENT\n",
            "{'accuracy': 97.32, 'whitespace': 57.14, 'order': 1, 'page': 7}\n",
            "\n"
          ]
        },
        {
          "name": "stderr",
          "output_type": "stream",
          "text": [
            "/Library/Frameworks/Python.framework/Versions/3.10/lib/python3.10/site-packages/transformers/models/detr/feature_extraction_detr.py:38: FutureWarning: The class DetrFeatureExtractor is deprecated and will be removed in version 5 of Transformers. Please use DetrImageProcessor instead.\n",
            "  warnings.warn(\n"
          ]
        },
        {
          "name": "stdout",
          "output_type": "stream",
          "text": [
            "13 105 474 385\n",
            "TABLE PRESENT\n",
            "{'accuracy': 80.15, 'whitespace': 45.0, 'order': 1, 'page': 8}\n",
            "\n"
          ]
        },
        {
          "name": "stderr",
          "output_type": "stream",
          "text": [
            "/Library/Frameworks/Python.framework/Versions/3.10/lib/python3.10/site-packages/transformers/models/detr/feature_extraction_detr.py:38: FutureWarning: The class DetrFeatureExtractor is deprecated and will be removed in version 5 of Transformers. Please use DetrImageProcessor instead.\n",
            "  warnings.warn(\n"
          ]
        },
        {
          "name": "stdout",
          "output_type": "stream",
          "text": [
            "11 36 579 524\n",
            "TABLE PRESENT\n",
            "{'accuracy': 88.62, 'whitespace': 55.0, 'order': 1, 'page': 9}\n",
            "\n"
          ]
        },
        {
          "name": "stderr",
          "output_type": "stream",
          "text": [
            "/Library/Frameworks/Python.framework/Versions/3.10/lib/python3.10/site-packages/transformers/models/detr/feature_extraction_detr.py:38: FutureWarning: The class DetrFeatureExtractor is deprecated and will be removed in version 5 of Transformers. Please use DetrImageProcessor instead.\n",
            "  warnings.warn(\n"
          ]
        },
        {
          "name": "stdout",
          "output_type": "stream",
          "text": [
            "8 63 590 508\n",
            "TABLE PRESENT\n",
            "{'accuracy': 58.59, 'whitespace': 72.73, 'order': 1, 'page': 10}\n",
            "\n"
          ]
        },
        {
          "name": "stderr",
          "output_type": "stream",
          "text": [
            "/Library/Frameworks/Python.framework/Versions/3.10/lib/python3.10/site-packages/transformers/models/detr/feature_extraction_detr.py:38: FutureWarning: The class DetrFeatureExtractor is deprecated and will be removed in version 5 of Transformers. Please use DetrImageProcessor instead.\n",
            "  warnings.warn(\n"
          ]
        },
        {
          "name": "stdout",
          "output_type": "stream",
          "text": [
            "8 28 605 762\n",
            "{'accuracy': 87.35, 'whitespace': 46.97, 'order': 1, 'page': 11}\n",
            "\n"
          ]
        },
        {
          "name": "stderr",
          "output_type": "stream",
          "text": [
            "/Library/Frameworks/Python.framework/Versions/3.10/lib/python3.10/site-packages/transformers/models/detr/feature_extraction_detr.py:38: FutureWarning: The class DetrFeatureExtractor is deprecated and will be removed in version 5 of Transformers. Please use DetrImageProcessor instead.\n",
            "  warnings.warn(\n"
          ]
        },
        {
          "name": "stdout",
          "output_type": "stream",
          "text": [
            "8 9 595 424\n",
            "TABLE PRESENT\n",
            "SUGGESTED TABLE WAS BLANK SPACE\n"
          ]
        },
        {
          "name": "stderr",
          "output_type": "stream",
          "text": [
            "/Library/Frameworks/Python.framework/Versions/3.10/lib/python3.10/site-packages/transformers/models/detr/feature_extraction_detr.py:38: FutureWarning: The class DetrFeatureExtractor is deprecated and will be removed in version 5 of Transformers. Please use DetrImageProcessor instead.\n",
            "  warnings.warn(\n"
          ]
        },
        {
          "name": "stdout",
          "output_type": "stream",
          "text": [
            "8 57 604 734\n",
            "{'accuracy': 85.29, 'whitespace': 48.53, 'order': 1, 'page': 13}\n",
            "\n"
          ]
        },
        {
          "name": "stderr",
          "output_type": "stream",
          "text": [
            "/Library/Frameworks/Python.framework/Versions/3.10/lib/python3.10/site-packages/transformers/models/detr/feature_extraction_detr.py:38: FutureWarning: The class DetrFeatureExtractor is deprecated and will be removed in version 5 of Transformers. Please use DetrImageProcessor instead.\n",
            "  warnings.warn(\n"
          ]
        },
        {
          "name": "stdout",
          "output_type": "stream",
          "text": [
            "8 10 593 475\n",
            "TABLE PRESENT\n",
            "{'accuracy': 61.79, 'whitespace': 61.9, 'order': 1, 'page': 14}\n",
            "\n"
          ]
        },
        {
          "name": "stderr",
          "output_type": "stream",
          "text": [
            "/Library/Frameworks/Python.framework/Versions/3.10/lib/python3.10/site-packages/transformers/models/detr/feature_extraction_detr.py:38: FutureWarning: The class DetrFeatureExtractor is deprecated and will be removed in version 5 of Transformers. Please use DetrImageProcessor instead.\n",
            "  warnings.warn(\n"
          ]
        },
        {
          "name": "stdout",
          "output_type": "stream",
          "text": [
            "18 77 577 224\n",
            "TABLE PRESENT\n"
          ]
        },
        {
          "name": "stderr",
          "output_type": "stream",
          "text": [
            "/Library/Frameworks/Python.framework/Versions/3.10/lib/python3.10/site-packages/camelot/parsers/stream.py:365: UserWarning: No tables found in table area 1\n",
            "  warnings.warn(f\"No tables found in table area {table_idx + 1}\")\n",
            "/Library/Frameworks/Python.framework/Versions/3.10/lib/python3.10/site-packages/transformers/models/detr/feature_extraction_detr.py:38: FutureWarning: The class DetrFeatureExtractor is deprecated and will be removed in version 5 of Transformers. Please use DetrImageProcessor instead.\n",
            "  warnings.warn(\n"
          ]
        },
        {
          "name": "stdout",
          "output_type": "stream",
          "text": [
            "{'accuracy': 100.0, 'whitespace': 0.0, 'order': 1, 'page': 15}\n",
            "\n",
            "4 58 585 465\n",
            "TABLE PRESENT\n"
          ]
        },
        {
          "name": "stderr",
          "output_type": "stream",
          "text": [
            "/Library/Frameworks/Python.framework/Versions/3.10/lib/python3.10/site-packages/camelot/parsers/stream.py:365: UserWarning: No tables found in table area 1\n",
            "  warnings.warn(f\"No tables found in table area {table_idx + 1}\")\n",
            "/Library/Frameworks/Python.framework/Versions/3.10/lib/python3.10/site-packages/transformers/models/detr/feature_extraction_detr.py:38: FutureWarning: The class DetrFeatureExtractor is deprecated and will be removed in version 5 of Transformers. Please use DetrImageProcessor instead.\n",
            "  warnings.warn(\n"
          ]
        },
        {
          "name": "stdout",
          "output_type": "stream",
          "text": [
            "{'accuracy': 100.0, 'whitespace': 0.0, 'order': 1, 'page': 16}\n",
            "\n",
            "12 89 529 82\n",
            "TABLE PRESENT\n"
          ]
        },
        {
          "name": "stderr",
          "output_type": "stream",
          "text": [
            "/Library/Frameworks/Python.framework/Versions/3.10/lib/python3.10/site-packages/camelot/parsers/stream.py:365: UserWarning: No tables found in table area 1\n",
            "  warnings.warn(f\"No tables found in table area {table_idx + 1}\")\n",
            "/Library/Frameworks/Python.framework/Versions/3.10/lib/python3.10/site-packages/transformers/models/detr/feature_extraction_detr.py:38: FutureWarning: The class DetrFeatureExtractor is deprecated and will be removed in version 5 of Transformers. Please use DetrImageProcessor instead.\n",
            "  warnings.warn(\n"
          ]
        },
        {
          "name": "stdout",
          "output_type": "stream",
          "text": [
            "{'accuracy': 100.0, 'whitespace': 0.0, 'order': 1, 'page': 17}\n",
            "\n",
            "14 92 571 327\n",
            "TABLE PRESENT\n",
            "{'accuracy': 56.03, 'whitespace': 68.33, 'order': 1, 'page': 18}\n",
            "\n"
          ]
        },
        {
          "name": "stderr",
          "output_type": "stream",
          "text": [
            "/Library/Frameworks/Python.framework/Versions/3.10/lib/python3.10/site-packages/transformers/models/detr/feature_extraction_detr.py:38: FutureWarning: The class DetrFeatureExtractor is deprecated and will be removed in version 5 of Transformers. Please use DetrImageProcessor instead.\n",
            "  warnings.warn(\n"
          ]
        },
        {
          "name": "stdout",
          "output_type": "stream",
          "text": [
            "9 69 577 722\n",
            "{'accuracy': 100.0, 'whitespace': 0.0, 'order': 1, 'page': 19}\n",
            "\n"
          ]
        },
        {
          "name": "stderr",
          "output_type": "stream",
          "text": [
            "/Library/Frameworks/Python.framework/Versions/3.10/lib/python3.10/site-packages/transformers/models/detr/feature_extraction_detr.py:38: FutureWarning: The class DetrFeatureExtractor is deprecated and will be removed in version 5 of Transformers. Please use DetrImageProcessor instead.\n",
            "  warnings.warn(\n"
          ]
        },
        {
          "name": "stdout",
          "output_type": "stream",
          "text": [
            "8 41 601 750\n",
            "SUGGESTED TABLE WAS BLANK SPACE\n"
          ]
        },
        {
          "name": "stderr",
          "output_type": "stream",
          "text": [
            "/Library/Frameworks/Python.framework/Versions/3.10/lib/python3.10/site-packages/transformers/models/detr/feature_extraction_detr.py:38: FutureWarning: The class DetrFeatureExtractor is deprecated and will be removed in version 5 of Transformers. Please use DetrImageProcessor instead.\n",
            "  warnings.warn(\n"
          ]
        },
        {
          "name": "stdout",
          "output_type": "stream",
          "text": [
            "19 138 465 327\n",
            "TABLE PRESENT\n"
          ]
        },
        {
          "name": "stderr",
          "output_type": "stream",
          "text": [
            "/Library/Frameworks/Python.framework/Versions/3.10/lib/python3.10/site-packages/camelot/parsers/stream.py:365: UserWarning: No tables found in table area 1\n",
            "  warnings.warn(f\"No tables found in table area {table_idx + 1}\")\n",
            "/Library/Frameworks/Python.framework/Versions/3.10/lib/python3.10/site-packages/transformers/models/detr/feature_extraction_detr.py:38: FutureWarning: The class DetrFeatureExtractor is deprecated and will be removed in version 5 of Transformers. Please use DetrImageProcessor instead.\n",
            "  warnings.warn(\n"
          ]
        },
        {
          "name": "stdout",
          "output_type": "stream",
          "text": [
            "{'accuracy': 89.85, 'whitespace': 0.0, 'order': 1, 'page': 21}\n",
            "\n",
            "15 50 575 405\n",
            "TABLE PRESENT\n",
            "{'accuracy': 73.64, 'whitespace': 18.33, 'order': 1, 'page': 22}\n",
            "\n"
          ]
        },
        {
          "name": "stderr",
          "output_type": "stream",
          "text": [
            "/Library/Frameworks/Python.framework/Versions/3.10/lib/python3.10/site-packages/transformers/models/detr/feature_extraction_detr.py:38: FutureWarning: The class DetrFeatureExtractor is deprecated and will be removed in version 5 of Transformers. Please use DetrImageProcessor instead.\n",
            "  warnings.warn(\n"
          ]
        },
        {
          "name": "stdout",
          "output_type": "stream",
          "text": [
            "18 53 575 402\n",
            "TABLE PRESENT\n",
            "{'accuracy': -176.08, 'whitespace': 54.44, 'order': 1, 'page': 23}\n",
            "\n"
          ]
        },
        {
          "name": "stderr",
          "output_type": "stream",
          "text": [
            "/Library/Frameworks/Python.framework/Versions/3.10/lib/python3.10/site-packages/transformers/models/detr/feature_extraction_detr.py:38: FutureWarning: The class DetrFeatureExtractor is deprecated and will be removed in version 5 of Transformers. Please use DetrImageProcessor instead.\n",
            "  warnings.warn(\n"
          ]
        },
        {
          "name": "stdout",
          "output_type": "stream",
          "text": [
            "13 34 586 390\n",
            "TABLE PRESENT\n",
            "{'accuracy': 1.55, 'whitespace': 47.13, 'order': 1, 'page': 24}\n",
            "\n"
          ]
        },
        {
          "name": "stderr",
          "output_type": "stream",
          "text": [
            "/Library/Frameworks/Python.framework/Versions/3.10/lib/python3.10/site-packages/transformers/models/detr/feature_extraction_detr.py:38: FutureWarning: The class DetrFeatureExtractor is deprecated and will be removed in version 5 of Transformers. Please use DetrImageProcessor instead.\n",
            "  warnings.warn(\n"
          ]
        },
        {
          "name": "stdout",
          "output_type": "stream",
          "text": [
            "14 251 581 142\n",
            "TABLE PRESENT\n"
          ]
        },
        {
          "name": "stderr",
          "output_type": "stream",
          "text": [
            "/Library/Frameworks/Python.framework/Versions/3.10/lib/python3.10/site-packages/camelot/parsers/stream.py:365: UserWarning: No tables found in table area 1\n",
            "  warnings.warn(f\"No tables found in table area {table_idx + 1}\")\n",
            "/Library/Frameworks/Python.framework/Versions/3.10/lib/python3.10/site-packages/transformers/models/detr/feature_extraction_detr.py:38: FutureWarning: The class DetrFeatureExtractor is deprecated and will be removed in version 5 of Transformers. Please use DetrImageProcessor instead.\n",
            "  warnings.warn(\n"
          ]
        },
        {
          "name": "stdout",
          "output_type": "stream",
          "text": [
            "{'accuracy': 100.0, 'whitespace': 0.0, 'order': 1, 'page': 25}\n",
            "\n",
            "18 50 582 572\n",
            "TABLE PRESENT\n",
            "{'accuracy': -236.07, 'whitespace': 60.0, 'order': 1, 'page': 26}\n",
            "\n"
          ]
        },
        {
          "name": "stderr",
          "output_type": "stream",
          "text": [
            "/Library/Frameworks/Python.framework/Versions/3.10/lib/python3.10/site-packages/transformers/models/detr/feature_extraction_detr.py:38: FutureWarning: The class DetrFeatureExtractor is deprecated and will be removed in version 5 of Transformers. Please use DetrImageProcessor instead.\n",
            "  warnings.warn(\n"
          ]
        },
        {
          "name": "stdout",
          "output_type": "stream",
          "text": [
            "7 69 596 326\n",
            "TABLE PRESENT\n"
          ]
        }
      ],
      "source": [
        "\n",
        "path_to_pdfs = \"/Users/danielbasman/Desktop/Desktop - Daniel’s MacBook Pro/MyStuff/Classes/Human In Loop/folder_of_10K/\"\n",
        "path_to_csv = \"/Users/danielbasman/Desktop/Desktop - Daniel’s MacBook Pro/MyStuff/Classes/Human In Loop/data_as_csv/\"\n",
        "\n",
        "data = get_image(path_to_pdfs)\n",
        "print(data)\n",
        "\n",
        "names = list(data)\n",
        "model = TableTransformerForObjectDetection.from_pretrained(\"microsoft/table-transformer-detection\")\n",
        "\n",
        "for name in names[0:1]:\n",
        "    item = data[name]\n",
        "    img = item[\"images\"]\n",
        "    width = item[\"widths\"]\n",
        "    height = item[\"heights\"]\n",
        "    count = 0\n",
        "    for i, j in enumerate(img):\n",
        "        # print(i)\n",
        "        results, feature_extractor = extract_features(j, width[i], height[i], model)\n",
        "        final, max_score_box = sort_results(results)\n",
        "        sorted_dict = convert_results(results)\n",
        "\n",
        "        # print(final)\n",
        "        # plot_results(img, results['scores'], results['labels'], results['boxes'])\n",
        "        # plot_box(img, final)\n",
        "\n",
        "        cropped_image = get_table_image(j, final)\n",
        "\n",
        "        # results, model = table_structure_results(cropped_image, feature_extractor)\n",
        "        # plot_results(cropped_image, results['scores'], results['labels'], results['boxes'])\n",
        "\n",
        "        pdf_path = path_to_pdfs + name\n",
        "\n",
        "        finals = []\n",
        "        for x in final:\n",
        "            finals.append((int(x)))\n",
        "\n",
        "        reorder = [str(finals[1]), str(800 - finals[0]), str(finals[3]), str(800 - finals[2])]\n",
        "        fina = \",\".join(reorder)\n",
        "        inpu = ([str(fina)])\n",
        "\n",
        "        if int(reorder[1])-int(reorder[3]) < 700:\n",
        "            print(\"TABLE PRESENT\")\n",
        "            count += 1\n",
        "            # print()\n",
        "\n",
        "        try:\n",
        "            tables = camelot.read_pdf(pdf_path, pages=str(i), flavor='stream', table_areas = inpu)\n",
        "\n",
        "        except:\n",
        "            print(\"SUGGESTED TABLE WAS BLANK SPACE\")\n",
        "            continue\n",
        "\n",
        "        print(tables[0].parsing_report)\n",
        "        file_name = name.split(\".\")[0] + \"_\" + \"page_\" + str(i) + \".csv\"\n",
        "        # print(file_name)\n",
        "        # print(\"COLUMN COUNT: \" + str(len(tables[0].df.columns)))\n",
        "        print()\n",
        "        # if not os.path.exists(path_to_csv + name.split(\".\")[0] + \"/\"):\n",
        "        # Create the folder if it does not exist\n",
        "            # os.makedirs(path_to_csv + name.split(\".\")[0] + \"/\")\n",
        "            # print(f\"Folder created: \" + str(path_to_csv + name.split(\".\")[0] + \"/\"))\n",
        "        # else:\n",
        "        # If the folder already exists\n",
        "            # print(f\"Folder already exists: \" + str(path_to_csv + name.split(\".\")[0] + \"/\"))\n",
        "\n",
        "        tables[0].to_csv(path_to_csv + file_name)\n",
        "\n",
        "    print(\"COUNT: \" + str(count))\n"
      ]
    }
  ],
  "metadata": {
    "colab": {
      "collapsed_sections": [],
      "include_colab_link": true,
      "provenance": []
    },
    "kernelspec": {
      "display_name": "Python 3",
      "name": "python3"
    },
    "language_info": {
      "codemirror_mode": {
        "name": "ipython",
        "version": 3
      },
      "file_extension": ".py",
      "mimetype": "text/x-python",
      "name": "python",
      "nbconvert_exporter": "python",
      "pygments_lexer": "ipython3",
      "version": "3.10.7"
    }
  },
  "nbformat": 4,
  "nbformat_minor": 0
}
